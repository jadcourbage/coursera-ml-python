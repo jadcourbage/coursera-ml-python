{
 "cells": [
  {
   "cell_type": "markdown",
   "metadata": {},
   "source": [
    "## Machine Learning Online Class \n",
    "##  Exercise 8 Part 2 | Collaborative Filtering\n",
    "Requires : scipy"
   ]
  },
  {
   "cell_type": "markdown",
   "metadata": {},
   "source": [
    "The collaborative filtering algorithm in the setting of movie recommendations considers a set of $n$-dimensional parameter vectors $x^{(1)}, x^{(2)}, ..., x^{(n_m)}$ and $\\theta^{(1)}, \\theta^{(2)}, ..., \\theta^{(n_u)}$ where the model predicts the rating for movie $i$ by user $j$ as $y^{(i,j)}=(\\theta^{(j)})^T x^{(i)}$ <br>\n",
    "Given a dataset that consists of a set of ratings produced by some users on some movies, you wish to learn the parameter vectors\n",
    "$x^{(1)}, ..., x^{(n_m)}, \\theta^{(1)}, ..., \\theta^{(n_u)}$ that produce the best fit (i.e minimize the squared error)"
   ]
  },
  {
   "cell_type": "code",
   "execution_count": 1,
   "metadata": {
    "collapsed": false
   },
   "outputs": [],
   "source": [
    "import warnings\n",
    "warnings.filterwarnings('ignore')\n",
    "\n",
    "import re\n",
    "\n",
    "import numpy as np\n",
    "import matplotlib.pyplot as plt\n",
    "from scipy.io import loadmat\n",
    "from scipy.optimize import minimize\n",
    "\n",
    "%matplotlib inline"
   ]
  },
  {
   "cell_type": "markdown",
   "metadata": {},
   "source": [
    "### Part 1: Loading movie ratings dataset\n",
    "You will start by loading the movie ratings dataset to understand the structure of the data."
   ]
  },
  {
   "cell_type": "code",
   "execution_count": 2,
   "metadata": {
    "collapsed": true
   },
   "outputs": [],
   "source": [
    "data = loadmat('ex8_movies.mat')\n",
    "Y = data['Y']\n",
    "R = data['R']"
   ]
  },
  {
   "cell_type": "code",
   "execution_count": 3,
   "metadata": {
    "collapsed": false
   },
   "outputs": [
    {
     "data": {
      "text/plain": [
       "(1682, 943)"
      ]
     },
     "execution_count": 3,
     "metadata": {},
     "output_type": "execute_result"
    }
   ],
   "source": [
    "# Y is a 1682x943 matrix, containing ratings (1-5) of 1682 movies on 943 users\n",
    "Y.shape"
   ]
  },
  {
   "cell_type": "code",
   "execution_count": 4,
   "metadata": {
    "collapsed": false
   },
   "outputs": [
    {
     "data": {
      "text/plain": [
       "(1682, 943)"
      ]
     },
     "execution_count": 4,
     "metadata": {},
     "output_type": "execute_result"
    }
   ],
   "source": [
    "# R is a 1682x943 matrix, where R(i,j) = 1 if and only if user j gave a rating to movie i\n",
    "R.shape"
   ]
  },
  {
   "cell_type": "code",
   "execution_count": 5,
   "metadata": {
    "collapsed": false
   },
   "outputs": [
    {
     "name": "stdout",
     "output_type": "stream",
     "text": [
      "Average rating for Toy Story is : 3.878319\n",
      "Average rating for Toy Story is : 3.878319\n"
     ]
    }
   ],
   "source": [
    "# From the matrix we can compute stats like average rating\n",
    "# Average rating for movie 1 (\"Toy story\")\n",
    "\n",
    "print('Average rating for Toy Story is : {:.6f}'.format(np.average(Y[0, np.argwhere(Y[0,:] > 0)])))\n",
    "print('Average rating for Toy Story is : {:.6f}'.format(np.average(Y[0,R[0,:]==1])))"
   ]
  },
  {
   "cell_type": "code",
   "execution_count": 6,
   "metadata": {
    "collapsed": false
   },
   "outputs": [
    {
     "data": {
      "text/plain": [
       "<matplotlib.image.AxesImage at 0x91326a0>"
      ]
     },
     "execution_count": 6,
     "metadata": {},
     "output_type": "execute_result"
    },
    {
     "data": {
      "image/png": "[encoded data removed]",
      "text/plain": [
       "<matplotlib.figure.Figure at 0x4f184a8>"
      ]
     },
     "metadata": {},
     "output_type": "display_data"
    }
   ],
   "source": [
    "# We can \"visualize\" the ratings matrix \n",
    "plt.imshow(Y, aspect = 'auto')"
   ]
  },
  {
   "cell_type": "markdown",
   "metadata": {},
   "source": [
    "### Part 2: Collaborative Filtering Cost Function (without regularization)\n",
    "You will now implement the cost function for collaborative filtering.\n",
    "To help you debug your cost function, we have included set of weights\n",
    "that we trained on that. Specifically, you should complete the code in cofiCostFunc.m to return J."
   ]
  },
  {
   "cell_type": "markdown",
   "metadata": {},
   "source": [
    "The collaborative filtering cost function (without regularization) is :\n",
    "$$ J(x^{(1)}, ..., x^{(n_m)}, \\theta^{(1)}, ..., \\theta^{(n_u)})= \\frac{1}{2} \\sum_{(i,j):r(i,j)=1} ((\\theta^{(j)})^T x^{(i)}-y^{(i,j)})^2$$"
   ]
  },
  {
   "cell_type": "code",
   "execution_count": 7,
   "metadata": {
    "collapsed": true
   },
   "outputs": [],
   "source": [
    "def cofiCostFuncNoReg(params, Y, R, num_users, num_movies, num_features):\n",
    "    \n",
    "    # Unfold X and Theta matrices from matrices\n",
    "    X = params[:num_movies*num_features].reshape(num_movies, num_features)\n",
    "    Theta = params[num_movies*num_features:].reshape(num_users, num_features)\n",
    "    \n",
    "    return (1/2)*np.sum(((X.dot(Theta.T)-Y)**2)*R)    "
   ]
  },
  {
   "cell_type": "code",
   "execution_count": 8,
   "metadata": {
    "collapsed": true
   },
   "outputs": [],
   "source": [
    "# Load pre-trained weights\n",
    "weights = loadmat('ex8_movieParams.mat')\n",
    "X = weights['X']\n",
    "Theta = weights['Theta']"
   ]
  },
  {
   "cell_type": "code",
   "execution_count": 9,
   "metadata": {
    "collapsed": false
   },
   "outputs": [],
   "source": [
    "# Reduce the data set size so that this runs faster\n",
    "num_users = 4; num_movies = 5; num_features = 3;\n",
    "X = X[:num_movies, :num_features]\n",
    "Theta = Theta[:num_users, :num_features]\n",
    "Y = Y[:num_movies, :num_users]\n",
    "R = R[:num_movies, :num_users]"
   ]
  },
  {
   "cell_type": "code",
   "execution_count": 10,
   "metadata": {
    "collapsed": false
   },
   "outputs": [],
   "source": [
    "# Fold parameters\n",
    "params = np.concatenate((X.flatten(),Theta.flatten()))"
   ]
  },
  {
   "cell_type": "code",
   "execution_count": 11,
   "metadata": {
    "collapsed": false
   },
   "outputs": [
    {
     "name": "stdout",
     "output_type": "stream",
     "text": [
      "Cost at loaded parameters : 22.22\n",
      "This value should be around 22.22\n"
     ]
    }
   ],
   "source": [
    "J = cofiCostFuncNoReg(params, Y, R, num_users, num_movies, num_features)\n",
    "print('Cost at loaded parameters : {:.2f}'.format(J))\n",
    "print('This value should be around 22.22')"
   ]
  },
  {
   "cell_type": "markdown",
   "metadata": {},
   "source": [
    "### Part 3: Collaborative Filtering Gradient"
   ]
  },
  {
   "cell_type": "markdown",
   "metadata": {},
   "source": [
    "The gradients of the cost function are given by :\n",
    "$$\\frac{\\partial J}{\\partial x_k^{(i)}}  = \\sum_{j:r(i,j)=1} ((\\theta^{(j)})^T x^{(i)}-y^{(i,j)}) \\theta_k^{(j)} $$\n",
    "$$\\frac{\\partial J}{\\partial \\theta_k^{(j)}}  = \\sum_{i:r(i,j)=1} ((\\theta^{(j)})^T x^{(i)}-y^{(i,j)})x_k^{(i)} $$"
   ]
  },
  {
   "cell_type": "code",
   "execution_count": 12,
   "metadata": {
    "collapsed": false
   },
   "outputs": [],
   "source": [
    "def cofiGradFuncNoReg(params, Y, R, num_users, num_movies, num_features):\n",
    "    \n",
    "    # Unfold X and Theta matrices from matrices\n",
    "    X = params[:num_movies*num_features].reshape(num_movies, num_features)\n",
    "    Theta = params[num_movies*num_features:].reshape(num_users, num_features)\n",
    "    \n",
    "    # Compute gradients\n",
    "    X_grad = ((X.dot(Theta.T)-Y)*R).dot(Theta)\n",
    "    Theta_grad = ((X.dot(Theta.T)-Y)*R).T.dot(X)\n",
    "    \n",
    "    # Fold\n",
    "    return np.concatenate((X_grad.flatten(),Theta_grad.flatten()))      "
   ]
  },
  {
   "cell_type": "markdown",
   "metadata": {},
   "source": [
    "##### Check gradients  (vs finite difference)"
   ]
  },
  {
   "cell_type": "code",
   "execution_count": 13,
   "metadata": {
    "collapsed": true
   },
   "outputs": [],
   "source": [
    "# Finite difference approx\n",
    "def computeNumericalGradient(func, x):\n",
    "    eps = 1e-4\n",
    "      \n",
    "    perturb = np.zeros(x.size)\n",
    "    findiff = np.zeros(x.size)\n",
    "    \n",
    "    for p in range(x.size):\n",
    "        perturb[p] = eps\n",
    "        findiff[p] = (func(x + perturb) - func(x - perturb)) / (2 * eps)       \n",
    "        perturb = np.zeros(x.size)       \n",
    "\n",
    "        \n",
    "    return findiff"
   ]
  },
  {
   "cell_type": "code",
   "execution_count": 14,
   "metadata": {
    "collapsed": true
   },
   "outputs": [],
   "source": [
    "def checkGradientNoReg():\n",
    "    \n",
    "    # Create a small problem\n",
    "    X_t = np.random.rand(4,3)\n",
    "    Theta_t = np.random.rand(5,3)\n",
    "    \n",
    "    # Zap out most entries\n",
    "    Y = X_t.dot(Theta_t.T)\n",
    "    Y[np.random.rand(Y.shape[0],Y.shape[1]) > 0.5] = 0\n",
    "    \n",
    "    R = np.zeros(Y.shape)\n",
    "    R[Y != 0] = 1\n",
    "    \n",
    "    # Run gradient checking\n",
    "    X = np.random.randn(X_t.shape[0], X_t.shape[1])\n",
    "    Theta = np.random.randn(Theta_t.shape[0], Theta_t.shape[1])\n",
    "    num_users = Y.shape[1]\n",
    "    num_movies = Y.shape[0]\n",
    "    num_features = Theta_t.shape[1]\n",
    "    \n",
    "    params = np.concatenate((X.flatten(),Theta.flatten()))\n",
    "    \n",
    "    numgrad = computeNumericalGradient(lambda p: cofiCostFuncNoReg(p, Y, R, num_users, num_movies, num_features), params)   \n",
    "    grad = cofiGradFuncNoReg(params, Y, R, num_users, num_movies, num_features)\n",
    "    \n",
    "    result = np.c_[numgrad, grad]\n",
    "    \n",
    "    print(\"The following columns should be very similar \\n\")\n",
    "    print(\"Left - Numerical Gradient, Right - Analytical Gradient\\n\")\n",
    "    print(result)\n",
    "    \n",
    "    # Evaluate the norm of the difference\n",
    "    diff = np.linalg.norm(numgrad - grad) / np.linalg.norm(numgrad + grad)\n",
    "    \n",
    "    print(\"If your implementation is correct, then\")\n",
    "    print(\"the relative difference will be small (less than 1e-9)\\n\")\n",
    "    print(\"Relative difference : {}\".format(diff))    "
   ]
  },
  {
   "cell_type": "code",
   "execution_count": 15,
   "metadata": {
    "collapsed": false
   },
   "outputs": [
    {
     "name": "stdout",
     "output_type": "stream",
     "text": [
      "The following columns should be very similar \n",
      "\n",
      "Left - Numerical Gradient, Right - Analytical Gradient\n",
      "\n",
      "[[  1.13721576   1.13721576]\n",
      " [  1.10515605   1.10515605]\n",
      " [ -1.47903819  -1.47903819]\n",
      " [  0.           0.        ]\n",
      " [  0.           0.        ]\n",
      " [  0.           0.        ]\n",
      " [ -0.22143253  -0.22143253]\n",
      " [ 17.70912184  17.70912184]\n",
      " [-21.57302528 -21.57302528]\n",
      " [  0.71301124   0.71301124]\n",
      " [  2.33395297   2.33395297]\n",
      " [ -6.12808175  -6.12808175]\n",
      " [ 15.2795926   15.2795926 ]\n",
      " [-11.14944462 -11.14944462]\n",
      " [ 10.84188235  10.84188235]\n",
      " [  1.00309379   1.00309379]\n",
      " [ -0.66818421  -0.66818421]\n",
      " [  1.3762857    1.3762857 ]\n",
      " [ -4.31998735  -4.31998735]\n",
      " [  4.37129402   4.37129402]\n",
      " [ -2.0903636   -2.0903636 ]\n",
      " [ 10.09035342  10.09035342]\n",
      " [ -8.0268956   -8.0268956 ]\n",
      " [  6.03798653   6.03798653]\n",
      " [  0.70711695   0.70711695]\n",
      " [ -0.02860089  -0.02860089]\n",
      " [  1.32512603   1.32512604]]\n",
      "If your implementation is correct, then\n",
      "the relative difference will be small (less than 1e-9)\n",
      "\n",
      "Relative difference : 1.5753566370382758e-12\n"
     ]
    }
   ],
   "source": [
    "checkGradientNoReg()"
   ]
  },
  {
   "cell_type": "markdown",
   "metadata": {},
   "source": [
    "### Part 4: Collaborative Filtering Cost Regularization"
   ]
  },
  {
   "cell_type": "markdown",
   "metadata": {},
   "source": [
    "The collaborative filtering cost function (with regularization) is :\n",
    "$$ J(x^{(1)}, ..., x^{(n_m)}, \\theta^{(1)}, ..., \\theta^{(n_u)})= \\frac{1}{2} \\sum_{(i,j):r(i,j)=1} ((\\theta^{(j)})^T x^{(i)}-y^{(i,j)})^2 + \\frac{\\lambda}{2}\\sum_{j=1}^{n_u}\\sum_{k=1}^{n} (\\theta_k^{(j)})^2  + \\frac{\\lambda}{2}\\sum_{i=1}^{n_m}\\sum_{k=1}^{n} (x_k^{(i)})^2  $$"
   ]
  },
  {
   "cell_type": "markdown",
   "metadata": {},
   "source": [
    "The collaborative filtering gradients (with regularization) are :\n",
    "$$\\frac{\\partial J}{\\partial x_k^{(i)}}  = \\sum_{j:r(i,j)=1} ((\\theta^{(j)})^T x^{(i)}-y^{(i,j)}) \\theta_k^{(j)} + \\lambda x_k^{(i)}$$\n",
    "$$\\frac{\\partial J}{\\partial \\theta_k^{(j)}}  = \\sum_{i:r(i,j)=1} ((\\theta^{(j)})^T x^{(i)}-y^{(i,j)})x_k^{(i)} + \\lambda \\Theta_k^{(j)} $$"
   ]
  },
  {
   "cell_type": "code",
   "execution_count": 16,
   "metadata": {
    "collapsed": false
   },
   "outputs": [],
   "source": [
    "# Cost and grad functions with regularization\n",
    "def cofiCostFunc(params, Y, R, num_users, num_movies, num_features, lambda_reg = 0):\n",
    "    \n",
    "    # Unfold X and Theta matrices from matrices\n",
    "    X = params[:num_movies*num_features].reshape(num_movies, num_features)\n",
    "    Theta = params[num_movies*num_features:].reshape(num_users, num_features)\n",
    "    \n",
    "    return (1/2)*np.sum(((X.dot(Theta.T)-Y)**2)*R) + (lambda_reg / 2) * np.sum(np.sum(Theta**2)) + (lambda_reg / 2) * np.sum(np.sum(X**2))"
   ]
  },
  {
   "cell_type": "code",
   "execution_count": 17,
   "metadata": {
    "collapsed": true
   },
   "outputs": [],
   "source": [
    "def cofiGradFunc(params, Y, R, num_users, num_movies, num_features, lambda_reg = 0):\n",
    "    \n",
    "    # Unfold X and Theta matrices from matrices\n",
    "    X = params[:num_movies*num_features].reshape(num_movies, num_features)\n",
    "    Theta = params[num_movies*num_features:].reshape(num_users, num_features)\n",
    "    \n",
    "    # Compute gradients\n",
    "    X_grad = ((X.dot(Theta.T)-Y)*R).dot(Theta) + lambda_reg * X\n",
    "    Theta_grad = ((X.dot(Theta.T)-Y)*R).T.dot(X) + lambda_reg * Theta\n",
    "    \n",
    "    # Fold\n",
    "    return np.concatenate((X_grad.flatten(),Theta_grad.flatten()))   "
   ]
  },
  {
   "cell_type": "code",
   "execution_count": 18,
   "metadata": {
    "collapsed": false
   },
   "outputs": [
    {
     "name": "stdout",
     "output_type": "stream",
     "text": [
      "Cost at loaded parameters (lambda = 1.5) : 31.34\n",
      "This value should be around 31.34\n"
     ]
    }
   ],
   "source": [
    "# Test cost function with regularization\n",
    "J = cofiCostFunc(params, Y, R, num_users, num_movies, num_features, 1.5)\n",
    "print('Cost at loaded parameters (lambda = 1.5) : {:.2f}'.format(J))\n",
    "print('This value should be around 31.34')"
   ]
  },
  {
   "cell_type": "markdown",
   "metadata": {},
   "source": [
    "### Part 5: Collaborative Filtering Gradient Regularization"
   ]
  },
  {
   "cell_type": "code",
   "execution_count": 19,
   "metadata": {
    "collapsed": true
   },
   "outputs": [],
   "source": [
    "# Gradeint checking. Same as below but with lambda\n",
    "def checkGradient(lambda_reg = 0):\n",
    "    \n",
    "    # Create a small problem\n",
    "    X_t = np.random.rand(4,3)\n",
    "    Theta_t = np.random.rand(5,3)\n",
    "    \n",
    "    # Zap out most entries\n",
    "    Y = X_t.dot(Theta_t.T)\n",
    "    Y[np.random.rand(Y.shape[0],Y.shape[1]) > 0.5] = 0\n",
    "    \n",
    "    R = np.zeros(Y.shape)\n",
    "    R[Y != 0] = 1\n",
    "    \n",
    "    # Run gradient checking\n",
    "    X = np.random.randn(X_t.shape[0], X_t.shape[1])\n",
    "    Theta = np.random.randn(Theta_t.shape[0], Theta_t.shape[1])\n",
    "    num_users = Y.shape[1]\n",
    "    num_movies = Y.shape[0]\n",
    "    num_features = Theta_t.shape[1]\n",
    "    \n",
    "    params = np.concatenate((X.flatten(),Theta.flatten()))\n",
    "    \n",
    "    numgrad = computeNumericalGradient(lambda p: cofiCostFunc(p, Y, R, num_users, num_movies, num_features, lambda_reg), params)   \n",
    "    grad = cofiGradFunc(params, Y, R, num_users, num_movies, num_features, lambda_reg)\n",
    "    \n",
    "    result = np.c_[numgrad, grad]\n",
    "    \n",
    "    print(\"The following columns should be very similar \\n\")\n",
    "    print(\"Left - Numerical Gradient, Right - Analytical Gradient\\n\")\n",
    "    print(result)\n",
    "    \n",
    "    # Evaluate the norm of the difference\n",
    "    diff = np.linalg.norm(numgrad - grad) / np.linalg.norm(numgrad + grad)\n",
    "    \n",
    "    print(\"If your implementation is correct, then\")\n",
    "    print(\"the relative difference will be small (less than 1e-9)\\n\")\n",
    "    print(\"Relative difference : {}\".format(diff))   "
   ]
  },
  {
   "cell_type": "code",
   "execution_count": 20,
   "metadata": {
    "collapsed": false
   },
   "outputs": [
    {
     "name": "stdout",
     "output_type": "stream",
     "text": [
      "The following columns should be very similar \n",
      "\n",
      "Left - Numerical Gradient, Right - Analytical Gradient\n",
      "\n",
      "[[ 7.28187343  7.28187343]\n",
      " [ 0.37280172  0.37280172]\n",
      " [ 3.08128003  3.08128003]\n",
      " [ 4.68536931  4.68536931]\n",
      " [ 4.52720718  4.52720718]\n",
      " [-2.64229983 -2.64229983]\n",
      " [ 0.17311045  0.17311045]\n",
      " [-1.5064766  -1.5064766 ]\n",
      " [-4.3273872  -4.3273872 ]\n",
      " [ 6.7433064   6.7433064 ]\n",
      " [ 3.09395465  3.09395465]\n",
      " [ 8.63375929  8.63375929]\n",
      " [-4.97455839 -4.97455839]\n",
      " [-2.10471397 -2.10471397]\n",
      " [-1.63427382 -1.63427382]\n",
      " [-4.24312398 -4.24312398]\n",
      " [ 1.87590782  1.87590782]\n",
      " [-3.45543252 -3.45543252]\n",
      " [ 5.88680942  5.88680942]\n",
      " [ 2.70753114  2.70753114]\n",
      " [-0.4380753  -0.4380753 ]\n",
      " [ 4.72390116  4.72390116]\n",
      " [ 2.8037743   2.8037743 ]\n",
      " [ 7.57664961  7.57664961]\n",
      " [-7.10007369 -7.10007369]\n",
      " [-2.61659504 -2.61659504]\n",
      " [ 0.38845261  0.38845261]]\n",
      "If your implementation is correct, then\n",
      "the relative difference will be small (less than 1e-9)\n",
      "\n",
      "Relative difference : 2.7713673508429078e-12\n"
     ]
    }
   ],
   "source": [
    "# checking gradients (with regularization)\n",
    "lambda_test = 1.5\n",
    "checkGradient(lambda_test )"
   ]
  },
  {
   "cell_type": "markdown",
   "metadata": {},
   "source": [
    "###  Part 6: Entering ratings for a new user\n",
    "Before we will train the collaborative filtering model, we will first add ratings that correspond to a new user that we just observed. <br>\n",
    "This part of the code will also allow you to put in your own ratings for the movies in our dataset!"
   ]
  },
  {
   "cell_type": "code",
   "execution_count": 21,
   "metadata": {
    "collapsed": true
   },
   "outputs": [],
   "source": [
    "def loadMovieList():\n",
    "    \n",
    "    n = 1682\n",
    "    \n",
    "    # Initialize empty array\n",
    "    movieList = np.array(['' for _ in range(n)], dtype=object) \n",
    "    \n",
    "    with open('movie_ids.txt') as fp:  \n",
    "        line = fp.readline()\n",
    "        cnt = 0\n",
    "        while line:    \n",
    "            # print(\"{}\".format(re.split(\"\\d+\\s+\", line.strip(), maxsplit=1)[1]))\n",
    "            movieList[cnt] = re.split(\"\\d+\\s+\", line.strip(), maxsplit=1)[1]\n",
    "            line = fp.readline()\n",
    "            cnt += 1\n",
    "            \n",
    "    return movieList    "
   ]
  },
  {
   "cell_type": "code",
   "execution_count": 22,
   "metadata": {
    "collapsed": false
   },
   "outputs": [],
   "source": [
    "movieList = loadMovieList()"
   ]
  },
  {
   "cell_type": "code",
   "execution_count": 23,
   "metadata": {
    "collapsed": false
   },
   "outputs": [],
   "source": [
    "# Initialize my ratings\n",
    "my_ratings = np.zeros((1682, 1))"
   ]
  },
  {
   "cell_type": "code",
   "execution_count": 24,
   "metadata": {
    "collapsed": false
   },
   "outputs": [],
   "source": [
    "# Check the file movie_idx.txt for id of each movie in our dataset\n",
    "# For example, Toy Story (1995) has ID 0, so to rate it \"4\", you can set\n",
    "my_ratings[0] = 4"
   ]
  },
  {
   "cell_type": "code",
   "execution_count": 25,
   "metadata": {
    "collapsed": true
   },
   "outputs": [],
   "source": [
    "# Or suppose did not enjoy Silence of the Lambs (1991), you can set\n",
    "my_ratings[97] = 2"
   ]
  },
  {
   "cell_type": "code",
   "execution_count": 26,
   "metadata": {
    "collapsed": true
   },
   "outputs": [],
   "source": [
    "# We have selected a few movies we liked / did not like and the ratings we\n",
    "# gave are as follows:\n",
    "my_ratings[6] = 3\n",
    "my_ratings[11]= 5\n",
    "my_ratings[53] = 4\n",
    "my_ratings[63]= 5\n",
    "my_ratings[65]= 3\n",
    "my_ratings[68] = 5\n",
    "my_ratings[182] = 4\n",
    "my_ratings[225] = 5\n",
    "my_ratings[354]= 5"
   ]
  },
  {
   "cell_type": "code",
   "execution_count": 27,
   "metadata": {
    "collapsed": false
   },
   "outputs": [
    {
     "name": "stdout",
     "output_type": "stream",
     "text": [
      "New user ratings : \n",
      "Rated 4 for Toy Story (1995)\n",
      "Rated 3 for Twelve Monkeys (1995)\n",
      "Rated 5 for Usual Suspects, The (1995)\n",
      "Rated 4 for Outbreak (1995)\n",
      "Rated 5 for Shawshank Redemption, The (1994)\n",
      "Rated 3 for While You Were Sleeping (1995)\n",
      "Rated 5 for Forrest Gump (1994)\n",
      "Rated 2 for Silence of the Lambs, The (1991)\n",
      "Rated 4 for Alien (1979)\n",
      "Rated 5 for Die Hard 2 (1990)\n",
      "Rated 5 for Sphere (1998)\n"
     ]
    }
   ],
   "source": [
    "print(\"New user ratings : \")\n",
    "for el in np.argwhere(my_ratings !=0)[:,0]:\n",
    "    print(\"Rated {} for\".format(np.asscalar(my_ratings[el].astype('int'))), movieList[el])\n",
    "    #print(my_ratings[el])"
   ]
  },
  {
   "cell_type": "markdown",
   "metadata": {},
   "source": [
    "### Part 7: Learning Movie Ratings\n",
    "Now, you will train the collaborative filtering model on a movie rating dataset of 1682 movies and 943 users"
   ]
  },
  {
   "cell_type": "code",
   "execution_count": 28,
   "metadata": {
    "collapsed": true
   },
   "outputs": [],
   "source": [
    "# Reload data\n",
    "data = loadmat('ex8_movies.mat')\n",
    "Y = data['Y']\n",
    "R = data['R']"
   ]
  },
  {
   "cell_type": "code",
   "execution_count": 29,
   "metadata": {
    "collapsed": false
   },
   "outputs": [],
   "source": [
    "# Add our own ratings to the data matrix\n",
    "Y = np.c_[my_ratings, Y];\n",
    "R = np.c_[(my_ratings!=0).astype('int'), R]"
   ]
  },
  {
   "cell_type": "code",
   "execution_count": 30,
   "metadata": {
    "collapsed": false
   },
   "outputs": [],
   "source": [
    "# Normalize Ratings by movie (so that each movie has a rating of 0 on average)\n",
    "\n",
    "def normalizeRatings(Y,R):\n",
    "    # Enters the power of masked arrays !!!\n",
    "    # Mask Y values where R=0\n",
    "    Y_masked = np.ma.masked_array(Y, mask = (R==0))\n",
    "    \n",
    "    # Compute mean on masked array\n",
    "    Y_masked_mean = Y_masked.mean(axis = 1).reshape(-1,1)\n",
    "    \n",
    "    # Compute normalized matrix\n",
    "    Ynorm_masked = Y_masked - Y_masked_mean\n",
    "    \n",
    "    # \"Unmask\" filling makes values with 0s\n",
    "    Ynorm = np.ma.filled(Ynorm_masked, fill_value = 0)\n",
    "    Ymean = np.ma.filled(Y_masked_mean, fill_value = 0)\n",
    "\n",
    "    # 1 line\n",
    "    # np.ma.filled((np.ma.masked_array(Y, mask = (R==0))- np.ma.masked_array(Y, mask = (R==0)).mean(axis = 1).reshape(-1,1)),fill_value = 0)\n",
    "        \n",
    "    return Ynorm, Ymean"
   ]
  },
  {
   "cell_type": "code",
   "execution_count": 31,
   "metadata": {
    "collapsed": false
   },
   "outputs": [],
   "source": [
    "Ynorm, Ymean =  normalizeRatings(Y,R)"
   ]
  },
  {
   "cell_type": "code",
   "execution_count": 32,
   "metadata": {
    "collapsed": false
   },
   "outputs": [],
   "source": [
    "# Useful values\n",
    "num_movies, num_users = Y.shape\n",
    "num_features = 10"
   ]
  },
  {
   "cell_type": "code",
   "execution_count": 33,
   "metadata": {
    "collapsed": false
   },
   "outputs": [],
   "source": [
    "# Set Initial Parameters (Theta, X) as random values from normalized gaussian\n",
    "X = np.random.randn(num_movies, num_features)\n",
    "Theta = np.random.randn(num_users, num_features)\n",
    "initial_params = np.concatenate((X.flatten(),Theta.flatten()))"
   ]
  },
  {
   "cell_type": "code",
   "execution_count": 34,
   "metadata": {
    "collapsed": false
   },
   "outputs": [
    {
     "name": "stdout",
     "output_type": "stream",
     "text": [
      "Warning: Maximum number of iterations has been exceeded.\n",
      "         Current function value: 38952.172798\n",
      "         Iterations: 100\n",
      "         Function evaluations: 149\n",
      "         Gradient evaluations: 149\n"
     ]
    }
   ],
   "source": [
    "# Set regularization\n",
    "lambda_reg = 10\n",
    "\n",
    "find_optimal_params = minimize(fun=cofiCostFunc, x0=initial_params ,\n",
    "method = 'cg', jac=cofiGradFunc, args = (Ynorm, R, num_users, num_movies, num_features, lambda_reg), options={'maxiter':100, 'disp':True})\n"
   ]
  },
  {
   "cell_type": "code",
   "execution_count": 35,
   "metadata": {
    "collapsed": true
   },
   "outputs": [],
   "source": [
    "# Unfold X and Theta matrices from matrices\n",
    "X = find_optimal_params.x[:num_movies*num_features].reshape(num_movies, num_features)\n",
    "Theta = find_optimal_params.x[num_movies*num_features:].reshape(num_users, num_features)"
   ]
  },
  {
   "cell_type": "markdown",
   "metadata": {},
   "source": [
    "### Part 8: Recommendation for you\n",
    "After training the model, you can now make recommendations by computing the predictions matrix."
   ]
  },
  {
   "cell_type": "code",
   "execution_count": 36,
   "metadata": {
    "collapsed": true
   },
   "outputs": [],
   "source": [
    "p = X.dot(Theta.T)\n",
    "my_predictions = p[:,0] + Ymean[:,0]"
   ]
  },
  {
   "cell_type": "code",
   "execution_count": 37,
   "metadata": {
    "collapsed": false
   },
   "outputs": [],
   "source": [
    "movieList = loadMovieList()"
   ]
  },
  {
   "cell_type": "code",
   "execution_count": 38,
   "metadata": {
    "collapsed": false
   },
   "outputs": [
    {
     "name": "stdout",
     "output_type": "stream",
     "text": [
      "Top recommendations for you : \n",
      "Predicting rating 5.00 for movie Toy Story (1995)\n",
      "Predicting rating 5.00 for movie GoldenEye (1995)\n",
      "Predicting rating 5.00 for movie Four Rooms (1995)\n",
      "Predicting rating 5.00 for movie Get Shorty (1995)\n",
      "Predicting rating 5.00 for movie Copycat (1995)\n",
      "Predicting rating 5.00 for movie Shanghai Triad (Yao a yao yao dao waipo qiao) (1995)\n",
      "Predicting rating 5.00 for movie Twelve Monkeys (1995)\n",
      "Predicting rating 5.00 for movie Babe (1995)\n",
      "Predicting rating 5.00 for movie Dead Man Walking (1995)\n",
      "Predicting rating 5.00 for movie Richard III (1995)\n",
      "Predicting rating 4.64 for movie Seven (Se7en) (1995)\n",
      "Predicting rating 4.63 for movie Usual Suspects, The (1995)\n",
      "Predicting rating 4.56 for movie Mighty Aphrodite (1995)\n",
      "Predicting rating 4.52 for movie Postino, Il (1994)\n",
      "Predicting rating 4.50 for movie Mr. Holland's Opus (1995)\n",
      "Predicting rating 4.50 for movie French Twist (Gazon maudit) (1995)\n",
      "Predicting rating 4.50 for movie From Dusk Till Dawn (1996)\n",
      "Predicting rating 4.49 for movie White Balloon, The (1995)\n",
      "Predicting rating 4.49 for movie Antonia's Line (1995)\n",
      "Predicting rating 4.48 for movie Angels and Insects (1995)\n"
     ]
    }
   ],
   "source": [
    "sorted_pred = my_predictions.argsort()[::-1]\n",
    "\n",
    "print ('Top recommendations for you : ')\n",
    "\n",
    "for i in range(20):\n",
    "    print('Predicting rating {:.2f} for movie {}'.format(my_predictions[sorted_pred[i]], movieList[i]))   "
   ]
  },
  {
   "cell_type": "markdown",
   "metadata": {},
   "source": [
    "### END"
   ]
  }
 ],
 "metadata": {
  "kernelspec": {
   "display_name": "Python 3",
   "language": "python",
   "name": "python3"
  },
  "language_info": {
   "codemirror_mode": {
    "name": "ipython",
    "version": 3
   },
   "file_extension": ".py",
   "mimetype": "text/x-python",
   "name": "python",
   "nbconvert_exporter": "python",
   "pygments_lexer": "ipython3",
   "version": "3.6.0"
  }
 },
 "nbformat": 4,
 "nbformat_minor": 2
}
