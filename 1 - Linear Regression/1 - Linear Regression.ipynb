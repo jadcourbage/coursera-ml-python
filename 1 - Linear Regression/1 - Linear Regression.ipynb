{
 "cells": [
  {
   "cell_type": "markdown",
   "metadata": {},
   "source": [
    "## Machine Learning Online Class - Exercise 1: Linear Regression\n",
    "Requires : numpy, matplotlib, scikit-learn"
   ]
  },
  {
   "cell_type": "markdown",
   "metadata": {},
   "source": [
    "### Introduction"
   ]
  },
  {
   "cell_type": "markdown",
   "metadata": {},
   "source": [
    "In this exercise, you will implement linear regression and get to see it work\n",
    "on data."
   ]
  },
  {
   "cell_type": "markdown",
   "metadata": {},
   "source": [
    "### Python imports"
   ]
  },
  {
   "cell_type": "code",
   "execution_count": 34,
   "metadata": {
    "collapsed": true
   },
   "outputs": [],
   "source": [
    "import numpy as np\n",
    "\n",
    "import matplotlib.pyplot as plt\n",
    "from matplotlib import animation, rc, cm\n",
    "from mpl_toolkits.mplot3d import axes3d\n",
    "\n",
    "from IPython.display import HTML\n",
    "\n",
    "from sklearn.linear_model import LinearRegression\n",
    "\n",
    "%matplotlib inline\n",
    "rc('animation', html='html5')"
   ]
  },
  {
   "cell_type": "markdown",
   "metadata": {},
   "source": [
    "## Linear regression with one variable"
   ]
  },
  {
   "cell_type": "markdown",
   "metadata": {},
   "source": [
    "In this part of this exercise, you will implement linear regression with one variable to predict profits for a food truck.<br> Suppose you are the CEO of a restaurant franchise and are considering different cities for opening a new outlet.<br>\n",
    "The chain already has trucks in various cities and you have data for profits and populations from the cities.<br>\n",
    "You would like to use this data to help you select which city to expand to next.<br>\n",
    "The file ex1data1.txt contains the dataset for our linear regression problem. <br>\n",
    "The first column is the population of a city and the second column is the profit of a food truck in that city.\n",
    "A negative value for profit indicates a loss."
   ]
  },
  {
   "cell_type": "markdown",
   "metadata": {
    "collapsed": true
   },
   "source": [
    "### Part 1: Basic Function"
   ]
  },
  {
   "cell_type": "code",
   "execution_count": 35,
   "metadata": {
    "collapsed": true
   },
   "outputs": [],
   "source": [
    "def warmUpExercise():\n",
    "    return(np.identity(5))"
   ]
  },
  {
   "cell_type": "code",
   "execution_count": 36,
   "metadata": {
    "collapsed": false
   },
   "outputs": [
    {
     "name": "stdout",
     "output_type": "stream",
     "text": [
      "[[ 1.  0.  0.  0.  0.]\n",
      " [ 0.  1.  0.  0.  0.]\n",
      " [ 0.  0.  1.  0.  0.]\n",
      " [ 0.  0.  0.  1.  0.]\n",
      " [ 0.  0.  0.  0.  1.]]\n"
     ]
    }
   ],
   "source": [
    "print(warmUpExercise())"
   ]
  },
  {
   "cell_type": "markdown",
   "metadata": {},
   "source": [
    "### Part 2 : Plotting"
   ]
  },
  {
   "cell_type": "code",
   "execution_count": 37,
   "metadata": {
    "collapsed": false
   },
   "outputs": [],
   "source": [
    "data = np.genfromtxt('ex1data1.txt', delimiter=\",\")"
   ]
  },
  {
   "cell_type": "code",
   "execution_count": 38,
   "metadata": {
    "collapsed": true
   },
   "outputs": [],
   "source": [
    "X = np.c_[data[:,0]]; y = np.c_[data[:,1]]"
   ]
  },
  {
   "cell_type": "code",
   "execution_count": 39,
   "metadata": {
    "collapsed": true
   },
   "outputs": [],
   "source": [
    "m = len(X) #number of training examples"
   ]
  },
  {
   "cell_type": "markdown",
   "metadata": {},
   "source": [
    "#### Plotting function"
   ]
  },
  {
   "cell_type": "code",
   "execution_count": 40,
   "metadata": {
    "collapsed": true
   },
   "outputs": [],
   "source": [
    "def plotData(X, y):\n",
    "    fig = plt.figure()\n",
    "    axes = fig.add_axes([0.1, 0.1, 0.8, 0.8])\n",
    "    axes.plot(X, y, 'rx', ms =10)\n",
    "    axes.set_xlabel('Population of City in 10,000s')\n",
    "    axes.set_ylabel('Profit in $10,000s')\n",
    "    axes.set_title('Profit vs population')\n",
    "    plt.show()"
   ]
  },
  {
   "cell_type": "code",
   "execution_count": 41,
   "metadata": {
    "collapsed": false
   },
   "outputs": [
    {
     "data": {
      "image/png": "[encoded data removed]",
      "text/plain": [
       "<matplotlib.figure.Figure at 0x95e3c50>"
      ]
     },
     "metadata": {},
     "output_type": "display_data"
    }
   ],
   "source": [
    "plotData(X,y)"
   ]
  },
  {
   "cell_type": "markdown",
   "metadata": {},
   "source": [
    "### Part 3 : Cost and Gradient descent"
   ]
  },
  {
   "cell_type": "markdown",
   "metadata": {},
   "source": [
    "The objective of linear regression is to find the parameters $\\theta$ that minimize the cost function (mean-squared error) : \n",
    "$$J(\\theta)=\\frac{1}{2m}\\sum_{i=1}^m (h_{\\theta}(x^{(i)})-y^{(i)})^2  $$\n",
    "where the hypothesis $h_{\\theta}(x)$ is given by the linear model :\n",
    "$$h_{\\theta}(x) = \\theta^Tx  = \\theta_0 + \\theta_1 x_1 $$\n",
    "In vectorized form :\n",
    "$$J(\\theta)=\\frac{1}{2m}(X \\theta - y)^T(X \\theta - y)$$"
   ]
  },
  {
   "cell_type": "code",
   "execution_count": 42,
   "metadata": {
    "collapsed": true
   },
   "outputs": [],
   "source": [
    "X = np.c_[np.ones(m),data[:,0]] # Add a column of ones to x (intercept)"
   ]
  },
  {
   "cell_type": "code",
   "execution_count": 43,
   "metadata": {
    "collapsed": false
   },
   "outputs": [],
   "source": [
    "theta = np.array([0,0]) # initialize fitting parameters"
   ]
  },
  {
   "cell_type": "markdown",
   "metadata": {},
   "source": [
    "#### Some gradient descent parameters"
   ]
  },
  {
   "cell_type": "code",
   "execution_count": 44,
   "metadata": {
    "collapsed": true
   },
   "outputs": [],
   "source": [
    "iterations = 1500\n",
    "alpha = 0.01"
   ]
  },
  {
   "cell_type": "markdown",
   "metadata": {},
   "source": [
    "#### Cost function"
   ]
  },
  {
   "cell_type": "code",
   "execution_count": 45,
   "metadata": {
    "collapsed": false
   },
   "outputs": [],
   "source": [
    "def computeCost(X, y, theta):\n",
    "    m = len(y)\n",
    "    theta = theta.reshape(-1,1)\n",
    "    J = (1 / (2 * m)) * (X.dot(theta) - y).T.dot((X.dot(theta)-y))\n",
    "    return np.asscalar(J)"
   ]
  },
  {
   "cell_type": "code",
   "execution_count": 46,
   "metadata": {
    "collapsed": false
   },
   "outputs": [],
   "source": [
    "J = computeCost(X, y, theta)"
   ]
  },
  {
   "cell_type": "code",
   "execution_count": 47,
   "metadata": {
    "collapsed": false
   },
   "outputs": [
    {
     "name": "stdout",
     "output_type": "stream",
     "text": [
      "With theta = [0 ; 0]\n",
      "Cost computed =  32.07 \n",
      "\n",
      "Expected cost value (approx) 32.07\n",
      "\n"
     ]
    }
   ],
   "source": [
    "print(\"With theta = [0 ; 0]\\nCost computed = {:6.2f} \\n\".format(J));\n",
    "print('Expected cost value (approx) 32.07\\n');"
   ]
  },
  {
   "cell_type": "markdown",
   "metadata": {},
   "source": [
    "#### Further testing on the cost function"
   ]
  },
  {
   "cell_type": "code",
   "execution_count": 48,
   "metadata": {
    "collapsed": true
   },
   "outputs": [],
   "source": [
    "J = computeCost(X, y, np.array([-1,2]))"
   ]
  },
  {
   "cell_type": "code",
   "execution_count": 49,
   "metadata": {
    "collapsed": false
   },
   "outputs": [
    {
     "name": "stdout",
     "output_type": "stream",
     "text": [
      "With theta = [-1 ; 2]\n",
      "Cost computed =  54.24 \n",
      "\n",
      "Expected cost value (approx) 54.24\n",
      "\n"
     ]
    }
   ],
   "source": [
    "print(\"With theta = [-1 ; 2]\\nCost computed = {:6.2f} \\n\".format(J));\n",
    "print('Expected cost value (approx) 54.24\\n');"
   ]
  },
  {
   "cell_type": "markdown",
   "metadata": {},
   "source": [
    "#### Gradient descent"
   ]
  },
  {
   "cell_type": "markdown",
   "metadata": {},
   "source": [
    "One way to minimize the cost function is to used the batch gradient descent algorithm.<br>\n",
    "In batch gradient descent, each iteration performs the update :\n",
    "$$\\theta_j := \\theta_j - \\alpha \\frac{1}{m} \\sum_{i=1}^m (h_{\\theta}(x^{(i)})-y^{(i)}) x_j^{(i)}$$\n"
   ]
  },
  {
   "cell_type": "code",
   "execution_count": 50,
   "metadata": {
    "collapsed": true
   },
   "outputs": [],
   "source": [
    "def gradientDescent(X, y, theta, alpha, num_iters):\n",
    "    m = len(y)\n",
    "    theta = theta.reshape(-1,1)\n",
    "    J_history = np.zeros(num_iters)\n",
    "    \n",
    "    for iter in np.arange(num_iters):\n",
    "        J_history[iter] = computeCost(X, y, theta)\n",
    "        theta = theta - (alpha / m) * X.T.dot(X.dot(theta)-y)\n",
    "        \n",
    "    return (theta, J_history)"
   ]
  },
  {
   "cell_type": "code",
   "execution_count": 51,
   "metadata": {
    "collapsed": false
   },
   "outputs": [],
   "source": [
    "theta = np.array([0,0])\n",
    "(theta, J_history) = gradientDescent(X, y, theta, alpha, iterations)"
   ]
  },
  {
   "cell_type": "code",
   "execution_count": 52,
   "metadata": {
    "collapsed": false
   },
   "outputs": [
    {
     "name": "stdout",
     "output_type": "stream",
     "text": [
      "Theta found by gradient descent:\n",
      "\n",
      "-3.6303 \n",
      " 1.1664 \n",
      "\n",
      "Expected theta values (approx)\n",
      "\n",
      " -3.6303\n",
      "  1.1664\n",
      "\n",
      "\n"
     ]
    }
   ],
   "source": [
    "print('Theta found by gradient descent:\\n')\n",
    "print(\"{:6.4f} \\n {:6.4f} \\n\".format(theta[0,0],theta[1,0]))\n",
    "print('Expected theta values (approx)\\n')\n",
    "print(' -3.6303\\n  1.1664\\n\\n')"
   ]
  },
  {
   "cell_type": "markdown",
   "metadata": {},
   "source": [
    "#### Gradient descent animation - Decreasing cost"
   ]
  },
  {
   "cell_type": "code",
   "execution_count": 53,
   "metadata": {
    "collapsed": true
   },
   "outputs": [],
   "source": [
    "def gradientDescentAnimation(X, y, theta, alpha, num_iters):\n",
    "    m = len(y)\n",
    "    theta = theta.reshape(-1,1)\n",
    "    \n",
    "    fig = plt.figure()\n",
    "    ax = fig.add_subplot(1,1,1)\n",
    "    ax.set_xlim([0, num_iters])\n",
    "    plt.ion()\n",
    "    fig.show()\n",
    "    fig.canvas.draw()\n",
    "    \n",
    "    J_history = np.zeros(num_iters)\n",
    "    \n",
    "    for iter in np.arange(num_iters):\n",
    "        J_history[iter] = computeCost(X, y, theta)\n",
    "        theta = theta - (alpha / m) * X.T.dot(X.dot(theta)-y)\n",
    "        ax.set_title(\"Cost @ iteration {:d} = {:2.2f}\".format(iter,J_history[iter]))\n",
    "        ax.plot(iter,J_history[iter],'ro',ms=2)\n",
    "        fig.canvas.draw()\n",
    "        \n",
    "        \n",
    "    return (theta, J_history)"
   ]
  },
  {
   "cell_type": "code",
   "execution_count": 54,
   "metadata": {
    "collapsed": false,
    "scrolled": true
   },
   "outputs": [
    {
     "data": {
      "application/javascript": [
       "/* Put everything inside the global mpl namespace */\n",
       "window.mpl = {};\n",
       "\n",
       "\n",
       "mpl.get_websocket_type = function() {\n",
       "    if (typeof(WebSocket) !== 'undefined') {\n",
       "        return WebSocket;\n",
       "    } else if (typeof(MozWebSocket) !== 'undefined') {\n",
       "        return MozWebSocket;\n",
       "    } else {\n",
       "        alert('Your browser does not have WebSocket support.' +\n",
       "              'Please try Chrome, Safari or Firefox ≥ 6. ' +\n",
       "              'Firefox 4 and 5 are also supported but you ' +\n",
       "              'have to enable WebSockets in about:config.');\n",
       "    };\n",
       "}\n",
       "\n",
       "mpl.figure = function(figure_id, websocket, ondownload, parent_element) {\n",
       "    this.id = figure_id;\n",
       "\n",
       "    this.ws = websocket;\n",
       "\n",
       "    this.supports_binary = (this.ws.binaryType != undefined);\n",
       "\n",
       "    if (!this.supports_binary) {\n",
       "        var warnings = document.getElementById(\"mpl-warnings\");\n",
       "        if (warnings) {\n",
       "            warnings.style.display = 'block';\n",
       "            warnings.textContent = (\n",
       "                \"This browser does not support binary websocket messages. \" +\n",
       "                    \"Performance may be slow.\");\n",
       "        }\n",
       "    }\n",
       "\n",
       "    this.imageObj = new Image();\n",
       "\n",
       "    this.context = undefined;\n",
       "    this.message = undefined;\n",
       "    this.canvas = undefined;\n",
       "    this.rubberband_canvas = undefined;\n",
       "    this.rubberband_context = undefined;\n",
       "    this.format_dropdown = undefined;\n",
       "\n",
       "    this.image_mode = 'full';\n",
       "\n",
       "    this.root = $('<div/>');\n",
       "    this._root_extra_style(this.root)\n",
       "    this.root.attr('style', 'display: inline-block');\n",
       "\n",
       "    $(parent_element).append(this.root);\n",
       "\n",
       "    this._init_header(this);\n",
       "    this._init_canvas(this);\n",
       "    this._init_toolbar(this);\n",
       "\n",
       "    var fig = this;\n",
       "\n",
       "    this.waiting = false;\n",
       "\n",
       "    this.ws.onopen =  function () {\n",
       "            fig.send_message(\"supports_binary\", {value: fig.supports_binary});\n",
       "            fig.send_message(\"send_image_mode\", {});\n",
       "            if (mpl.ratio != 1) {\n",
       "                fig.send_message(\"set_dpi_ratio\", {'dpi_ratio': mpl.ratio});\n",
       "            }\n",
       "            fig.send_message(\"refresh\", {});\n",
       "        }\n",
       "\n",
       "    this.imageObj.onload = function() {\n",
       "            if (fig.image_mode == 'full') {\n",
       "                // Full images could contain transparency (where diff images\n",
       "                // almost always do), so we need to clear the canvas so that\n",
       "                // there is no ghosting.\n",
       "                fig.context.clearRect(0, 0, fig.canvas.width, fig.canvas.height);\n",
       "            }\n",
       "            fig.context.drawImage(fig.imageObj, 0, 0);\n",
       "        };\n",
       "\n",
       "    this.imageObj.onunload = function() {\n",
       "        this.ws.close();\n",
       "    }\n",
       "\n",
       "    this.ws.onmessage = this._make_on_message_function(this);\n",
       "\n",
       "    this.ondownload = ondownload;\n",
       "}\n",
       "\n",
       "mpl.figure.prototype._init_header = function() {\n",
       "    var titlebar = $(\n",
       "        '<div class=\"ui-dialog-titlebar ui-widget-header ui-corner-all ' +\n",
       "        'ui-helper-clearfix\"/>');\n",
       "    var titletext = $(\n",
       "        '<div class=\"ui-dialog-title\" style=\"width: 100%; ' +\n",
       "        'text-align: center; padding: 3px;\"/>');\n",
       "    titlebar.append(titletext)\n",
       "    this.root.append(titlebar);\n",
       "    this.header = titletext[0];\n",
       "}\n",
       "\n",
       "\n",
       "\n",
       "mpl.figure.prototype._canvas_extra_style = function(canvas_div) {\n",
       "\n",
       "}\n",
       "\n",
       "\n",
       "mpl.figure.prototype._root_extra_style = function(canvas_div) {\n",
       "\n",
       "}\n",
       "\n",
       "mpl.figure.prototype._init_canvas = function() {\n",
       "    var fig = this;\n",
       "\n",
       "    var canvas_div = $('<div/>');\n",
       "\n",
       "    canvas_div.attr('style', 'position: relative; clear: both; outline: 0');\n",
       "\n",
       "    function canvas_keyboard_event(event) {\n",
       "        return fig.key_event(event, event['data']);\n",
       "    }\n",
       "\n",
       "    canvas_div.keydown('key_press', canvas_keyboard_event);\n",
       "    canvas_div.keyup('key_release', canvas_keyboard_event);\n",
       "    this.canvas_div = canvas_div\n",
       "    this._canvas_extra_style(canvas_div)\n",
       "    this.root.append(canvas_div);\n",
       "\n",
       "    var canvas = $('<canvas/>');\n",
       "    canvas.addClass('mpl-canvas');\n",
       "    canvas.attr('style', \"left: 0; top: 0; z-index: 0; outline: 0\")\n",
       "\n",
       "    this.canvas = canvas[0];\n",
       "    this.context = canvas[0].getContext(\"2d\");\n",
       "\n",
       "    var backingStore = this.context.backingStorePixelRatio ||\n",
       "\tthis.context.webkitBackingStorePixelRatio ||\n",
       "\tthis.context.mozBackingStorePixelRatio ||\n",
       "\tthis.context.msBackingStorePixelRatio ||\n",
       "\tthis.context.oBackingStorePixelRatio ||\n",
       "\tthis.context.backingStorePixelRatio || 1;\n",
       "\n",
       "    mpl.ratio = (window.devicePixelRatio || 1) / backingStore;\n",
       "\n",
       "    var rubberband = $('<canvas/>');\n",
       "    rubberband.attr('style', \"position: absolute; left: 0; top: 0; z-index: 1;\")\n",
       "\n",
       "    var pass_mouse_events = true;\n",
       "\n",
       "    canvas_div.resizable({\n",
       "        start: function(event, ui) {\n",
       "            pass_mouse_events = false;\n",
       "        },\n",
       "        resize: function(event, ui) {\n",
       "            fig.request_resize(ui.size.width, ui.size.height);\n",
       "        },\n",
       "        stop: function(event, ui) {\n",
       "            pass_mouse_events = true;\n",
       "            fig.request_resize(ui.size.width, ui.size.height);\n",
       "        },\n",
       "    });\n",
       "\n",
       "    function mouse_event_fn(event) {\n",
       "        if (pass_mouse_events)\n",
       "            return fig.mouse_event(event, event['data']);\n",
       "    }\n",
       "\n",
       "    rubberband.mousedown('button_press', mouse_event_fn);\n",
       "    rubberband.mouseup('button_release', mouse_event_fn);\n",
       "    // Throttle sequential mouse events to 1 every 20ms.\n",
       "    rubberband.mousemove('motion_notify', mouse_event_fn);\n",
       "\n",
       "    rubberband.mouseenter('figure_enter', mouse_event_fn);\n",
       "    rubberband.mouseleave('figure_leave', mouse_event_fn);\n",
       "\n",
       "    canvas_div.on(\"wheel\", function (event) {\n",
       "        event = event.originalEvent;\n",
       "        event['data'] = 'scroll'\n",
       "        if (event.deltaY < 0) {\n",
       "            event.step = 1;\n",
       "        } else {\n",
       "            event.step = -1;\n",
       "        }\n",
       "        mouse_event_fn(event);\n",
       "    });\n",
       "\n",
       "    canvas_div.append(canvas);\n",
       "    canvas_div.append(rubberband);\n",
       "\n",
       "    this.rubberband = rubberband;\n",
       "    this.rubberband_canvas = rubberband[0];\n",
       "    this.rubberband_context = rubberband[0].getContext(\"2d\");\n",
       "    this.rubberband_context.strokeStyle = \"#000000\";\n",
       "\n",
       "    this._resize_canvas = function(width, height) {\n",
       "        // Keep the size of the canvas, canvas container, and rubber band\n",
       "        // canvas in synch.\n",
       "        canvas_div.css('width', width)\n",
       "        canvas_div.css('height', height)\n",
       "\n",
       "        canvas.attr('width', width * mpl.ratio);\n",
       "        canvas.attr('height', height * mpl.ratio);\n",
       "        canvas.attr('style', 'width: ' + width + 'px; height: ' + height + 'px;');\n",
       "\n",
       "        rubberband.attr('width', width);\n",
       "        rubberband.attr('height', height);\n",
       "    }\n",
       "\n",
       "    // Set the figure to an initial 600x600px, this will subsequently be updated\n",
       "    // upon first draw.\n",
       "    this._resize_canvas(600, 600);\n",
       "\n",
       "    // Disable right mouse context menu.\n",
       "    $(this.rubberband_canvas).bind(\"contextmenu\",function(e){\n",
       "        return false;\n",
       "    });\n",
       "\n",
       "    function set_focus () {\n",
       "        canvas.focus();\n",
       "        canvas_div.focus();\n",
       "    }\n",
       "\n",
       "    window.setTimeout(set_focus, 100);\n",
       "}\n",
       "\n",
       "mpl.figure.prototype._init_toolbar = function() {\n",
       "    var fig = this;\n",
       "\n",
       "    var nav_element = $('<div/>')\n",
       "    nav_element.attr('style', 'width: 100%');\n",
       "    this.root.append(nav_element);\n",
       "\n",
       "    // Define a callback function for later on.\n",
       "    function toolbar_event(event) {\n",
       "        return fig.toolbar_button_onclick(event['data']);\n",
       "    }\n",
       "    function toolbar_mouse_event(event) {\n",
       "        return fig.toolbar_button_onmouseover(event['data']);\n",
       "    }\n",
       "\n",
       "    for(var toolbar_ind in mpl.toolbar_items) {\n",
       "        var name = mpl.toolbar_items[toolbar_ind][0];\n",
       "        var tooltip = mpl.toolbar_items[toolbar_ind][1];\n",
       "        var image = mpl.toolbar_items[toolbar_ind][2];\n",
       "        var method_name = mpl.toolbar_items[toolbar_ind][3];\n",
       "\n",
       "        if (!name) {\n",
       "            // put a spacer in here.\n",
       "            continue;\n",
       "        }\n",
       "        var button = $('<button/>');\n",
       "        button.addClass('ui-button ui-widget ui-state-default ui-corner-all ' +\n",
       "                        'ui-button-icon-only');\n",
       "        button.attr('role', 'button');\n",
       "        button.attr('aria-disabled', 'false');\n",
       "        button.click(method_name, toolbar_event);\n",
       "        button.mouseover(tooltip, toolbar_mouse_event);\n",
       "\n",
       "        var icon_img = $('<span/>');\n",
       "        icon_img.addClass('ui-button-icon-primary ui-icon');\n",
       "        icon_img.addClass(image);\n",
       "        icon_img.addClass('ui-corner-all');\n",
       "\n",
       "        var tooltip_span = $('<span/>');\n",
       "        tooltip_span.addClass('ui-button-text');\n",
       "        tooltip_span.html(tooltip);\n",
       "\n",
       "        button.append(icon_img);\n",
       "        button.append(tooltip_span);\n",
       "\n",
       "        nav_element.append(button);\n",
       "    }\n",
       "\n",
       "    var fmt_picker_span = $('<span/>');\n",
       "\n",
       "    var fmt_picker = $('<select/>');\n",
       "    fmt_picker.addClass('mpl-toolbar-option ui-widget ui-widget-content');\n",
       "    fmt_picker_span.append(fmt_picker);\n",
       "    nav_element.append(fmt_picker_span);\n",
       "    this.format_dropdown = fmt_picker[0];\n",
       "\n",
       "    for (var ind in mpl.extensions) {\n",
       "        var fmt = mpl.extensions[ind];\n",
       "        var option = $(\n",
       "            '<option/>', {selected: fmt === mpl.default_extension}).html(fmt);\n",
       "        fmt_picker.append(option)\n",
       "    }\n",
       "\n",
       "    // Add hover states to the ui-buttons\n",
       "    $( \".ui-button\" ).hover(\n",
       "        function() { $(this).addClass(\"ui-state-hover\");},\n",
       "        function() { $(this).removeClass(\"ui-state-hover\");}\n",
       "    );\n",
       "\n",
       "    var status_bar = $('<span class=\"mpl-message\"/>');\n",
       "    nav_element.append(status_bar);\n",
       "    this.message = status_bar[0];\n",
       "}\n",
       "\n",
       "mpl.figure.prototype.request_resize = function(x_pixels, y_pixels) {\n",
       "    // Request matplotlib to resize the figure. Matplotlib will then trigger a resize in the client,\n",
       "    // which will in turn request a refresh of the image.\n",
       "    this.send_message('resize', {'width': x_pixels, 'height': y_pixels});\n",
       "}\n",
       "\n",
       "mpl.figure.prototype.send_message = function(type, properties) {\n",
       "    properties['type'] = type;\n",
       "    properties['figure_id'] = this.id;\n",
       "    this.ws.send(JSON.stringify(properties));\n",
       "}\n",
       "\n",
       "mpl.figure.prototype.send_draw_message = function() {\n",
       "    if (!this.waiting) {\n",
       "        this.waiting = true;\n",
       "        this.ws.send(JSON.stringify({type: \"draw\", figure_id: this.id}));\n",
       "    }\n",
       "}\n",
       "\n",
       "\n",
       "mpl.figure.prototype.handle_save = function(fig, msg) {\n",
       "    var format_dropdown = fig.format_dropdown;\n",
       "    var format = format_dropdown.options[format_dropdown.selectedIndex].value;\n",
       "    fig.ondownload(fig, format);\n",
       "}\n",
       "\n",
       "\n",
       "mpl.figure.prototype.handle_resize = function(fig, msg) {\n",
       "    var size = msg['size'];\n",
       "    if (size[0] != fig.canvas.width || size[1] != fig.canvas.height) {\n",
       "        fig._resize_canvas(size[0], size[1]);\n",
       "        fig.send_message(\"refresh\", {});\n",
       "    };\n",
       "}\n",
       "\n",
       "mpl.figure.prototype.handle_rubberband = function(fig, msg) {\n",
       "    var x0 = msg['x0'] / mpl.ratio;\n",
       "    var y0 = (fig.canvas.height - msg['y0']) / mpl.ratio;\n",
       "    var x1 = msg['x1'] / mpl.ratio;\n",
       "    var y1 = (fig.canvas.height - msg['y1']) / mpl.ratio;\n",
       "    x0 = Math.floor(x0) + 0.5;\n",
       "    y0 = Math.floor(y0) + 0.5;\n",
       "    x1 = Math.floor(x1) + 0.5;\n",
       "    y1 = Math.floor(y1) + 0.5;\n",
       "    var min_x = Math.min(x0, x1);\n",
       "    var min_y = Math.min(y0, y1);\n",
       "    var width = Math.abs(x1 - x0);\n",
       "    var height = Math.abs(y1 - y0);\n",
       "\n",
       "    fig.rubberband_context.clearRect(\n",
       "        0, 0, fig.canvas.width, fig.canvas.height);\n",
       "\n",
       "    fig.rubberband_context.strokeRect(min_x, min_y, width, height);\n",
       "}\n",
       "\n",
       "mpl.figure.prototype.handle_figure_label = function(fig, msg) {\n",
       "    // Updates the figure title.\n",
       "    fig.header.textContent = msg['label'];\n",
       "}\n",
       "\n",
       "mpl.figure.prototype.handle_cursor = function(fig, msg) {\n",
       "    var cursor = msg['cursor'];\n",
       "    switch(cursor)\n",
       "    {\n",
       "    case 0:\n",
       "        cursor = 'pointer';\n",
       "        break;\n",
       "    case 1:\n",
       "        cursor = 'default';\n",
       "        break;\n",
       "    case 2:\n",
       "        cursor = 'crosshair';\n",
       "        break;\n",
       "    case 3:\n",
       "        cursor = 'move';\n",
       "        break;\n",
       "    }\n",
       "    fig.rubberband_canvas.style.cursor = cursor;\n",
       "}\n",
       "\n",
       "mpl.figure.prototype.handle_message = function(fig, msg) {\n",
       "    fig.message.textContent = msg['message'];\n",
       "}\n",
       "\n",
       "mpl.figure.prototype.handle_draw = function(fig, msg) {\n",
       "    // Request the server to send over a new figure.\n",
       "    fig.send_draw_message();\n",
       "}\n",
       "\n",
       "mpl.figure.prototype.handle_image_mode = function(fig, msg) {\n",
       "    fig.image_mode = msg['mode'];\n",
       "}\n",
       "\n",
       "mpl.figure.prototype.updated_canvas_event = function() {\n",
       "    // Called whenever the canvas gets updated.\n",
       "    this.send_message(\"ack\", {});\n",
       "}\n",
       "\n",
       "// A function to construct a web socket function for onmessage handling.\n",
       "// Called in the figure constructor.\n",
       "mpl.figure.prototype._make_on_message_function = function(fig) {\n",
       "    return function socket_on_message(evt) {\n",
       "        if (evt.data instanceof Blob) {\n",
       "            /* FIXME: We get \"Resource interpreted as Image but\n",
       "             * transferred with MIME type text/plain:\" errors on\n",
       "             * Chrome.  But how to set the MIME type?  It doesn't seem\n",
       "             * to be part of the websocket stream */\n",
       "            evt.data.type = \"image/png\";\n",
       "\n",
       "            /* Free the memory for the previous frames */\n",
       "            if (fig.imageObj.src) {\n",
       "                (window.URL || window.webkitURL).revokeObjectURL(\n",
       "                    fig.imageObj.src);\n",
       "            }\n",
       "\n",
       "            fig.imageObj.src = (window.URL || window.webkitURL).createObjectURL(\n",
       "                evt.data);\n",
       "            fig.updated_canvas_event();\n",
       "            fig.waiting = false;\n",
       "            return;\n",
       "        }\n",
       "        else if (typeof evt.data === 'string' && evt.data.slice(0, 21) == \"data:image/png;base64\") {\n",
       "            fig.imageObj.src = evt.data;\n",
       "            fig.updated_canvas_event();\n",
       "            fig.waiting = false;\n",
       "            return;\n",
       "        }\n",
       "\n",
       "        var msg = JSON.parse(evt.data);\n",
       "        var msg_type = msg['type'];\n",
       "\n",
       "        // Call the  \"handle_{type}\" callback, which takes\n",
       "        // the figure and JSON message as its only arguments.\n",
       "        try {\n",
       "            var callback = fig[\"handle_\" + msg_type];\n",
       "        } catch (e) {\n",
       "            console.log(\"No handler for the '\" + msg_type + \"' message type: \", msg);\n",
       "            return;\n",
       "        }\n",
       "\n",
       "        if (callback) {\n",
       "            try {\n",
       "                // console.log(\"Handling '\" + msg_type + \"' message: \", msg);\n",
       "                callback(fig, msg);\n",
       "            } catch (e) {\n",
       "                console.log(\"Exception inside the 'handler_\" + msg_type + \"' callback:\", e, e.stack, msg);\n",
       "            }\n",
       "        }\n",
       "    };\n",
       "}\n",
       "\n",
       "// from http://stackoverflow.com/questions/1114465/getting-mouse-location-in-canvas\n",
       "mpl.findpos = function(e) {\n",
       "    //this section is from http://www.quirksmode.org/js/events_properties.html\n",
       "    var targ;\n",
       "    if (!e)\n",
       "        e = window.event;\n",
       "    if (e.target)\n",
       "        targ = e.target;\n",
       "    else if (e.srcElement)\n",
       "        targ = e.srcElement;\n",
       "    if (targ.nodeType == 3) // defeat Safari bug\n",
       "        targ = targ.parentNode;\n",
       "\n",
       "    // jQuery normalizes the pageX and pageY\n",
       "    // pageX,Y are the mouse positions relative to the document\n",
       "    // offset() returns the position of the element relative to the document\n",
       "    var x = e.pageX - $(targ).offset().left;\n",
       "    var y = e.pageY - $(targ).offset().top;\n",
       "\n",
       "    return {\"x\": x, \"y\": y};\n",
       "};\n",
       "\n",
       "/*\n",
       " * return a copy of an object with only non-object keys\n",
       " * we need this to avoid circular references\n",
       " * http://stackoverflow.com/a/24161582/3208463\n",
       " */\n",
       "function simpleKeys (original) {\n",
       "  return Object.keys(original).reduce(function (obj, key) {\n",
       "    if (typeof original[key] !== 'object')\n",
       "        obj[key] = original[key]\n",
       "    return obj;\n",
       "  }, {});\n",
       "}\n",
       "\n",
       "mpl.figure.prototype.mouse_event = function(event, name) {\n",
       "    var canvas_pos = mpl.findpos(event)\n",
       "\n",
       "    if (name === 'button_press')\n",
       "    {\n",
       "        this.canvas.focus();\n",
       "        this.canvas_div.focus();\n",
       "    }\n",
       "\n",
       "    var x = canvas_pos.x * mpl.ratio;\n",
       "    var y = canvas_pos.y * mpl.ratio;\n",
       "\n",
       "    this.send_message(name, {x: x, y: y, button: event.button,\n",
       "                             step: event.step,\n",
       "                             guiEvent: simpleKeys(event)});\n",
       "\n",
       "    /* This prevents the web browser from automatically changing to\n",
       "     * the text insertion cursor when the button is pressed.  We want\n",
       "     * to control all of the cursor setting manually through the\n",
       "     * 'cursor' event from matplotlib */\n",
       "    event.preventDefault();\n",
       "    return false;\n",
       "}\n",
       "\n",
       "mpl.figure.prototype._key_event_extra = function(event, name) {\n",
       "    // Handle any extra behaviour associated with a key event\n",
       "}\n",
       "\n",
       "mpl.figure.prototype.key_event = function(event, name) {\n",
       "\n",
       "    // Prevent repeat events\n",
       "    if (name == 'key_press')\n",
       "    {\n",
       "        if (event.which === this._key)\n",
       "            return;\n",
       "        else\n",
       "            this._key = event.which;\n",
       "    }\n",
       "    if (name == 'key_release')\n",
       "        this._key = null;\n",
       "\n",
       "    var value = '';\n",
       "    if (event.ctrlKey && event.which != 17)\n",
       "        value += \"ctrl+\";\n",
       "    if (event.altKey && event.which != 18)\n",
       "        value += \"alt+\";\n",
       "    if (event.shiftKey && event.which != 16)\n",
       "        value += \"shift+\";\n",
       "\n",
       "    value += 'k';\n",
       "    value += event.which.toString();\n",
       "\n",
       "    this._key_event_extra(event, name);\n",
       "\n",
       "    this.send_message(name, {key: value,\n",
       "                             guiEvent: simpleKeys(event)});\n",
       "    return false;\n",
       "}\n",
       "\n",
       "mpl.figure.prototype.toolbar_button_onclick = function(name) {\n",
       "    if (name == 'download') {\n",
       "        this.handle_save(this, null);\n",
       "    } else {\n",
       "        this.send_message(\"toolbar_button\", {name: name});\n",
       "    }\n",
       "};\n",
       "\n",
       "mpl.figure.prototype.toolbar_button_onmouseover = function(tooltip) {\n",
       "    this.message.textContent = tooltip;\n",
       "};\n",
       "mpl.toolbar_items = [[\"Home\", \"Reset original view\", \"fa fa-home icon-home\", \"home\"], [\"Back\", \"Back to  previous view\", \"fa fa-arrow-left icon-arrow-left\", \"back\"], [\"Forward\", \"Forward to next view\", \"fa fa-arrow-right icon-arrow-right\", \"forward\"], [\"\", \"\", \"\", \"\"], [\"Pan\", \"Pan axes with left mouse, zoom with right\", \"fa fa-arrows icon-move\", \"pan\"], [\"Zoom\", \"Zoom to rectangle\", \"fa fa-square-o icon-check-empty\", \"zoom\"], [\"\", \"\", \"\", \"\"], [\"Download\", \"Download plot\", \"fa fa-floppy-o icon-save\", \"download\"]];\n",
       "\n",
       "mpl.extensions = [\"eps\", \"jpeg\", \"pdf\", \"png\", \"ps\", \"raw\", \"svg\", \"tif\"];\n",
       "\n",
       "mpl.default_extension = \"png\";var comm_websocket_adapter = function(comm) {\n",
       "    // Create a \"websocket\"-like object which calls the given IPython comm\n",
       "    // object with the appropriate methods. Currently this is a non binary\n",
       "    // socket, so there is still some room for performance tuning.\n",
       "    var ws = {};\n",
       "\n",
       "    ws.close = function() {\n",
       "        comm.close()\n",
       "    };\n",
       "    ws.send = function(m) {\n",
       "        //console.log('sending', m);\n",
       "        comm.send(m);\n",
       "    };\n",
       "    // Register the callback with on_msg.\n",
       "    comm.on_msg(function(msg) {\n",
       "        //console.log('receiving', msg['content']['data'], msg);\n",
       "        // Pass the mpl event to the overriden (by mpl) onmessage function.\n",
       "        ws.onmessage(msg['content']['data'])\n",
       "    });\n",
       "    return ws;\n",
       "}\n",
       "\n",
       "mpl.mpl_figure_comm = function(comm, msg) {\n",
       "    // This is the function which gets called when the mpl process\n",
       "    // starts-up an IPython Comm through the \"matplotlib\" channel.\n",
       "\n",
       "    var id = msg.content.data.id;\n",
       "    // Get hold of the div created by the display call when the Comm\n",
       "    // socket was opened in Python.\n",
       "    var element = $(\"#\" + id);\n",
       "    var ws_proxy = comm_websocket_adapter(comm)\n",
       "\n",
       "    function ondownload(figure, format) {\n",
       "        window.open(figure.imageObj.src);\n",
       "    }\n",
       "\n",
       "    var fig = new mpl.figure(id, ws_proxy,\n",
       "                           ondownload,\n",
       "                           element.get(0));\n",
       "\n",
       "    // Call onopen now - mpl needs it, as it is assuming we've passed it a real\n",
       "    // web socket which is closed, not our websocket->open comm proxy.\n",
       "    ws_proxy.onopen();\n",
       "\n",
       "    fig.parent_element = element.get(0);\n",
       "    fig.cell_info = mpl.find_output_cell(\"<div id='\" + id + \"'></div>\");\n",
       "    if (!fig.cell_info) {\n",
       "        console.error(\"Failed to find cell for figure\", id, fig);\n",
       "        return;\n",
       "    }\n",
       "\n",
       "    var output_index = fig.cell_info[2]\n",
       "    var cell = fig.cell_info[0];\n",
       "\n",
       "};\n",
       "\n",
       "mpl.figure.prototype.handle_close = function(fig, msg) {\n",
       "    var width = fig.canvas.width/mpl.ratio\n",
       "    fig.root.unbind('remove')\n",
       "\n",
       "    // Update the output cell to use the data from the current canvas.\n",
       "    fig.push_to_output();\n",
       "    var dataURL = fig.canvas.toDataURL();\n",
       "    // Re-enable the keyboard manager in IPython - without this line, in FF,\n",
       "    // the notebook keyboard shortcuts fail.\n",
       "    IPython.keyboard_manager.enable()\n",
       "    $(fig.parent_element).html('<img src=\"' + dataURL + '\" width=\"' + width + '\">');\n",
       "    fig.close_ws(fig, msg);\n",
       "}\n",
       "\n",
       "mpl.figure.prototype.close_ws = function(fig, msg){\n",
       "    fig.send_message('closing', msg);\n",
       "    // fig.ws.close()\n",
       "}\n",
       "\n",
       "mpl.figure.prototype.push_to_output = function(remove_interactive) {\n",
       "    // Turn the data on the canvas into data in the output cell.\n",
       "    var width = this.canvas.width/mpl.ratio\n",
       "    var dataURL = this.canvas.toDataURL();\n",
       "    this.cell_info[1]['text/html'] = '<img src=\"' + dataURL + '\" width=\"' + width + '\">';\n",
       "}\n",
       "\n",
       "mpl.figure.prototype.updated_canvas_event = function() {\n",
       "    // Tell IPython that the notebook contents must change.\n",
       "    IPython.notebook.set_dirty(true);\n",
       "    this.send_message(\"ack\", {});\n",
       "    var fig = this;\n",
       "    // Wait a second, then push the new image to the DOM so\n",
       "    // that it is saved nicely (might be nice to debounce this).\n",
       "    setTimeout(function () { fig.push_to_output() }, 1000);\n",
       "}\n",
       "\n",
       "mpl.figure.prototype._init_toolbar = function() {\n",
       "    var fig = this;\n",
       "\n",
       "    var nav_element = $('<div/>')\n",
       "    nav_element.attr('style', 'width: 100%');\n",
       "    this.root.append(nav_element);\n",
       "\n",
       "    // Define a callback function for later on.\n",
       "    function toolbar_event(event) {\n",
       "        return fig.toolbar_button_onclick(event['data']);\n",
       "    }\n",
       "    function toolbar_mouse_event(event) {\n",
       "        return fig.toolbar_button_onmouseover(event['data']);\n",
       "    }\n",
       "\n",
       "    for(var toolbar_ind in mpl.toolbar_items){\n",
       "        var name = mpl.toolbar_items[toolbar_ind][0];\n",
       "        var tooltip = mpl.toolbar_items[toolbar_ind][1];\n",
       "        var image = mpl.toolbar_items[toolbar_ind][2];\n",
       "        var method_name = mpl.toolbar_items[toolbar_ind][3];\n",
       "\n",
       "        if (!name) { continue; };\n",
       "\n",
       "        var button = $('<button class=\"btn btn-default\" href=\"#\" title=\"' + name + '\"><i class=\"fa ' + image + ' fa-lg\"></i></button>');\n",
       "        button.click(method_name, toolbar_event);\n",
       "        button.mouseover(tooltip, toolbar_mouse_event);\n",
       "        nav_element.append(button);\n",
       "    }\n",
       "\n",
       "    // Add the status bar.\n",
       "    var status_bar = $('<span class=\"mpl-message\" style=\"text-align:right; float: right;\"/>');\n",
       "    nav_element.append(status_bar);\n",
       "    this.message = status_bar[0];\n",
       "\n",
       "    // Add the close button to the window.\n",
       "    var buttongrp = $('<div class=\"btn-group inline pull-right\"></div>');\n",
       "    var button = $('<button class=\"btn btn-mini btn-primary\" href=\"#\" title=\"Stop Interaction\"><i class=\"fa fa-power-off icon-remove icon-large\"></i></button>');\n",
       "    button.click(function (evt) { fig.handle_close(fig, {}); } );\n",
       "    button.mouseover('Stop Interaction', toolbar_mouse_event);\n",
       "    buttongrp.append(button);\n",
       "    var titlebar = this.root.find($('.ui-dialog-titlebar'));\n",
       "    titlebar.prepend(buttongrp);\n",
       "}\n",
       "\n",
       "mpl.figure.prototype._root_extra_style = function(el){\n",
       "    var fig = this\n",
       "    el.on(\"remove\", function(){\n",
       "\tfig.close_ws(fig, {});\n",
       "    });\n",
       "}\n",
       "\n",
       "mpl.figure.prototype._canvas_extra_style = function(el){\n",
       "    // this is important to make the div 'focusable\n",
       "    el.attr('tabindex', 0)\n",
       "    // reach out to IPython and tell the keyboard manager to turn it's self\n",
       "    // off when our div gets focus\n",
       "\n",
       "    // location in version 3\n",
       "    if (IPython.notebook.keyboard_manager) {\n",
       "        IPython.notebook.keyboard_manager.register_events(el);\n",
       "    }\n",
       "    else {\n",
       "        // location in version 2\n",
       "        IPython.keyboard_manager.register_events(el);\n",
       "    }\n",
       "\n",
       "}\n",
       "\n",
       "mpl.figure.prototype._key_event_extra = function(event, name) {\n",
       "    var manager = IPython.notebook.keyboard_manager;\n",
       "    if (!manager)\n",
       "        manager = IPython.keyboard_manager;\n",
       "\n",
       "    // Check for shift+enter\n",
       "    if (event.shiftKey && event.which == 13) {\n",
       "        this.canvas_div.blur();\n",
       "        // select the cell after this one\n",
       "        var index = IPython.notebook.find_cell_index(this.cell_info[0]);\n",
       "        IPython.notebook.select(index + 1);\n",
       "    }\n",
       "}\n",
       "\n",
       "mpl.figure.prototype.handle_save = function(fig, msg) {\n",
       "    fig.ondownload(fig, null);\n",
       "}\n",
       "\n",
       "\n",
       "mpl.find_output_cell = function(html_output) {\n",
       "    // Return the cell and output element which can be found *uniquely* in the notebook.\n",
       "    // Note - this is a bit hacky, but it is done because the \"notebook_saving.Notebook\"\n",
       "    // IPython event is triggered only after the cells have been serialised, which for\n",
       "    // our purposes (turning an active figure into a static one), is too late.\n",
       "    var cells = IPython.notebook.get_cells();\n",
       "    var ncells = cells.length;\n",
       "    for (var i=0; i<ncells; i++) {\n",
       "        var cell = cells[i];\n",
       "        if (cell.cell_type === 'code'){\n",
       "            for (var j=0; j<cell.output_area.outputs.length; j++) {\n",
       "                var data = cell.output_area.outputs[j];\n",
       "                if (data.data) {\n",
       "                    // IPython >= 3 moved mimebundle to data attribute of output\n",
       "                    data = data.data;\n",
       "                }\n",
       "                if (data['text/html'] == html_output) {\n",
       "                    return [cell, data, j];\n",
       "                }\n",
       "            }\n",
       "        }\n",
       "    }\n",
       "}\n",
       "\n",
       "// Register the function which deals with the matplotlib target/channel.\n",
       "// The kernel may be null if the page has been refreshed.\n",
       "if (IPython.notebook.kernel != null) {\n",
       "    IPython.notebook.kernel.comm_manager.register_target('matplotlib', mpl.mpl_figure_comm);\n",
       "}\n"
      ],
      "text/plain": [
       "<IPython.core.display.Javascript object>"
      ]
     },
     "metadata": {},
     "output_type": "display_data"
    },
    {
     "data": {
      "text/html": [
       "<img src=\"data:image/png;base64,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\" width=\"432\">"
      ],
      "text/plain": [
       "<IPython.core.display.HTML object>"
      ]
     },
     "metadata": {},
     "output_type": "display_data"
    }
   ],
   "source": [
    "# Notebook backend required for animation\n",
    "%matplotlib notebook\n",
    "theta_anim = np.random.randn(2,1)\n",
    "(theta_anim, J_history) = gradientDescentAnimation(X, y, theta_anim, alpha, 50)\n",
    "\n",
    "# Reset to std params\n",
    "plt.ioff()\n",
    "%matplotlib inline"
   ]
  },
  {
   "cell_type": "markdown",
   "metadata": {},
   "source": [
    "#### Plot linear fit"
   ]
  },
  {
   "cell_type": "code",
   "execution_count": 55,
   "metadata": {
    "collapsed": false
   },
   "outputs": [
    {
     "data": {
      "image/png": "[encoded data removed]",
      "text/plain": [
       "<matplotlib.figure.Figure at 0xb4b79b0>"
      ]
     },
     "metadata": {},
     "output_type": "display_data"
    }
   ],
   "source": [
    "# Reset to std params\n",
    "plt.ioff()\n",
    "%matplotlib inline\n",
    "\n",
    "fig = plt.figure()\n",
    "axes = fig.add_axes([0.1, 0.1, 0.8, 0.8])\n",
    "axes.plot(X[:,1], y, 'rx', ms =10)\n",
    "axes.plot(X[:,1], X.dot(theta), '-')\n",
    "axes.set_xlabel('Population of City in 10,000s')\n",
    "axes.set_ylabel('Profit in $10,000s')\n",
    "axes.set_title('Profit vs population + linear fit')\n",
    "plt.show()"
   ]
  },
  {
   "cell_type": "markdown",
   "metadata": {},
   "source": [
    "#### Predict values for population sizes of 35,000 and 70,000"
   ]
  },
  {
   "cell_type": "code",
   "execution_count": 56,
   "metadata": {
    "collapsed": true
   },
   "outputs": [],
   "source": [
    "predict1 = theta.T.dot(np.array([1,3.5]))"
   ]
  },
  {
   "cell_type": "code",
   "execution_count": 57,
   "metadata": {
    "collapsed": false
   },
   "outputs": [
    {
     "name": "stdout",
     "output_type": "stream",
     "text": [
      "For population = 35,000, we predict a profit of 4519.8\n",
      "\n"
     ]
    }
   ],
   "source": [
    "print(\"For population = 35,000, we predict a profit of {:6.1f}\\n\".format(10000 * predict1[0]))"
   ]
  },
  {
   "cell_type": "code",
   "execution_count": 58,
   "metadata": {
    "collapsed": true
   },
   "outputs": [],
   "source": [
    "predict2 = theta.T.dot(np.array([1,7]))"
   ]
  },
  {
   "cell_type": "code",
   "execution_count": 59,
   "metadata": {
    "collapsed": false
   },
   "outputs": [
    {
     "name": "stdout",
     "output_type": "stream",
     "text": [
      "For population = 70,000, we predict a profit of 45342.5\n",
      "\n"
     ]
    }
   ],
   "source": [
    "print(\"For population = 70,000, we predict a profit of {:6.1f}\\n\".format(10000 * predict2[0]))"
   ]
  },
  {
   "cell_type": "markdown",
   "metadata": {},
   "source": [
    "###  Part 4: Visualizing J(theta_0, theta_1)"
   ]
  },
  {
   "cell_type": "markdown",
   "metadata": {},
   "source": [
    "#### Initalize mesh grid for contour plot visualization"
   ]
  },
  {
   "cell_type": "code",
   "execution_count": 60,
   "metadata": {
    "collapsed": true
   },
   "outputs": [],
   "source": [
    "theta0_vals = np.linspace(-10,10,100)"
   ]
  },
  {
   "cell_type": "code",
   "execution_count": 61,
   "metadata": {
    "collapsed": true
   },
   "outputs": [],
   "source": [
    "theta1_vals = np.linspace(-1, 4, 100)"
   ]
  },
  {
   "cell_type": "code",
   "execution_count": 62,
   "metadata": {
    "collapsed": true
   },
   "outputs": [],
   "source": [
    "J_vals = np.zeros((len(theta0_vals),len(theta1_vals)))"
   ]
  },
  {
   "cell_type": "code",
   "execution_count": 63,
   "metadata": {
    "collapsed": true
   },
   "outputs": [],
   "source": [
    "theta0_g, theta1_g = np.meshgrid(theta0_vals, theta1_vals)"
   ]
  },
  {
   "cell_type": "markdown",
   "metadata": {},
   "source": [
    "#### Fill the grid with cost values"
   ]
  },
  {
   "cell_type": "code",
   "execution_count": 64,
   "metadata": {
    "collapsed": true
   },
   "outputs": [],
   "source": [
    "for (i,j),v in np.ndenumerate(J_vals):\n",
    "    J_vals[i,j] = computeCost(X,y,np.array([theta0_g[i,j], theta1_g[i,j]]))    "
   ]
  },
  {
   "cell_type": "markdown",
   "metadata": {},
   "source": [
    "#### Contour plot"
   ]
  },
  {
   "cell_type": "code",
   "execution_count": 65,
   "metadata": {
    "collapsed": false
   },
   "outputs": [
    {
     "data": {
      "text/plain": [
       "<matplotlib.contour.QuadContourSet at 0xb781400>"
      ]
     },
     "execution_count": 65,
     "metadata": {},
     "output_type": "execute_result"
    },
    {
     "data": {
      "image/png": "[encoded data removed]",
      "text/plain": [
       "<matplotlib.figure.Figure at 0xae9fd68>"
      ]
     },
     "metadata": {},
     "output_type": "display_data"
    }
   ],
   "source": [
    "% matplotlib inline\n",
    "plt.contour(theta0_vals,theta1_vals,J_vals,np.logspace(-2, 3, 20))"
   ]
  },
  {
   "cell_type": "markdown",
   "metadata": {},
   "source": [
    "#### Gradient descent animation on contour plot"
   ]
  },
  {
   "cell_type": "code",
   "execution_count": 66,
   "metadata": {
    "collapsed": false,
    "scrolled": true
   },
   "outputs": [
    {
     "data": {
      "application/javascript": [
       "/* Put everything inside the global mpl namespace */\n",
       "window.mpl = {};\n",
       "\n",
       "\n",
       "mpl.get_websocket_type = function() {\n",
       "    if (typeof(WebSocket) !== 'undefined') {\n",
       "        return WebSocket;\n",
       "    } else if (typeof(MozWebSocket) !== 'undefined') {\n",
       "        return MozWebSocket;\n",
       "    } else {\n",
       "        alert('Your browser does not have WebSocket support.' +\n",
       "              'Please try Chrome, Safari or Firefox ≥ 6. ' +\n",
       "              'Firefox 4 and 5 are also supported but you ' +\n",
       "              'have to enable WebSockets in about:config.');\n",
       "    };\n",
       "}\n",
       "\n",
       "mpl.figure = function(figure_id, websocket, ondownload, parent_element) {\n",
       "    this.id = figure_id;\n",
       "\n",
       "    this.ws = websocket;\n",
       "\n",
       "    this.supports_binary = (this.ws.binaryType != undefined);\n",
       "\n",
       "    if (!this.supports_binary) {\n",
       "        var warnings = document.getElementById(\"mpl-warnings\");\n",
       "        if (warnings) {\n",
       "            warnings.style.display = 'block';\n",
       "            warnings.textContent = (\n",
       "                \"This browser does not support binary websocket messages. \" +\n",
       "                    \"Performance may be slow.\");\n",
       "        }\n",
       "    }\n",
       "\n",
       "    this.imageObj = new Image();\n",
       "\n",
       "    this.context = undefined;\n",
       "    this.message = undefined;\n",
       "    this.canvas = undefined;\n",
       "    this.rubberband_canvas = undefined;\n",
       "    this.rubberband_context = undefined;\n",
       "    this.format_dropdown = undefined;\n",
       "\n",
       "    this.image_mode = 'full';\n",
       "\n",
       "    this.root = $('<div/>');\n",
       "    this._root_extra_style(this.root)\n",
       "    this.root.attr('style', 'display: inline-block');\n",
       "\n",
       "    $(parent_element).append(this.root);\n",
       "\n",
       "    this._init_header(this);\n",
       "    this._init_canvas(this);\n",
       "    this._init_toolbar(this);\n",
       "\n",
       "    var fig = this;\n",
       "\n",
       "    this.waiting = false;\n",
       "\n",
       "    this.ws.onopen =  function () {\n",
       "            fig.send_message(\"supports_binary\", {value: fig.supports_binary});\n",
       "            fig.send_message(\"send_image_mode\", {});\n",
       "            if (mpl.ratio != 1) {\n",
       "                fig.send_message(\"set_dpi_ratio\", {'dpi_ratio': mpl.ratio});\n",
       "            }\n",
       "            fig.send_message(\"refresh\", {});\n",
       "        }\n",
       "\n",
       "    this.imageObj.onload = function() {\n",
       "            if (fig.image_mode == 'full') {\n",
       "                // Full images could contain transparency (where diff images\n",
       "                // almost always do), so we need to clear the canvas so that\n",
       "                // there is no ghosting.\n",
       "                fig.context.clearRect(0, 0, fig.canvas.width, fig.canvas.height);\n",
       "            }\n",
       "            fig.context.drawImage(fig.imageObj, 0, 0);\n",
       "        };\n",
       "\n",
       "    this.imageObj.onunload = function() {\n",
       "        this.ws.close();\n",
       "    }\n",
       "\n",
       "    this.ws.onmessage = this._make_on_message_function(this);\n",
       "\n",
       "    this.ondownload = ondownload;\n",
       "}\n",
       "\n",
       "mpl.figure.prototype._init_header = function() {\n",
       "    var titlebar = $(\n",
       "        '<div class=\"ui-dialog-titlebar ui-widget-header ui-corner-all ' +\n",
       "        'ui-helper-clearfix\"/>');\n",
       "    var titletext = $(\n",
       "        '<div class=\"ui-dialog-title\" style=\"width: 100%; ' +\n",
       "        'text-align: center; padding: 3px;\"/>');\n",
       "    titlebar.append(titletext)\n",
       "    this.root.append(titlebar);\n",
       "    this.header = titletext[0];\n",
       "}\n",
       "\n",
       "\n",
       "\n",
       "mpl.figure.prototype._canvas_extra_style = function(canvas_div) {\n",
       "\n",
       "}\n",
       "\n",
       "\n",
       "mpl.figure.prototype._root_extra_style = function(canvas_div) {\n",
       "\n",
       "}\n",
       "\n",
       "mpl.figure.prototype._init_canvas = function() {\n",
       "    var fig = this;\n",
       "\n",
       "    var canvas_div = $('<div/>');\n",
       "\n",
       "    canvas_div.attr('style', 'position: relative; clear: both; outline: 0');\n",
       "\n",
       "    function canvas_keyboard_event(event) {\n",
       "        return fig.key_event(event, event['data']);\n",
       "    }\n",
       "\n",
       "    canvas_div.keydown('key_press', canvas_keyboard_event);\n",
       "    canvas_div.keyup('key_release', canvas_keyboard_event);\n",
       "    this.canvas_div = canvas_div\n",
       "    this._canvas_extra_style(canvas_div)\n",
       "    this.root.append(canvas_div);\n",
       "\n",
       "    var canvas = $('<canvas/>');\n",
       "    canvas.addClass('mpl-canvas');\n",
       "    canvas.attr('style', \"left: 0; top: 0; z-index: 0; outline: 0\")\n",
       "\n",
       "    this.canvas = canvas[0];\n",
       "    this.context = canvas[0].getContext(\"2d\");\n",
       "\n",
       "    var backingStore = this.context.backingStorePixelRatio ||\n",
       "\tthis.context.webkitBackingStorePixelRatio ||\n",
       "\tthis.context.mozBackingStorePixelRatio ||\n",
       "\tthis.context.msBackingStorePixelRatio ||\n",
       "\tthis.context.oBackingStorePixelRatio ||\n",
       "\tthis.context.backingStorePixelRatio || 1;\n",
       "\n",
       "    mpl.ratio = (window.devicePixelRatio || 1) / backingStore;\n",
       "\n",
       "    var rubberband = $('<canvas/>');\n",
       "    rubberband.attr('style', \"position: absolute; left: 0; top: 0; z-index: 1;\")\n",
       "\n",
       "    var pass_mouse_events = true;\n",
       "\n",
       "    canvas_div.resizable({\n",
       "        start: function(event, ui) {\n",
       "            pass_mouse_events = false;\n",
       "        },\n",
       "        resize: function(event, ui) {\n",
       "            fig.request_resize(ui.size.width, ui.size.height);\n",
       "        },\n",
       "        stop: function(event, ui) {\n",
       "            pass_mouse_events = true;\n",
       "            fig.request_resize(ui.size.width, ui.size.height);\n",
       "        },\n",
       "    });\n",
       "\n",
       "    function mouse_event_fn(event) {\n",
       "        if (pass_mouse_events)\n",
       "            return fig.mouse_event(event, event['data']);\n",
       "    }\n",
       "\n",
       "    rubberband.mousedown('button_press', mouse_event_fn);\n",
       "    rubberband.mouseup('button_release', mouse_event_fn);\n",
       "    // Throttle sequential mouse events to 1 every 20ms.\n",
       "    rubberband.mousemove('motion_notify', mouse_event_fn);\n",
       "\n",
       "    rubberband.mouseenter('figure_enter', mouse_event_fn);\n",
       "    rubberband.mouseleave('figure_leave', mouse_event_fn);\n",
       "\n",
       "    canvas_div.on(\"wheel\", function (event) {\n",
       "        event = event.originalEvent;\n",
       "        event['data'] = 'scroll'\n",
       "        if (event.deltaY < 0) {\n",
       "            event.step = 1;\n",
       "        } else {\n",
       "            event.step = -1;\n",
       "        }\n",
       "        mouse_event_fn(event);\n",
       "    });\n",
       "\n",
       "    canvas_div.append(canvas);\n",
       "    canvas_div.append(rubberband);\n",
       "\n",
       "    this.rubberband = rubberband;\n",
       "    this.rubberband_canvas = rubberband[0];\n",
       "    this.rubberband_context = rubberband[0].getContext(\"2d\");\n",
       "    this.rubberband_context.strokeStyle = \"#000000\";\n",
       "\n",
       "    this._resize_canvas = function(width, height) {\n",
       "        // Keep the size of the canvas, canvas container, and rubber band\n",
       "        // canvas in synch.\n",
       "        canvas_div.css('width', width)\n",
       "        canvas_div.css('height', height)\n",
       "\n",
       "        canvas.attr('width', width * mpl.ratio);\n",
       "        canvas.attr('height', height * mpl.ratio);\n",
       "        canvas.attr('style', 'width: ' + width + 'px; height: ' + height + 'px;');\n",
       "\n",
       "        rubberband.attr('width', width);\n",
       "        rubberband.attr('height', height);\n",
       "    }\n",
       "\n",
       "    // Set the figure to an initial 600x600px, this will subsequently be updated\n",
       "    // upon first draw.\n",
       "    this._resize_canvas(600, 600);\n",
       "\n",
       "    // Disable right mouse context menu.\n",
       "    $(this.rubberband_canvas).bind(\"contextmenu\",function(e){\n",
       "        return false;\n",
       "    });\n",
       "\n",
       "    function set_focus () {\n",
       "        canvas.focus();\n",
       "        canvas_div.focus();\n",
       "    }\n",
       "\n",
       "    window.setTimeout(set_focus, 100);\n",
       "}\n",
       "\n",
       "mpl.figure.prototype._init_toolbar = function() {\n",
       "    var fig = this;\n",
       "\n",
       "    var nav_element = $('<div/>')\n",
       "    nav_element.attr('style', 'width: 100%');\n",
       "    this.root.append(nav_element);\n",
       "\n",
       "    // Define a callback function for later on.\n",
       "    function toolbar_event(event) {\n",
       "        return fig.toolbar_button_onclick(event['data']);\n",
       "    }\n",
       "    function toolbar_mouse_event(event) {\n",
       "        return fig.toolbar_button_onmouseover(event['data']);\n",
       "    }\n",
       "\n",
       "    for(var toolbar_ind in mpl.toolbar_items) {\n",
       "        var name = mpl.toolbar_items[toolbar_ind][0];\n",
       "        var tooltip = mpl.toolbar_items[toolbar_ind][1];\n",
       "        var image = mpl.toolbar_items[toolbar_ind][2];\n",
       "        var method_name = mpl.toolbar_items[toolbar_ind][3];\n",
       "\n",
       "        if (!name) {\n",
       "            // put a spacer in here.\n",
       "            continue;\n",
       "        }\n",
       "        var button = $('<button/>');\n",
       "        button.addClass('ui-button ui-widget ui-state-default ui-corner-all ' +\n",
       "                        'ui-button-icon-only');\n",
       "        button.attr('role', 'button');\n",
       "        button.attr('aria-disabled', 'false');\n",
       "        button.click(method_name, toolbar_event);\n",
       "        button.mouseover(tooltip, toolbar_mouse_event);\n",
       "\n",
       "        var icon_img = $('<span/>');\n",
       "        icon_img.addClass('ui-button-icon-primary ui-icon');\n",
       "        icon_img.addClass(image);\n",
       "        icon_img.addClass('ui-corner-all');\n",
       "\n",
       "        var tooltip_span = $('<span/>');\n",
       "        tooltip_span.addClass('ui-button-text');\n",
       "        tooltip_span.html(tooltip);\n",
       "\n",
       "        button.append(icon_img);\n",
       "        button.append(tooltip_span);\n",
       "\n",
       "        nav_element.append(button);\n",
       "    }\n",
       "\n",
       "    var fmt_picker_span = $('<span/>');\n",
       "\n",
       "    var fmt_picker = $('<select/>');\n",
       "    fmt_picker.addClass('mpl-toolbar-option ui-widget ui-widget-content');\n",
       "    fmt_picker_span.append(fmt_picker);\n",
       "    nav_element.append(fmt_picker_span);\n",
       "    this.format_dropdown = fmt_picker[0];\n",
       "\n",
       "    for (var ind in mpl.extensions) {\n",
       "        var fmt = mpl.extensions[ind];\n",
       "        var option = $(\n",
       "            '<option/>', {selected: fmt === mpl.default_extension}).html(fmt);\n",
       "        fmt_picker.append(option)\n",
       "    }\n",
       "\n",
       "    // Add hover states to the ui-buttons\n",
       "    $( \".ui-button\" ).hover(\n",
       "        function() { $(this).addClass(\"ui-state-hover\");},\n",
       "        function() { $(this).removeClass(\"ui-state-hover\");}\n",
       "    );\n",
       "\n",
       "    var status_bar = $('<span class=\"mpl-message\"/>');\n",
       "    nav_element.append(status_bar);\n",
       "    this.message = status_bar[0];\n",
       "}\n",
       "\n",
       "mpl.figure.prototype.request_resize = function(x_pixels, y_pixels) {\n",
       "    // Request matplotlib to resize the figure. Matplotlib will then trigger a resize in the client,\n",
       "    // which will in turn request a refresh of the image.\n",
       "    this.send_message('resize', {'width': x_pixels, 'height': y_pixels});\n",
       "}\n",
       "\n",
       "mpl.figure.prototype.send_message = function(type, properties) {\n",
       "    properties['type'] = type;\n",
       "    properties['figure_id'] = this.id;\n",
       "    this.ws.send(JSON.stringify(properties));\n",
       "}\n",
       "\n",
       "mpl.figure.prototype.send_draw_message = function() {\n",
       "    if (!this.waiting) {\n",
       "        this.waiting = true;\n",
       "        this.ws.send(JSON.stringify({type: \"draw\", figure_id: this.id}));\n",
       "    }\n",
       "}\n",
       "\n",
       "\n",
       "mpl.figure.prototype.handle_save = function(fig, msg) {\n",
       "    var format_dropdown = fig.format_dropdown;\n",
       "    var format = format_dropdown.options[format_dropdown.selectedIndex].value;\n",
       "    fig.ondownload(fig, format);\n",
       "}\n",
       "\n",
       "\n",
       "mpl.figure.prototype.handle_resize = function(fig, msg) {\n",
       "    var size = msg['size'];\n",
       "    if (size[0] != fig.canvas.width || size[1] != fig.canvas.height) {\n",
       "        fig._resize_canvas(size[0], size[1]);\n",
       "        fig.send_message(\"refresh\", {});\n",
       "    };\n",
       "}\n",
       "\n",
       "mpl.figure.prototype.handle_rubberband = function(fig, msg) {\n",
       "    var x0 = msg['x0'] / mpl.ratio;\n",
       "    var y0 = (fig.canvas.height - msg['y0']) / mpl.ratio;\n",
       "    var x1 = msg['x1'] / mpl.ratio;\n",
       "    var y1 = (fig.canvas.height - msg['y1']) / mpl.ratio;\n",
       "    x0 = Math.floor(x0) + 0.5;\n",
       "    y0 = Math.floor(y0) + 0.5;\n",
       "    x1 = Math.floor(x1) + 0.5;\n",
       "    y1 = Math.floor(y1) + 0.5;\n",
       "    var min_x = Math.min(x0, x1);\n",
       "    var min_y = Math.min(y0, y1);\n",
       "    var width = Math.abs(x1 - x0);\n",
       "    var height = Math.abs(y1 - y0);\n",
       "\n",
       "    fig.rubberband_context.clearRect(\n",
       "        0, 0, fig.canvas.width, fig.canvas.height);\n",
       "\n",
       "    fig.rubberband_context.strokeRect(min_x, min_y, width, height);\n",
       "}\n",
       "\n",
       "mpl.figure.prototype.handle_figure_label = function(fig, msg) {\n",
       "    // Updates the figure title.\n",
       "    fig.header.textContent = msg['label'];\n",
       "}\n",
       "\n",
       "mpl.figure.prototype.handle_cursor = function(fig, msg) {\n",
       "    var cursor = msg['cursor'];\n",
       "    switch(cursor)\n",
       "    {\n",
       "    case 0:\n",
       "        cursor = 'pointer';\n",
       "        break;\n",
       "    case 1:\n",
       "        cursor = 'default';\n",
       "        break;\n",
       "    case 2:\n",
       "        cursor = 'crosshair';\n",
       "        break;\n",
       "    case 3:\n",
       "        cursor = 'move';\n",
       "        break;\n",
       "    }\n",
       "    fig.rubberband_canvas.style.cursor = cursor;\n",
       "}\n",
       "\n",
       "mpl.figure.prototype.handle_message = function(fig, msg) {\n",
       "    fig.message.textContent = msg['message'];\n",
       "}\n",
       "\n",
       "mpl.figure.prototype.handle_draw = function(fig, msg) {\n",
       "    // Request the server to send over a new figure.\n",
       "    fig.send_draw_message();\n",
       "}\n",
       "\n",
       "mpl.figure.prototype.handle_image_mode = function(fig, msg) {\n",
       "    fig.image_mode = msg['mode'];\n",
       "}\n",
       "\n",
       "mpl.figure.prototype.updated_canvas_event = function() {\n",
       "    // Called whenever the canvas gets updated.\n",
       "    this.send_message(\"ack\", {});\n",
       "}\n",
       "\n",
       "// A function to construct a web socket function for onmessage handling.\n",
       "// Called in the figure constructor.\n",
       "mpl.figure.prototype._make_on_message_function = function(fig) {\n",
       "    return function socket_on_message(evt) {\n",
       "        if (evt.data instanceof Blob) {\n",
       "            /* FIXME: We get \"Resource interpreted as Image but\n",
       "             * transferred with MIME type text/plain:\" errors on\n",
       "             * Chrome.  But how to set the MIME type?  It doesn't seem\n",
       "             * to be part of the websocket stream */\n",
       "            evt.data.type = \"image/png\";\n",
       "\n",
       "            /* Free the memory for the previous frames */\n",
       "            if (fig.imageObj.src) {\n",
       "                (window.URL || window.webkitURL).revokeObjectURL(\n",
       "                    fig.imageObj.src);\n",
       "            }\n",
       "\n",
       "            fig.imageObj.src = (window.URL || window.webkitURL).createObjectURL(\n",
       "                evt.data);\n",
       "            fig.updated_canvas_event();\n",
       "            fig.waiting = false;\n",
       "            return;\n",
       "        }\n",
       "        else if (typeof evt.data === 'string' && evt.data.slice(0, 21) == \"data:image/png;base64\") {\n",
       "            fig.imageObj.src = evt.data;\n",
       "            fig.updated_canvas_event();\n",
       "            fig.waiting = false;\n",
       "            return;\n",
       "        }\n",
       "\n",
       "        var msg = JSON.parse(evt.data);\n",
       "        var msg_type = msg['type'];\n",
       "\n",
       "        // Call the  \"handle_{type}\" callback, which takes\n",
       "        // the figure and JSON message as its only arguments.\n",
       "        try {\n",
       "            var callback = fig[\"handle_\" + msg_type];\n",
       "        } catch (e) {\n",
       "            console.log(\"No handler for the '\" + msg_type + \"' message type: \", msg);\n",
       "            return;\n",
       "        }\n",
       "\n",
       "        if (callback) {\n",
       "            try {\n",
       "                // console.log(\"Handling '\" + msg_type + \"' message: \", msg);\n",
       "                callback(fig, msg);\n",
       "            } catch (e) {\n",
       "                console.log(\"Exception inside the 'handler_\" + msg_type + \"' callback:\", e, e.stack, msg);\n",
       "            }\n",
       "        }\n",
       "    };\n",
       "}\n",
       "\n",
       "// from http://stackoverflow.com/questions/1114465/getting-mouse-location-in-canvas\n",
       "mpl.findpos = function(e) {\n",
       "    //this section is from http://www.quirksmode.org/js/events_properties.html\n",
       "    var targ;\n",
       "    if (!e)\n",
       "        e = window.event;\n",
       "    if (e.target)\n",
       "        targ = e.target;\n",
       "    else if (e.srcElement)\n",
       "        targ = e.srcElement;\n",
       "    if (targ.nodeType == 3) // defeat Safari bug\n",
       "        targ = targ.parentNode;\n",
       "\n",
       "    // jQuery normalizes the pageX and pageY\n",
       "    // pageX,Y are the mouse positions relative to the document\n",
       "    // offset() returns the position of the element relative to the document\n",
       "    var x = e.pageX - $(targ).offset().left;\n",
       "    var y = e.pageY - $(targ).offset().top;\n",
       "\n",
       "    return {\"x\": x, \"y\": y};\n",
       "};\n",
       "\n",
       "/*\n",
       " * return a copy of an object with only non-object keys\n",
       " * we need this to avoid circular references\n",
       " * http://stackoverflow.com/a/24161582/3208463\n",
       " */\n",
       "function simpleKeys (original) {\n",
       "  return Object.keys(original).reduce(function (obj, key) {\n",
       "    if (typeof original[key] !== 'object')\n",
       "        obj[key] = original[key]\n",
       "    return obj;\n",
       "  }, {});\n",
       "}\n",
       "\n",
       "mpl.figure.prototype.mouse_event = function(event, name) {\n",
       "    var canvas_pos = mpl.findpos(event)\n",
       "\n",
       "    if (name === 'button_press')\n",
       "    {\n",
       "        this.canvas.focus();\n",
       "        this.canvas_div.focus();\n",
       "    }\n",
       "\n",
       "    var x = canvas_pos.x * mpl.ratio;\n",
       "    var y = canvas_pos.y * mpl.ratio;\n",
       "\n",
       "    this.send_message(name, {x: x, y: y, button: event.button,\n",
       "                             step: event.step,\n",
       "                             guiEvent: simpleKeys(event)});\n",
       "\n",
       "    /* This prevents the web browser from automatically changing to\n",
       "     * the text insertion cursor when the button is pressed.  We want\n",
       "     * to control all of the cursor setting manually through the\n",
       "     * 'cursor' event from matplotlib */\n",
       "    event.preventDefault();\n",
       "    return false;\n",
       "}\n",
       "\n",
       "mpl.figure.prototype._key_event_extra = function(event, name) {\n",
       "    // Handle any extra behaviour associated with a key event\n",
       "}\n",
       "\n",
       "mpl.figure.prototype.key_event = function(event, name) {\n",
       "\n",
       "    // Prevent repeat events\n",
       "    if (name == 'key_press')\n",
       "    {\n",
       "        if (event.which === this._key)\n",
       "            return;\n",
       "        else\n",
       "            this._key = event.which;\n",
       "    }\n",
       "    if (name == 'key_release')\n",
       "        this._key = null;\n",
       "\n",
       "    var value = '';\n",
       "    if (event.ctrlKey && event.which != 17)\n",
       "        value += \"ctrl+\";\n",
       "    if (event.altKey && event.which != 18)\n",
       "        value += \"alt+\";\n",
       "    if (event.shiftKey && event.which != 16)\n",
       "        value += \"shift+\";\n",
       "\n",
       "    value += 'k';\n",
       "    value += event.which.toString();\n",
       "\n",
       "    this._key_event_extra(event, name);\n",
       "\n",
       "    this.send_message(name, {key: value,\n",
       "                             guiEvent: simpleKeys(event)});\n",
       "    return false;\n",
       "}\n",
       "\n",
       "mpl.figure.prototype.toolbar_button_onclick = function(name) {\n",
       "    if (name == 'download') {\n",
       "        this.handle_save(this, null);\n",
       "    } else {\n",
       "        this.send_message(\"toolbar_button\", {name: name});\n",
       "    }\n",
       "};\n",
       "\n",
       "mpl.figure.prototype.toolbar_button_onmouseover = function(tooltip) {\n",
       "    this.message.textContent = tooltip;\n",
       "};\n",
       "mpl.toolbar_items = [[\"Home\", \"Reset original view\", \"fa fa-home icon-home\", \"home\"], [\"Back\", \"Back to  previous view\", \"fa fa-arrow-left icon-arrow-left\", \"back\"], [\"Forward\", \"Forward to next view\", \"fa fa-arrow-right icon-arrow-right\", \"forward\"], [\"\", \"\", \"\", \"\"], [\"Pan\", \"Pan axes with left mouse, zoom with right\", \"fa fa-arrows icon-move\", \"pan\"], [\"Zoom\", \"Zoom to rectangle\", \"fa fa-square-o icon-check-empty\", \"zoom\"], [\"\", \"\", \"\", \"\"], [\"Download\", \"Download plot\", \"fa fa-floppy-o icon-save\", \"download\"]];\n",
       "\n",
       "mpl.extensions = [\"eps\", \"jpeg\", \"pdf\", \"png\", \"ps\", \"raw\", \"svg\", \"tif\"];\n",
       "\n",
       "mpl.default_extension = \"png\";var comm_websocket_adapter = function(comm) {\n",
       "    // Create a \"websocket\"-like object which calls the given IPython comm\n",
       "    // object with the appropriate methods. Currently this is a non binary\n",
       "    // socket, so there is still some room for performance tuning.\n",
       "    var ws = {};\n",
       "\n",
       "    ws.close = function() {\n",
       "        comm.close()\n",
       "    };\n",
       "    ws.send = function(m) {\n",
       "        //console.log('sending', m);\n",
       "        comm.send(m);\n",
       "    };\n",
       "    // Register the callback with on_msg.\n",
       "    comm.on_msg(function(msg) {\n",
       "        //console.log('receiving', msg['content']['data'], msg);\n",
       "        // Pass the mpl event to the overriden (by mpl) onmessage function.\n",
       "        ws.onmessage(msg['content']['data'])\n",
       "    });\n",
       "    return ws;\n",
       "}\n",
       "\n",
       "mpl.mpl_figure_comm = function(comm, msg) {\n",
       "    // This is the function which gets called when the mpl process\n",
       "    // starts-up an IPython Comm through the \"matplotlib\" channel.\n",
       "\n",
       "    var id = msg.content.data.id;\n",
       "    // Get hold of the div created by the display call when the Comm\n",
       "    // socket was opened in Python.\n",
       "    var element = $(\"#\" + id);\n",
       "    var ws_proxy = comm_websocket_adapter(comm)\n",
       "\n",
       "    function ondownload(figure, format) {\n",
       "        window.open(figure.imageObj.src);\n",
       "    }\n",
       "\n",
       "    var fig = new mpl.figure(id, ws_proxy,\n",
       "                           ondownload,\n",
       "                           element.get(0));\n",
       "\n",
       "    // Call onopen now - mpl needs it, as it is assuming we've passed it a real\n",
       "    // web socket which is closed, not our websocket->open comm proxy.\n",
       "    ws_proxy.onopen();\n",
       "\n",
       "    fig.parent_element = element.get(0);\n",
       "    fig.cell_info = mpl.find_output_cell(\"<div id='\" + id + \"'></div>\");\n",
       "    if (!fig.cell_info) {\n",
       "        console.error(\"Failed to find cell for figure\", id, fig);\n",
       "        return;\n",
       "    }\n",
       "\n",
       "    var output_index = fig.cell_info[2]\n",
       "    var cell = fig.cell_info[0];\n",
       "\n",
       "};\n",
       "\n",
       "mpl.figure.prototype.handle_close = function(fig, msg) {\n",
       "    var width = fig.canvas.width/mpl.ratio\n",
       "    fig.root.unbind('remove')\n",
       "\n",
       "    // Update the output cell to use the data from the current canvas.\n",
       "    fig.push_to_output();\n",
       "    var dataURL = fig.canvas.toDataURL();\n",
       "    // Re-enable the keyboard manager in IPython - without this line, in FF,\n",
       "    // the notebook keyboard shortcuts fail.\n",
       "    IPython.keyboard_manager.enable()\n",
       "    $(fig.parent_element).html('<img src=\"' + dataURL + '\" width=\"' + width + '\">');\n",
       "    fig.close_ws(fig, msg);\n",
       "}\n",
       "\n",
       "mpl.figure.prototype.close_ws = function(fig, msg){\n",
       "    fig.send_message('closing', msg);\n",
       "    // fig.ws.close()\n",
       "}\n",
       "\n",
       "mpl.figure.prototype.push_to_output = function(remove_interactive) {\n",
       "    // Turn the data on the canvas into data in the output cell.\n",
       "    var width = this.canvas.width/mpl.ratio\n",
       "    var dataURL = this.canvas.toDataURL();\n",
       "    this.cell_info[1]['text/html'] = '<img src=\"' + dataURL + '\" width=\"' + width + '\">';\n",
       "}\n",
       "\n",
       "mpl.figure.prototype.updated_canvas_event = function() {\n",
       "    // Tell IPython that the notebook contents must change.\n",
       "    IPython.notebook.set_dirty(true);\n",
       "    this.send_message(\"ack\", {});\n",
       "    var fig = this;\n",
       "    // Wait a second, then push the new image to the DOM so\n",
       "    // that it is saved nicely (might be nice to debounce this).\n",
       "    setTimeout(function () { fig.push_to_output() }, 1000);\n",
       "}\n",
       "\n",
       "mpl.figure.prototype._init_toolbar = function() {\n",
       "    var fig = this;\n",
       "\n",
       "    var nav_element = $('<div/>')\n",
       "    nav_element.attr('style', 'width: 100%');\n",
       "    this.root.append(nav_element);\n",
       "\n",
       "    // Define a callback function for later on.\n",
       "    function toolbar_event(event) {\n",
       "        return fig.toolbar_button_onclick(event['data']);\n",
       "    }\n",
       "    function toolbar_mouse_event(event) {\n",
       "        return fig.toolbar_button_onmouseover(event['data']);\n",
       "    }\n",
       "\n",
       "    for(var toolbar_ind in mpl.toolbar_items){\n",
       "        var name = mpl.toolbar_items[toolbar_ind][0];\n",
       "        var tooltip = mpl.toolbar_items[toolbar_ind][1];\n",
       "        var image = mpl.toolbar_items[toolbar_ind][2];\n",
       "        var method_name = mpl.toolbar_items[toolbar_ind][3];\n",
       "\n",
       "        if (!name) { continue; };\n",
       "\n",
       "        var button = $('<button class=\"btn btn-default\" href=\"#\" title=\"' + name + '\"><i class=\"fa ' + image + ' fa-lg\"></i></button>');\n",
       "        button.click(method_name, toolbar_event);\n",
       "        button.mouseover(tooltip, toolbar_mouse_event);\n",
       "        nav_element.append(button);\n",
       "    }\n",
       "\n",
       "    // Add the status bar.\n",
       "    var status_bar = $('<span class=\"mpl-message\" style=\"text-align:right; float: right;\"/>');\n",
       "    nav_element.append(status_bar);\n",
       "    this.message = status_bar[0];\n",
       "\n",
       "    // Add the close button to the window.\n",
       "    var buttongrp = $('<div class=\"btn-group inline pull-right\"></div>');\n",
       "    var button = $('<button class=\"btn btn-mini btn-primary\" href=\"#\" title=\"Stop Interaction\"><i class=\"fa fa-power-off icon-remove icon-large\"></i></button>');\n",
       "    button.click(function (evt) { fig.handle_close(fig, {}); } );\n",
       "    button.mouseover('Stop Interaction', toolbar_mouse_event);\n",
       "    buttongrp.append(button);\n",
       "    var titlebar = this.root.find($('.ui-dialog-titlebar'));\n",
       "    titlebar.prepend(buttongrp);\n",
       "}\n",
       "\n",
       "mpl.figure.prototype._root_extra_style = function(el){\n",
       "    var fig = this\n",
       "    el.on(\"remove\", function(){\n",
       "\tfig.close_ws(fig, {});\n",
       "    });\n",
       "}\n",
       "\n",
       "mpl.figure.prototype._canvas_extra_style = function(el){\n",
       "    // this is important to make the div 'focusable\n",
       "    el.attr('tabindex', 0)\n",
       "    // reach out to IPython and tell the keyboard manager to turn it's self\n",
       "    // off when our div gets focus\n",
       "\n",
       "    // location in version 3\n",
       "    if (IPython.notebook.keyboard_manager) {\n",
       "        IPython.notebook.keyboard_manager.register_events(el);\n",
       "    }\n",
       "    else {\n",
       "        // location in version 2\n",
       "        IPython.keyboard_manager.register_events(el);\n",
       "    }\n",
       "\n",
       "}\n",
       "\n",
       "mpl.figure.prototype._key_event_extra = function(event, name) {\n",
       "    var manager = IPython.notebook.keyboard_manager;\n",
       "    if (!manager)\n",
       "        manager = IPython.keyboard_manager;\n",
       "\n",
       "    // Check for shift+enter\n",
       "    if (event.shiftKey && event.which == 13) {\n",
       "        this.canvas_div.blur();\n",
       "        // select the cell after this one\n",
       "        var index = IPython.notebook.find_cell_index(this.cell_info[0]);\n",
       "        IPython.notebook.select(index + 1);\n",
       "    }\n",
       "}\n",
       "\n",
       "mpl.figure.prototype.handle_save = function(fig, msg) {\n",
       "    fig.ondownload(fig, null);\n",
       "}\n",
       "\n",
       "\n",
       "mpl.find_output_cell = function(html_output) {\n",
       "    // Return the cell and output element which can be found *uniquely* in the notebook.\n",
       "    // Note - this is a bit hacky, but it is done because the \"notebook_saving.Notebook\"\n",
       "    // IPython event is triggered only after the cells have been serialised, which for\n",
       "    // our purposes (turning an active figure into a static one), is too late.\n",
       "    var cells = IPython.notebook.get_cells();\n",
       "    var ncells = cells.length;\n",
       "    for (var i=0; i<ncells; i++) {\n",
       "        var cell = cells[i];\n",
       "        if (cell.cell_type === 'code'){\n",
       "            for (var j=0; j<cell.output_area.outputs.length; j++) {\n",
       "                var data = cell.output_area.outputs[j];\n",
       "                if (data.data) {\n",
       "                    // IPython >= 3 moved mimebundle to data attribute of output\n",
       "                    data = data.data;\n",
       "                }\n",
       "                if (data['text/html'] == html_output) {\n",
       "                    return [cell, data, j];\n",
       "                }\n",
       "            }\n",
       "        }\n",
       "    }\n",
       "}\n",
       "\n",
       "// Register the function which deals with the matplotlib target/channel.\n",
       "// The kernel may be null if the page has been refreshed.\n",
       "if (IPython.notebook.kernel != null) {\n",
       "    IPython.notebook.kernel.comm_manager.register_target('matplotlib', mpl.mpl_figure_comm);\n",
       "}\n"
      ],
      "text/plain": [
       "<IPython.core.display.Javascript object>"
      ]
     },
     "metadata": {},
     "output_type": "display_data"
    },
    {
     "data": {
      "text/html": [
       "<img src=\"data:image/png;base64,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\" width=\"864\">"
      ],
      "text/plain": [
       "<IPython.core.display.HTML object>"
      ]
     },
     "metadata": {},
     "output_type": "display_data"
    }
   ],
   "source": [
    "# Notebook backend required for animation\n",
    "%matplotlib notebook\n",
    "theta = np.array([10,4])\n",
    "theta = theta.reshape(-1,1)\n",
    "\n",
    "m = len(y)\n",
    "alpha = 0.01\n",
    "iterations = 50\n",
    "\n",
    "plt.ion()\n",
    "fig = plt.figure(figsize=(12,6))\n",
    "ax1 = fig.add_subplot(1,2,1)\n",
    "ax2 = fig.add_subplot(122,projection='3d')\n",
    "ax1.contour(theta0_vals,theta1_vals,J_vals,np.logspace(-2, 3, 20))\n",
    "ax2.plot_surface(theta0_vals,theta1_vals,J_vals,rstride=4, cstride=4, alpha = 0.25,cmap='coolwarm')\n",
    "\n",
    "fig.show()\n",
    "fig.canvas.draw()\n",
    "    \n",
    "   \n",
    "for iter in np.arange(iterations):\n",
    "    theta = theta - (alpha / m) * X.T.dot(X.dot(theta)-y)\n",
    "    ax1.plot(theta[0,0],theta[1,0],'ro',ms=2)\n",
    "    fig.canvas.draw()\n",
    "        \n",
    "\n",
    "# Reset to std params\n",
    "plt.ioff()\n",
    "%matplotlib inline\n",
    "\n"
   ]
  },
  {
   "cell_type": "markdown",
   "metadata": {},
   "source": [
    "### Comparison with sklearn linear regression"
   ]
  },
  {
   "cell_type": "code",
   "execution_count": 67,
   "metadata": {
    "collapsed": true
   },
   "outputs": [],
   "source": [
    "data = np.genfromtxt('ex1data1.txt', delimiter=\",\")"
   ]
  },
  {
   "cell_type": "code",
   "execution_count": 68,
   "metadata": {
    "collapsed": true
   },
   "outputs": [],
   "source": [
    "X = np.c_[data[:,0]]; y=np.c_[data[:,1]]"
   ]
  },
  {
   "cell_type": "code",
   "execution_count": 69,
   "metadata": {
    "collapsed": true
   },
   "outputs": [],
   "source": [
    "lm = LinearRegression()"
   ]
  },
  {
   "cell_type": "code",
   "execution_count": 70,
   "metadata": {
    "collapsed": false
   },
   "outputs": [
    {
     "data": {
      "text/plain": [
       "LinearRegression(copy_X=True, fit_intercept=True, n_jobs=1, normalize=False)"
      ]
     },
     "execution_count": 70,
     "metadata": {},
     "output_type": "execute_result"
    }
   ],
   "source": [
    "lm.fit(X,y)"
   ]
  },
  {
   "cell_type": "code",
   "execution_count": 71,
   "metadata": {
    "collapsed": true
   },
   "outputs": [],
   "source": [
    "theta = np.c_[lm.intercept_, lm.coef_]"
   ]
  },
  {
   "cell_type": "code",
   "execution_count": 72,
   "metadata": {
    "collapsed": false
   },
   "outputs": [
    {
     "name": "stdout",
     "output_type": "stream",
     "text": [
      "[[-3.89578088  1.19303364]]\n"
     ]
    }
   ],
   "source": [
    "print(theta)"
   ]
  },
  {
   "cell_type": "markdown",
   "metadata": {},
   "source": [
    "## Linear regression with multiple variables"
   ]
  },
  {
   "cell_type": "markdown",
   "metadata": {},
   "source": [
    "### Part 1 : Feature normalization\n",
    "When features differ by order of magnitude, first performing scaling can make gradient descent converge much more quickly"
   ]
  },
  {
   "cell_type": "code",
   "execution_count": 73,
   "metadata": {
    "collapsed": true
   },
   "outputs": [],
   "source": [
    "data = np.genfromtxt('ex1data2.txt', delimiter=\",\")\n",
    "X = np.c_[data[:,:2]]\n",
    "y = np.c_[data[:,2]]"
   ]
  },
  {
   "cell_type": "code",
   "execution_count": 74,
   "metadata": {
    "collapsed": true
   },
   "outputs": [],
   "source": [
    "m = len(data)"
   ]
  },
  {
   "cell_type": "code",
   "execution_count": 75,
   "metadata": {
    "collapsed": false
   },
   "outputs": [
    {
     "name": "stdout",
     "output_type": "stream",
     "text": [
      "First 10 examples of the dataset\n",
      "X =\n",
      " [[ 2104.     3.]\n",
      " [ 1600.     3.]\n",
      " [ 2400.     3.]\n",
      " [ 1416.     2.]\n",
      " [ 3000.     4.]\n",
      " [ 1985.     4.]\n",
      " [ 1534.     3.]\n",
      " [ 1427.     3.]\n",
      " [ 1380.     3.]\n",
      " [ 1494.     3.]], \n",
      "\n",
      " y =\n",
      " [[ 399900.]\n",
      " [ 329900.]\n",
      " [ 369000.]\n",
      " [ 232000.]\n",
      " [ 539900.]\n",
      " [ 299900.]\n",
      " [ 314900.]\n",
      " [ 198999.]\n",
      " [ 212000.]\n",
      " [ 242500.]] \n"
     ]
    }
   ],
   "source": [
    "np.set_printoptions(suppress=True)\n",
    "print(\"First 10 examples of the dataset\")\n",
    "print(\"X =\\n {}, \\n\\n y =\\n {} \".format(X[:10],y[:10]))"
   ]
  },
  {
   "cell_type": "code",
   "execution_count": 76,
   "metadata": {
    "collapsed": true
   },
   "outputs": [],
   "source": [
    "def featureNormalize(X):\n",
    "    mu = np.average(X, axis=0)\n",
    "    sigma = np.std(X, axis=0)\n",
    "    X_norm = (X - mu)/sigma\n",
    "    \n",
    "    return X_norm,mu,sigma    "
   ]
  },
  {
   "cell_type": "code",
   "execution_count": 77,
   "metadata": {
    "collapsed": true
   },
   "outputs": [],
   "source": [
    "(X,mu,sigma) = featureNormalize(X)"
   ]
  },
  {
   "cell_type": "code",
   "execution_count": 78,
   "metadata": {
    "collapsed": true
   },
   "outputs": [],
   "source": [
    "# Add intercept\n",
    "X = np.c_[np.ones(m),X]"
   ]
  },
  {
   "cell_type": "markdown",
   "metadata": {},
   "source": [
    "### Part 2: Gradient Descent"
   ]
  },
  {
   "cell_type": "code",
   "execution_count": 79,
   "metadata": {
    "collapsed": true
   },
   "outputs": [],
   "source": [
    "# Choose some alpha\n",
    "alpha = 0.01\n",
    "num_iters = 400"
   ]
  },
  {
   "cell_type": "code",
   "execution_count": 80,
   "metadata": {
    "collapsed": true
   },
   "outputs": [],
   "source": [
    "# Initialize theta and run gradient descent (gradientDescent function can be used)\n",
    "theta = np.zeros((3,1))\n",
    "[theta, J_history] = gradientDescent(X, y, theta, alpha, num_iters)"
   ]
  },
  {
   "cell_type": "code",
   "execution_count": 81,
   "metadata": {
    "collapsed": false
   },
   "outputs": [
    {
     "data": {
      "text/plain": [
       "[<matplotlib.lines.Line2D at 0xa9bddd8>]"
      ]
     },
     "execution_count": 81,
     "metadata": {},
     "output_type": "execute_result"
    },
    {
     "data": {
      "image/png": "[encoded data removed]",
      "text/plain": [
       "<matplotlib.figure.Figure at 0xb7d5518>"
      ]
     },
     "metadata": {},
     "output_type": "display_data"
    }
   ],
   "source": [
    "# Plot convergence graph\n",
    "plt.plot(J_history,'-b',lw=2)"
   ]
  },
  {
   "cell_type": "code",
   "execution_count": 82,
   "metadata": {
    "collapsed": false
   },
   "outputs": [
    {
     "name": "stdout",
     "output_type": "stream",
     "text": [
      "Theta computed from gradient descent: \n",
      "\n",
      "[[ 334302.06399328]\n",
      " [  99411.44947359]\n",
      " [   3267.01285407]]\n"
     ]
    }
   ],
   "source": [
    "# Display gradient descent results\n",
    "print('Theta computed from gradient descent: \\n')\n",
    "print(theta)"
   ]
  },
  {
   "cell_type": "code",
   "execution_count": 83,
   "metadata": {
    "collapsed": false
   },
   "outputs": [
    {
     "name": "stdout",
     "output_type": "stream",
     "text": [
      "Predicted price for a 1650 sq-ft, 3 br house : $289222 \n"
     ]
    }
   ],
   "source": [
    "# Estimate the price of a 1650 sq-ft, 3 br house\n",
    "item = np.array([1,1650,3])\n",
    "item_norm = np.zeros(3)\n",
    "item_norm[1:] = (item[1:] - mu)/sigma\n",
    "item_norm[0]=item[0]\n",
    "price = item_norm.dot(theta) \n",
    "print (\"Predicted price for a 1650 sq-ft, 3 br house : ${:2.0f} \".format(price[0]))"
   ]
  },
  {
   "cell_type": "markdown",
   "metadata": {},
   "source": [
    "### Part 3 : Normal equations\n",
    "A closed-form solution for linear regression is :\n",
    "$$ \\theta = (X^T X)^{-1}X^T y $$ "
   ]
  },
  {
   "cell_type": "code",
   "execution_count": 84,
   "metadata": {
    "collapsed": true
   },
   "outputs": [],
   "source": [
    "data = np.genfromtxt('ex1data2.txt', delimiter=\",\")\n",
    "X = np.c_[data[:,:2]]; y = np.c_[data[:,2]]\n",
    "m = len(y)"
   ]
  },
  {
   "cell_type": "code",
   "execution_count": 85,
   "metadata": {
    "collapsed": true
   },
   "outputs": [],
   "source": [
    "def normalEqn(X, y):\n",
    "    return np.linalg.pinv(X.T.dot(X)).dot(X.T).dot(y)"
   ]
  },
  {
   "cell_type": "code",
   "execution_count": 86,
   "metadata": {
    "collapsed": true,
    "scrolled": true
   },
   "outputs": [],
   "source": [
    "theta = normalEqn(X, y)"
   ]
  },
  {
   "cell_type": "code",
   "execution_count": 87,
   "metadata": {
    "collapsed": false
   },
   "outputs": [
    {
     "name": "stdout",
     "output_type": "stream",
     "text": [
      "Theta computed from normal equation: \n",
      "\n",
      "[[   140.86108621]\n",
      " [ 16978.19105904]]\n"
     ]
    }
   ],
   "source": [
    "print('Theta computed from normal equation: \\n')\n",
    "print(theta)"
   ]
  },
  {
   "cell_type": "code",
   "execution_count": 90,
   "metadata": {
    "collapsed": false
   },
   "outputs": [
    {
     "name": "stdout",
     "output_type": "stream",
     "text": [
      "Predicted price for a 1650 sq-ft, 3 br house : $283355 \n"
     ]
    }
   ],
   "source": [
    "# Estimate the price of a 1650 sq-ft, 3 br house\n",
    "item = np.array([1650,3])\n",
    "price = item.dot(theta) \n",
    "print (\"Predicted price for a 1650 sq-ft, 3 br house : ${:2.0f} \".format(price[0]))"
   ]
  },
  {
   "cell_type": "markdown",
   "metadata": {},
   "source": [
    "### END"
   ]
  }
 ],
 "metadata": {
  "kernelspec": {
   "display_name": "Python 3",
   "language": "python",
   "name": "python3"
  },
  "language_info": {
   "codemirror_mode": {
    "name": "ipython",
    "version": 3
   },
   "file_extension": ".py",
   "mimetype": "text/x-python",
   "name": "python",
   "nbconvert_exporter": "python",
   "pygments_lexer": "ipython3",
   "version": "3.6.0"
  }
 },
 "nbformat": 4,
 "nbformat_minor": 2
}
