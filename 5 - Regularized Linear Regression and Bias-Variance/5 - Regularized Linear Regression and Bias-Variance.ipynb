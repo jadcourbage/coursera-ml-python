{
 "cells": [
  {
   "cell_type": "markdown",
   "metadata": {},
   "source": [
    "## Machine Learning Online Class \n",
    "## Exercise 5 | Regularized Linear Regression and Bias-Variance\n",
    "Requires : scipy, scikit-learn"
   ]
  },
  {
   "cell_type": "markdown",
   "metadata": {},
   "source": [
    "### Introduction"
   ]
  },
  {
   "cell_type": "markdown",
   "metadata": {},
   "source": [
    "In this exercise, you will implement regularized linear regression and use it to\n",
    "study models with different bias-variance properties.<br><br>\n",
    "Bias-variance tradeoff is an important concept in machine learning.<br>\n",
    "Models with high bias are not complex enough for the data and tend to underfit, while models with high variance overfit to the training data."
   ]
  },
  {
   "cell_type": "markdown",
   "metadata": {},
   "source": [
    "### Python imports"
   ]
  },
  {
   "cell_type": "code",
   "execution_count": 13,
   "metadata": {
    "collapsed": false
   },
   "outputs": [],
   "source": [
    "import warnings\n",
    "warnings.filterwarnings('ignore')\n",
    "\n",
    "import numpy as np\n",
    "\n",
    "import matplotlib.pyplot as plt\n",
    "\n",
    "from scipy.io import loadmat\n",
    "from scipy.optimize import minimize\n",
    "\n",
    "from sklearn.preprocessing import PolynomialFeatures\n",
    "\n",
    "%matplotlib inline"
   ]
  },
  {
   "cell_type": "markdown",
   "metadata": {},
   "source": [
    "### Part 1: Loading and Visualizing Data"
   ]
  },
  {
   "cell_type": "markdown",
   "metadata": {},
   "source": [
    "#### Load Data"
   ]
  },
  {
   "cell_type": "code",
   "execution_count": 14,
   "metadata": {
    "collapsed": true
   },
   "outputs": [],
   "source": [
    "data = loadmat('ex5data1.mat')"
   ]
  },
  {
   "cell_type": "code",
   "execution_count": 15,
   "metadata": {
    "collapsed": false
   },
   "outputs": [],
   "source": [
    "X = data['X']\n",
    "Xtest = data['Xtest']\n",
    "Xval = data['Xval']\n",
    "y = data['y']\n",
    "ytest = data['ytest']\n",
    "yval = data['yval']"
   ]
  },
  {
   "cell_type": "code",
   "execution_count": 16,
   "metadata": {
    "collapsed": false
   },
   "outputs": [],
   "source": [
    "# Number of examples\n",
    "m = X.shape[0]"
   ]
  },
  {
   "cell_type": "markdown",
   "metadata": {},
   "source": [
    "#### Plot training data"
   ]
  },
  {
   "cell_type": "code",
   "execution_count": 17,
   "metadata": {
    "collapsed": false
   },
   "outputs": [
    {
     "data": {
      "text/plain": [
       "[<matplotlib.lines.Line2D at 0x8fbe0f0>]"
      ]
     },
     "execution_count": 17,
     "metadata": {},
     "output_type": "execute_result"
    },
    {
     "data": {
      "image/png": "[encoded data removed]",
      "text/plain": [
       "<matplotlib.figure.Figure at 0x8fa9748>"
      ]
     },
     "metadata": {},
     "output_type": "display_data"
    }
   ],
   "source": [
    "fig = plt.figure(figsize=(7,4))\n",
    "axes = fig.add_axes([0.1, 0.1, 0.8, 0.8])\n",
    "axes.set_xlabel('Change in water level (x)')\n",
    "axes.set_ylabel('Water flowing out of the dam (y)')\n",
    "axes.plot(X, y, 'rx', ms =10, linewidth=1.5)"
   ]
  },
  {
   "cell_type": "markdown",
   "metadata": {},
   "source": [
    "### Part 2: Regularized Linear Regression Cost Function"
   ]
  },
  {
   "cell_type": "markdown",
   "metadata": {},
   "source": [
    "Regularized linear regression has the following cost function:\n",
    "$$J(\\theta)=\\frac{1}{2m}\\sum_{i=1}^m (h_{\\theta}(x^{(i)})-y^{(i)})^2 + \\frac{\\lambda}{2m} \\sum_{j=1}^n \\theta_j^2$$\n",
    "where the hypothesis $h_{\\theta}(x)$ is given by the linear model :\n",
    "$$h_{\\theta}(x) = \\theta^Tx  = \\theta_0 + \\theta_1 x_1 $$\n",
    "and $\\lambda$ is a regularization parameter which controls the degree of regu larization (thus, help preventing overfitting). The regularization term puts a penalty on the overal cost J. As the magnitudes of the model parameters $\\theta_j$ increase, the penalty increases as well. Note that you should not regularize the $\\theta_0$ term."
   ]
  },
  {
   "cell_type": "code",
   "execution_count": 18,
   "metadata": {
    "collapsed": true
   },
   "outputs": [],
   "source": [
    "def linearRegCostFunction(theta,X,y,lambda_reg):\n",
    "    m = len(y)    \n",
    "    theta = theta.reshape(-1,1)\n",
    "    \n",
    "    J = (1 / (2 * m)) * (X.dot(theta) - y).T.dot((X.dot(theta)-y)) + (lambda_reg /(2 * m)) * np.sum(theta[1:,:]**2)\n",
    "   \n",
    "    return np.asscalar(J)"
   ]
  },
  {
   "cell_type": "code",
   "execution_count": 19,
   "metadata": {
    "collapsed": false
   },
   "outputs": [
    {
     "name": "stdout",
     "output_type": "stream",
     "text": [
      "Cost at theta = [1 1] : 303.993192\n",
      "This value should be about 303.993192 \n",
      "\n"
     ]
    }
   ],
   "source": [
    "print(\"Cost at theta = [1 1] : {:2.6f}\".format(linearRegCostFunction(np.array([1,1]),np.c_[np.ones(m),X],y,1)))\n",
    "print(\"This value should be about 303.993192 \\n\")"
   ]
  },
  {
   "cell_type": "markdown",
   "metadata": {},
   "source": [
    "### Part 3: Regularized Linear Regression Gradient"
   ]
  },
  {
   "cell_type": "markdown",
   "metadata": {},
   "source": [
    "The partial derivative of regularized linear regression's cost for parameter $\\theta_j$ is defined as :\n",
    "$$ \\frac{\\partial J(\\theta)}{\\partial \\theta_0} = \\frac{1}{m}\\sum_{i=1}^m (h_{\\theta}(x^{(i)})-y^{(i)})x_j^{(i)}$$\n",
    "$$ \\frac{\\partial J(\\theta)}{\\partial \\theta_{j}} = \\frac{1}{m}\\sum_{i=1}^m (h_{\\theta}(x^{(i)})-y^{(i)})x_j^{(i)} + \\frac{\\lambda}{m} \\theta_j \\hspace{10 mm} \\text{for} \\hspace{3 mm}j\\geqslant 1$$"
   ]
  },
  {
   "cell_type": "code",
   "execution_count": 20,
   "metadata": {
    "collapsed": true
   },
   "outputs": [],
   "source": [
    "def linearRegGradFunction(theta,X,y,lambda_reg):\n",
    "    m = len(y)    \n",
    "    theta = theta.reshape(-1,1)\n",
    "    \n",
    "    grad = (1/m) * X.T.dot(X.dot(theta)-y)\n",
    "    grad[1:,:] = grad[1:,:] + (lambda_reg / m) * theta[1:,:]\n",
    "   \n",
    "    return grad.ravel()"
   ]
  },
  {
   "cell_type": "code",
   "execution_count": 21,
   "metadata": {
    "collapsed": false
   },
   "outputs": [
    {
     "name": "stdout",
     "output_type": "stream",
     "text": [
      "Gradient at theta = [1 1] : [ -15.30301567  598.25074417]\n",
      "This value should be about [-15.303016; 598.250744] \n",
      "\n"
     ]
    }
   ],
   "source": [
    "print(\"Gradient at theta = [1 1] : {}\".format(linearRegGradFunction(np.array([1,1]),np.c_[np.ones(m),X],y,1)))\n",
    "print(\"This value should be about [-15.303016; 598.250744] \\n\")"
   ]
  },
  {
   "cell_type": "markdown",
   "metadata": {},
   "source": [
    "### Part 4: Train Linear Regression"
   ]
  },
  {
   "cell_type": "code",
   "execution_count": 22,
   "metadata": {
    "collapsed": true
   },
   "outputs": [],
   "source": [
    "def trainLinearReg(X, y, lambda_reg):\n",
    "    initial_theta = np.zeros((X.shape[1],1))\n",
    "    \n",
    "    find_optimal_theta = minimize(fun=linearRegCostFunction, x0=initial_theta,\n",
    "        method = 'CG', jac=linearRegGradFunction, args = (X,y,lambda_reg), options={'maxiter':200, 'disp':False})\n",
    "    \n",
    "    return find_optimal_theta.x    "
   ]
  },
  {
   "cell_type": "code",
   "execution_count": 23,
   "metadata": {
    "collapsed": false
   },
   "outputs": [],
   "source": [
    "optimal_theta = trainLinearReg(np.c_[np.ones(m),X],y,0)"
   ]
  },
  {
   "cell_type": "markdown",
   "metadata": {},
   "source": [
    "#### Plot fit"
   ]
  },
  {
   "cell_type": "code",
   "execution_count": 24,
   "metadata": {
    "collapsed": false
   },
   "outputs": [
    {
     "data": {
      "text/plain": [
       "[<matplotlib.lines.Line2D at 0x936c358>]"
      ]
     },
     "execution_count": 24,
     "metadata": {},
     "output_type": "execute_result"
    },
    {
     "data": {
      "image/png": "[encoded data removed]",
      "text/plain": [
       "<matplotlib.figure.Figure at 0x94a62b0>"
      ]
     },
     "metadata": {},
     "output_type": "display_data"
    }
   ],
   "source": [
    "plt.plot(X, y, 'rx', ms =10, linewidth=1.5)\n",
    "plt.plot(X,np.c_[np.ones(m),X].dot(optimal_theta),'--',linewidth = 2 )"
   ]
  },
  {
   "cell_type": "markdown",
   "metadata": {},
   "source": [
    "### Part 5: Learning Curve for Linear Regression"
   ]
  },
  {
   "cell_type": "markdown",
   "metadata": {},
   "source": [
    "We will now implement code to generate the learning curves that will be useful in debugging learning algorithms.<br>\n",
    "A learning curve plots training and cross validation error as a function of training set size."
   ]
  },
  {
   "cell_type": "markdown",
   "metadata": {},
   "source": [
    "To plot the learning curve, we need a training and cross validation set error for different <b>training</b> set sizes. <br>\n",
    "To obtain different training set sizes, we use different subsets of the original training set X.<br>\n",
    "Specifically, for a training set size of $i$, we should use the first $i$ examples.<br>\n",
    "We can use <i>trainLinearReg</i> function to find the $\\theta$ parameters. <br>\n",
    "Note that lambda is passed as a parameter to the learningCurve function.<br>\n",
    "After learning the $\\theta$ parameters, we can compute the error on the training and cross validation sets. <br><br>\n",
    "\n",
    "Recall that the training error for a dataset is defined as :\n",
    "\n",
    "$$J_{train}(\\theta) = \\frac{1}{2m}\\sum_{i=1}^m (h_{\\theta}(x^{(i)})-y^{(i)})^2 $$\n",
    "\n",
    "In particular, note that the training error does not include the regularization term. <br>\n",
    "One way to compute the training error is to use the existing cost function and set $\\lambda$ to 0 only when using it to compute the training error and cross validation error. <br>\n",
    "When you are computing the training set error, make sure you compute it on the training subset (instead of the entire training set). <br>\n",
    "However, for the cross validation error, you should compute it over the entire cross validation set."
   ]
  },
  {
   "cell_type": "code",
   "execution_count": 25,
   "metadata": {
    "collapsed": false
   },
   "outputs": [],
   "source": [
    "def learningCurve(X, y, Xval, yval, lambda_reg):\n",
    "    m = X.shape[0]\n",
    "    error_train = np.zeros(m)\n",
    "    error_val = np.zeros(m)\n",
    "    \n",
    "    for i in range(m):\n",
    "        theta = trainLinearReg(X[:i+1,:],y[:i+1,:],lambda_reg)        \n",
    "        error_train[i] = linearRegCostFunction(theta, X[:i+1,:],y[:i+1,:],0)\n",
    "        error_val[i] = linearRegCostFunction(theta, Xval,yval,0)\n",
    "        \n",
    "    return(error_train, error_val)\n",
    "        "
   ]
  },
  {
   "cell_type": "code",
   "execution_count": 26,
   "metadata": {
    "collapsed": false
   },
   "outputs": [],
   "source": [
    "(error_train, error_val) = learningCurve(np.c_[np.ones(m),X], y, np.c_[np.ones(Xval.shape[0]),Xval], yval, 0)"
   ]
  },
  {
   "cell_type": "code",
   "execution_count": 27,
   "metadata": {
    "collapsed": false
   },
   "outputs": [
    {
     "data": {
      "text/plain": [
       "<matplotlib.legend.Legend at 0x9592e80>"
      ]
     },
     "execution_count": 27,
     "metadata": {},
     "output_type": "execute_result"
    },
    {
     "data": {
      "image/png": "[encoded data removed]",
      "text/plain": [
       "<matplotlib.figure.Figure at 0x950c9e8>"
      ]
     },
     "metadata": {},
     "output_type": "display_data"
    }
   ],
   "source": [
    "plt.plot(np.arange(1,m+1), error_train, label ='train')\n",
    "plt.plot(np.arange(1,m+1), error_val, label ='cross val')\n",
    "plt.title('Learning curve for linear regression')\n",
    "plt.xlabel('Number of training examples')\n",
    "plt.ylabel('Error')\n",
    "plt.legend()"
   ]
  },
  {
   "cell_type": "markdown",
   "metadata": {},
   "source": [
    "Both the train error and cross validation error are high when the number of training examples is increased. This reflects a <b><i>high bias</i></b> problem in the model - the linear regression model is too simple and is unable to fit our dataset well."
   ]
  },
  {
   "cell_type": "markdown",
   "metadata": {},
   "source": [
    "### Part 6: Feature Mapping for Polynomial Regression"
   ]
  },
  {
   "cell_type": "markdown",
   "metadata": {},
   "source": [
    "The problem with our linear model was that it was too simple for the data and resulted in underfitting (high bias). <br>\n",
    "In this part of the exercise, we will address this problem by adding more features."
   ]
  },
  {
   "cell_type": "markdown",
   "metadata": {},
   "source": [
    "#### Feature engineering -  add polynominal features\n",
    "We use sklearn PolynomialFeatures class"
   ]
  },
  {
   "cell_type": "code",
   "execution_count": 28,
   "metadata": {
    "collapsed": true
   },
   "outputs": [],
   "source": [
    "p = 8\n",
    "poly = PolynomialFeatures(p) #creates an instance of degree 8\n",
    "X_poly = poly.fit_transform(X) #transforms X, intercept is added by default\n",
    "X_poly_test = poly.fit_transform(Xtest)\n",
    "X_poly_val = poly.fit_transform(Xval)"
   ]
  },
  {
   "cell_type": "markdown",
   "metadata": {},
   "source": [
    "#### Normalize features\n",
    "Normalize features to zero mean and unit variance \n",
    "(we don't use sklearn scale method which uses a biased estimator of stddev) "
   ]
  },
  {
   "cell_type": "code",
   "execution_count": 29,
   "metadata": {
    "collapsed": true
   },
   "outputs": [],
   "source": [
    "def featureNormalize(X):\n",
    "    mu = X.mean(axis = 0)\n",
    "    sigma = X.std(axis = 0, ddof = 1) # We specifiy degrees of freedom = 1 to retrieve an unbiased estimator of stddev\n",
    "    X_norm = (X - mu) / sigma\n",
    "    \n",
    "    return (X_norm, mu, sigma)    "
   ]
  },
  {
   "cell_type": "code",
   "execution_count": 30,
   "metadata": {
    "collapsed": false
   },
   "outputs": [],
   "source": [
    "(X_poly[:,1:], mu, sigma) = featureNormalize(X_poly[:,1:])\n",
    "(X_poly_test[:,1:], mu_test, sigma_test) = featureNormalize(X_poly_test[:,1:])\n",
    "(X_poly_val[:,1:], mu_val, sigma_val) = featureNormalize(X_poly_val[:,1:])"
   ]
  },
  {
   "cell_type": "markdown",
   "metadata": {},
   "source": [
    "### Part 7: Learning Curve for Polynomial Regression"
   ]
  },
  {
   "cell_type": "markdown",
   "metadata": {},
   "source": [
    "#### Check training fit with polynomial regression"
   ]
  },
  {
   "cell_type": "code",
   "execution_count": 31,
   "metadata": {
    "collapsed": false
   },
   "outputs": [],
   "source": [
    "lambda_reg = 0\n",
    "theta_poly = trainLinearReg(X_poly,y,lambda_reg)"
   ]
  },
  {
   "cell_type": "code",
   "execution_count": 32,
   "metadata": {
    "collapsed": true
   },
   "outputs": [],
   "source": [
    "def plotFit(min_x, max_x, mu, sigma, theta, p):\n",
    "    # We plot a range slightly bigger than the min and max values to get\n",
    "    # an idea of how the fit will vary outside the range of the data points \n",
    "    theta = theta.reshape(-1,1)\n",
    "    \n",
    "    xrange = np.arange(min_x - 15, max_x + 25, 0.05)\n",
    "    x_poly = PolynomialFeatures(p).fit_transform(xrange.reshape(-1,1))\n",
    "    \n",
    "    x_poly[:,1:] = (x_poly[:,1:] - mu) / sigma\n",
    "    \n",
    "    plt.plot(xrange, x_poly.dot(theta))"
   ]
  },
  {
   "cell_type": "code",
   "execution_count": 33,
   "metadata": {
    "collapsed": false
   },
   "outputs": [
    {
     "data": {
      "text/plain": [
       "<matplotlib.text.Text at 0x9555f60>"
      ]
     },
     "execution_count": 33,
     "metadata": {},
     "output_type": "execute_result"
    },
    {
     "data": {
      "image/png": "[encoded data removed]",
      "text/plain": [
       "<matplotlib.figure.Figure at 0x95ae860>"
      ]
     },
     "metadata": {},
     "output_type": "display_data"
    }
   ],
   "source": [
    "plotFit(X.min(),X.max(),mu,sigma,theta_poly,8)\n",
    "plt.plot(X, y, 'rx', ms =10, linewidth=1.5)\n",
    "plt.title('Polynomial Regression Fit (lambda = {})'.format(lambda_reg))\n",
    "plt.xlabel('Change in water level (x)')\n",
    "plt.ylabel('Water flowing out of the dam (y)')"
   ]
  },
  {
   "cell_type": "markdown",
   "metadata": {},
   "source": [
    "#### Learning curve"
   ]
  },
  {
   "cell_type": "code",
   "execution_count": 34,
   "metadata": {
    "collapsed": false
   },
   "outputs": [],
   "source": [
    "(error_train, error_val) = learningCurve(X_poly, y, X_poly_val, yval, 0)"
   ]
  },
  {
   "cell_type": "code",
   "execution_count": 35,
   "metadata": {
    "collapsed": false
   },
   "outputs": [
    {
     "data": {
      "text/plain": [
       "<matplotlib.legend.Legend at 0xa6d2358>"
      ]
     },
     "execution_count": 35,
     "metadata": {},
     "output_type": "execute_result"
    },
    {
     "data": {
      "image/png": "[encoded data removed]",
      "text/plain": [
       "<matplotlib.figure.Figure at 0x95eef98>"
      ]
     },
     "metadata": {},
     "output_type": "display_data"
    }
   ],
   "source": [
    "plt.plot(np.arange(1,m+1), error_train, label ='train')\n",
    "plt.plot(np.arange(1,m+1), error_val, label ='cross val')\n",
    "plt.title('Learning curve for linear regression')\n",
    "plt.xlabel('Number of training examples')\n",
    "plt.ylabel('Error')\n",
    "plt.legend()"
   ]
  },
  {
   "cell_type": "markdown",
   "metadata": {},
   "source": [
    "Training error remains low and there is a gap between the training and cross validation errors, indicating a <b><i>high variance </b></i> problem."
   ]
  },
  {
   "cell_type": "markdown",
   "metadata": {},
   "source": [
    "### Selecting lambda using the cross validation set (hyperparameter tuning)"
   ]
  },
  {
   "cell_type": "code",
   "execution_count": 36,
   "metadata": {
    "collapsed": true
   },
   "outputs": [],
   "source": [
    "def validationCurve(X, y, Xval, yval):\n",
    "    #Selected values of lambda\n",
    "    lambda_vec = np.array([0,0.001, 0.003, 0.01, 0.03, 0.1, 0.3, 1, 3, 10])\n",
    "    \n",
    "    n = lambda_vec.shape[0]\n",
    "    \n",
    "    error_train = np.zeros(n)\n",
    "    error_val = np.zeros(n)\n",
    "    \n",
    "    for i in range(n):\n",
    "        lambda_reg = lambda_vec[i]\n",
    "        theta = trainLinearReg(X,y,lambda_reg)\n",
    "        error_train[i] = linearRegCostFunction(theta,X,y,0)\n",
    "        error_val[i] = linearRegCostFunction(theta,Xval,yval,0)\n",
    "    \n",
    "    return (lambda_vec, error_train, error_val)"
   ]
  },
  {
   "cell_type": "code",
   "execution_count": 37,
   "metadata": {
    "collapsed": false
   },
   "outputs": [],
   "source": [
    "(lambda_vec, error_train, error_val) = validationCurve(X_poly, y, X_poly_val, yval)"
   ]
  },
  {
   "cell_type": "code",
   "execution_count": 38,
   "metadata": {
    "collapsed": false
   },
   "outputs": [
    {
     "data": {
      "text/plain": [
       "<matplotlib.legend.Legend at 0xabbdf60>"
      ]
     },
     "execution_count": 38,
     "metadata": {},
     "output_type": "execute_result"
    },
    {
     "data": {
      "image/png": "[encoded data removed]",
      "text/plain": [
       "<matplotlib.figure.Figure at 0xa644ba8>"
      ]
     },
     "metadata": {},
     "output_type": "display_data"
    }
   ],
   "source": [
    "plt.plot(lambda_vec, error_train, label ='train')\n",
    "plt.plot(lambda_vec, error_val, label ='cross val')\n",
    "plt.title('Validation curve')\n",
    "plt.xlabel('Lambda')\n",
    "plt.ylabel('Error')\n",
    "plt.legend()"
   ]
  },
  {
   "cell_type": "markdown",
   "metadata": {},
   "source": [
    "### END"
   ]
  }
 ],
 "metadata": {
  "kernelspec": {
   "display_name": "Python 3",
   "language": "python",
   "name": "python3"
  },
  "language_info": {
   "codemirror_mode": {
    "name": "ipython",
    "version": 3
   },
   "file_extension": ".py",
   "mimetype": "text/x-python",
   "name": "python",
   "nbconvert_exporter": "python",
   "pygments_lexer": "ipython3",
   "version": "3.6.0"
  }
 },
 "nbformat": 4,
 "nbformat_minor": 2
}
