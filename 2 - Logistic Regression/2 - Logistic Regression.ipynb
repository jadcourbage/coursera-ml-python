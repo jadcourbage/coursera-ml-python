{
 "cells": [
  {
   "cell_type": "markdown",
   "metadata": {},
   "source": [
    "## Machine Learning Online Class - Exercise 2: Logistic Regression\n",
    "Requires : scipy, scikit-learn"
   ]
  },
  {
   "cell_type": "markdown",
   "metadata": {},
   "source": [
    "### Introduction"
   ]
  },
  {
   "cell_type": "markdown",
   "metadata": {},
   "source": [
    "In this exercise, you will implement logistic regression and apply it to two different datasets.<br><br>\n",
    "Suppose that you are the administrator of a university department and you want to determine each applicant's chance of admission based on their results on two exams. <br>\n",
    "You have historical data from previous applicants that you can use as a training set for logistic regression. <br>\n",
    "For each training example, you have the applicant's scores on two exams and the admissions decision.<br>\n",
    "Your task is to build a classification model that estimates an applicant's probability of admission based the scores from those two exams."
   ]
  },
  {
   "cell_type": "markdown",
   "metadata": {},
   "source": [
    "### Python imports"
   ]
  },
  {
   "cell_type": "code",
   "execution_count": 1,
   "metadata": {
    "collapsed": true
   },
   "outputs": [],
   "source": [
    "import numpy as np\n",
    "\n",
    "import matplotlib.pyplot as plt\n",
    "from matplotlib import animation, rc\n",
    "from mpl_toolkits.mplot3d import axes3d\n",
    "\n",
    "from scipy.optimize import minimize\n",
    "\n",
    "from IPython.display import HTML\n",
    "\n",
    "from sklearn.preprocessing import PolynomialFeatures\n",
    "from sklearn.linear_model import LogisticRegression\n",
    "\n",
    "%matplotlib inline\n",
    "rc('animation', html='html5')"
   ]
  },
  {
   "cell_type": "markdown",
   "metadata": {},
   "source": [
    "### Load data"
   ]
  },
  {
   "cell_type": "code",
   "execution_count": 2,
   "metadata": {
    "collapsed": true
   },
   "outputs": [],
   "source": [
    "data = np.genfromtxt('ex2data1.txt',delimiter=',')"
   ]
  },
  {
   "cell_type": "code",
   "execution_count": 3,
   "metadata": {
    "collapsed": true
   },
   "outputs": [],
   "source": [
    "# Store data in X and y numpy arrays\n",
    "X = np.c_[data[:,:2]]; y = np.c_[data[:,2]]"
   ]
  },
  {
   "cell_type": "markdown",
   "metadata": {},
   "source": [
    "### Part 1 : Plotting"
   ]
  },
  {
   "cell_type": "code",
   "execution_count": 4,
   "metadata": {
    "collapsed": true
   },
   "outputs": [],
   "source": [
    "def plotData(X,y,x_label='',y_label='',neg_legend='',pos_legend=''):\n",
    "    \n",
    "    #Split between positive (y=1) and negative data(y=0)\n",
    "    pos = X[np.where(y==1)[0]]\n",
    "    neg = X[np.where(y==0)[0]]\n",
    "    \n",
    "    fig = plt.figure(figsize=(8,8))\n",
    "    ax = fig.add_subplot(111)\n",
    "    ax.set_xlabel(x_label)\n",
    "    ax.set_ylabel(y_label)\n",
    "    ax.plot(pos[:,0],pos[:,1], linestyle='None', marker='+', color='black', markersize=8, label=pos_legend)\n",
    "    ax.plot(neg[:,0],neg[:,1], linestyle='None', marker='o', color='#d8ca04', markersize=8, label=neg_legend)\n",
    "    ax.legend()\n",
    "    return ax\n",
    "    #plt.show()"
   ]
  },
  {
   "cell_type": "code",
   "execution_count": 5,
   "metadata": {
    "collapsed": false
   },
   "outputs": [
    {
     "data": {
      "text/plain": [
       "<matplotlib.axes._subplots.AxesSubplot at 0x91b03c8>"
      ]
     },
     "execution_count": 5,
     "metadata": {},
     "output_type": "execute_result"
    },
    {
     "data": {
      "image/png": "[encoded data removed]",
      "text/plain": [
       "<matplotlib.figure.Figure at 0x4eb82e8>"
      ]
     },
     "metadata": {},
     "output_type": "display_data"
    }
   ],
   "source": [
    "plotData(X,y, 'Exam 1 score', 'Exam 2 score', 'Not admitted', 'Admitted')"
   ]
  },
  {
   "cell_type": "markdown",
   "metadata": {},
   "source": [
    "### Part 2: Compute Cost and Gradient"
   ]
  },
  {
   "cell_type": "markdown",
   "metadata": {},
   "source": [
    "The logistic regression hypothesis is defined as :\n",
    "$$ h_{\\theta}(x) = g(\\theta^Tx) $$\n",
    "where the function gis the sigmoid function :\n",
    "$$ g(z)=\\frac{1}{1+e^{-z}} $$"
   ]
  },
  {
   "cell_type": "code",
   "execution_count": 6,
   "metadata": {
    "collapsed": true
   },
   "outputs": [],
   "source": [
    "(m,n) = np.shape(X)"
   ]
  },
  {
   "cell_type": "code",
   "execution_count": 7,
   "metadata": {
    "collapsed": true
   },
   "outputs": [],
   "source": [
    "# Add intercept\n",
    "X = np.c_[np.ones(m),X]"
   ]
  },
  {
   "cell_type": "code",
   "execution_count": 8,
   "metadata": {
    "collapsed": true
   },
   "outputs": [],
   "source": [
    "# Initialize fitting params (1D-array)\n",
    "initial_theta = np.zeros(n + 1).flatten()"
   ]
  },
  {
   "cell_type": "markdown",
   "metadata": {},
   "source": [
    "#### Sigmoid function"
   ]
  },
  {
   "cell_type": "code",
   "execution_count": 9,
   "metadata": {
    "collapsed": true
   },
   "outputs": [],
   "source": [
    "def sigmoid(z):\n",
    "    return 1 / (1 + np.exp(-z))    "
   ]
  },
  {
   "cell_type": "markdown",
   "metadata": {},
   "source": [
    "#### Cost and gradient function"
   ]
  },
  {
   "cell_type": "markdown",
   "metadata": {},
   "source": [
    "The cost function for logistic regression is defined as : \n",
    "$$J(\\theta) = \\frac{1}{m}\\sum_{i=1}^m [-y^{(i)}\\log (h_{\\theta}(x^{(i)}) - (1-y^{(i)})\\log (1-h_{\\theta}(x^{(i)}) ] $$\n",
    "or in vectorized form :\n",
    "$$ J(\\theta) = \\frac{1}{m} [-y^T\\log(h) - (1-y^T)\\log(1-h) ]$$"
   ]
  },
  {
   "cell_type": "markdown",
   "metadata": {},
   "source": [
    "The gradient of the cost is :\n",
    "$$ \\frac{\\partial J(\\theta)}{\\partial \\theta_j} = \\frac{1}{m}\\sum_{i=1}^m (h_{\\theta}(x_j^{(i)})-y^{(i)})x_j^{(i)} $$\n",
    "or in vectorized form :\n",
    "$$ \\frac{\\partial J(\\theta)}{\\partial \\theta} = \\frac{1}{m} X^T(h-y)$$"
   ]
  },
  {
   "cell_type": "code",
   "execution_count": 10,
   "metadata": {
    "collapsed": true
   },
   "outputs": [],
   "source": [
    "def costFunction(theta,X,y):\n",
    "    \n",
    "    m = len(y)\n",
    "    \n",
    "    theta = theta.reshape(-1,1) # Convert 1D to 2D vector (3,) to (3,1)\n",
    "    \n",
    "    h = sigmoid(X.dot(theta))\n",
    "    J = (1/m) * (-y.T.dot(np.log(h))-(1-y).T.dot(np.log(1-h))) #--> (1,1) array\n",
    "    grad = (1/m) * X.T.dot(h-y)    \n",
    "\n",
    "    return np.asscalar(J),grad.flatten()"
   ]
  },
  {
   "cell_type": "code",
   "execution_count": 11,
   "metadata": {
    "collapsed": false
   },
   "outputs": [
    {
     "name": "stdout",
     "output_type": "stream",
     "text": [
      "Cost at initial theta (zeros): 0.693 \n",
      "\n",
      "Expected cost (approx): 0.693\n",
      "\n",
      "Gradient at initial theta (zeros): \n",
      " [ -0.1        -12.00921659 -11.26284221]\n",
      "\n",
      " Expected gradients (approx):\n",
      " -0.1000\n",
      " -12.0092\n",
      " -11.2628\n",
      "\n"
     ]
    }
   ],
   "source": [
    "# Initial cost and gradient \n",
    "(cost,grad) = costFunction(initial_theta,X,y)\n",
    "print(\"Cost at initial theta (zeros): {:2.3f} \\n\".format(cost))\n",
    "print('Expected cost (approx): 0.693\\n')\n",
    "print('Gradient at initial theta (zeros): ')\n",
    "print(' {}'.format(grad))\n",
    "print('\\n Expected gradients (approx):\\n -0.1000\\n -12.0092\\n -11.2628\\n')"
   ]
  },
  {
   "cell_type": "code",
   "execution_count": 12,
   "metadata": {
    "collapsed": false
   },
   "outputs": [
    {
     "name": "stdout",
     "output_type": "stream",
     "text": [
      "Cost at test theta: 0.218 \n",
      "\n",
      "Expected cost (approx): 0.218\n",
      "\n",
      "Gradient at test theta: \n",
      " [ 0.04290299  2.56623412  2.64679737]\n",
      "\n",
      " Expected gradients (approx):\n",
      " 0.043\n",
      " 2.566\n",
      " 2.647\n",
      "\n"
     ]
    }
   ],
   "source": [
    "# Compute and display cost and gradient with non-zero theta\n",
    "\n",
    "test_theta = np.array([-24, 0.2, 0.2])\n",
    "\n",
    "(cost,grad) = costFunction(test_theta,X,y)\n",
    "print(\"Cost at test theta: {:2.3f} \\n\".format(cost))\n",
    "print('Expected cost (approx): 0.218\\n')\n",
    "print('Gradient at test theta: ')\n",
    "print(' {}'.format(grad))\n",
    "print('\\n Expected gradients (approx):\\n 0.043\\n 2.566\\n 2.647\\n')"
   ]
  },
  {
   "cell_type": "markdown",
   "metadata": {},
   "source": [
    "### Part 3  : optimizing using scipy built-in optimization functions"
   ]
  },
  {
   "cell_type": "code",
   "execution_count": 13,
   "metadata": {
    "collapsed": true
   },
   "outputs": [],
   "source": [
    "# Define 2 separate functions for cost and gradient\n",
    "\n",
    "def cost(theta,X,y):\n",
    "    \n",
    "    m = len(y)\n",
    "    \n",
    "    theta = theta.reshape(-1,1) # Convert 1D to 2D vector (3,) to (3,1)\n",
    "    \n",
    "    h = sigmoid(X.dot(theta))\n",
    "    J = (1/m) * (-y.T.dot(np.log(h))-(1-y).T.dot(np.log(1-h))) \n",
    "\n",
    "    return np.asscalar(J)\n",
    "\n",
    "def grad(theta,X,y):\n",
    " \n",
    "    m = len(y)\n",
    "    \n",
    "    theta = theta.reshape(-1,1) # Convert 1D to 2D vector (3,) to (3,1)\n",
    "    \n",
    "    h = sigmoid(X.dot(theta))\n",
    "    grad = (1/m) * X.T.dot(h-y)    \n",
    "\n",
    "    return grad.flatten()"
   ]
  },
  {
   "cell_type": "markdown",
   "metadata": {},
   "source": [
    "#### Optimization"
   ]
  },
  {
   "cell_type": "code",
   "execution_count": 14,
   "metadata": {
    "collapsed": false
   },
   "outputs": [
    {
     "name": "stderr",
     "output_type": "stream",
     "text": [
      "D:\\Anaconda\\lib\\site-packages\\ipykernel\\__main__.py:10: RuntimeWarning: divide by zero encountered in log\n"
     ]
    }
   ],
   "source": [
    "# Use scipy minimize\n",
    "# Note that optim routine expects function to return a scalar, gradient to return a 1D array and x param to be a 1D array\n",
    "find_optim_theta = minimize(fun=cost, x0=initial_theta, method = None, jac=grad, args = (X,y), options={'maxiter':400})\n",
    "(theta_opt,cost_opt) = (find_optim_theta.x,find_optim_theta.fun)"
   ]
  },
  {
   "cell_type": "code",
   "execution_count": 15,
   "metadata": {
    "collapsed": false
   },
   "outputs": [
    {
     "name": "stdout",
     "output_type": "stream",
     "text": [
      "Cost at theta found by minimize : 0.203\n",
      "Expected cost : 0.203\n",
      "Theta = [-25.16133284   0.2062317    0.2014716 ]\n",
      "\n",
      "Expected theta : -25.161   0.206   0.201 \n"
     ]
    }
   ],
   "source": [
    "print(\"Cost at theta found by minimize : {:3.3f}\".format(cost_opt))\n",
    "\n",
    "print(\"Expected cost : 0.203\")\n",
    "print(\"Theta = {}\\n\".format(theta_opt))\n",
    "print(\"Expected theta : -25.161   0.206   0.201 \")"
   ]
  },
  {
   "cell_type": "markdown",
   "metadata": {},
   "source": [
    "#### Plot decision boundary"
   ]
  },
  {
   "cell_type": "code",
   "execution_count": 16,
   "metadata": {
    "collapsed": true
   },
   "outputs": [],
   "source": [
    "def plotDecisionBoundary(theta, X, y, x_label='',y_label='',neg_legend='',pos_legend=''):\n",
    "    ax = plotData(X[:,1:],y, x_label, y_label, neg_legend, pos_legend)\n",
    "    x_min = np.min(X[:,1]); x_max = np.max(X[:,1])\n",
    "    y_min = np.min(X[:,2]); y_max = np.max(X[:,2])\n",
    "    \n",
    "    # Create 100*100 grid in [(x_min,x_max) x (y_min,y_max)]\n",
    "    xx, yy = np.meshgrid(np.linspace(x_min,x_max,100),np.linspace(y_min,y_max,100)) \n",
    "    \n",
    "    # Evaluate h(theta*X) at each point in grid\n",
    "    z = sigmoid(np.c_[np.ones(len(xx)*len(yy)),xx.ravel(),yy.ravel()].dot(theta.T)).reshape(len(xx),len(yy))\n",
    "    \n",
    "    # Plot decision boundaries (prob = 0.3,0.5,0.7)\n",
    "    cp = plt.contour(xx,yy,z,[0.3,0.5,0.7], linewidths=2, colors='r')  \n",
    "    ax.clabel(cp)\n",
    "    \n",
    "    "
   ]
  },
  {
   "cell_type": "code",
   "execution_count": 17,
   "metadata": {
    "collapsed": false
   },
   "outputs": [
    {
     "data": {
      "image/png": "[encoded data removed]",
      "text/plain": [
       "<matplotlib.figure.Figure at 0x9760e48>"
      ]
     },
     "metadata": {},
     "output_type": "display_data"
    }
   ],
   "source": [
    "plotDecisionBoundary(theta_opt, X, y,'Exam 1 score', 'Exam 2 score', 'Not admitted', 'Admitted' )"
   ]
  },
  {
   "cell_type": "markdown",
   "metadata": {},
   "source": [
    "### Part 3 - Prediction and accuracy"
   ]
  },
  {
   "cell_type": "markdown",
   "metadata": {},
   "source": [
    "#### Predict probability for a student with score 45 on exam 1 and score 85 on exam 2 "
   ]
  },
  {
   "cell_type": "code",
   "execution_count": 18,
   "metadata": {
    "collapsed": true
   },
   "outputs": [],
   "source": [
    "prob = sigmoid(np.array([1,45,85]).dot(theta_opt.T))"
   ]
  },
  {
   "cell_type": "code",
   "execution_count": 19,
   "metadata": {
    "collapsed": false
   },
   "outputs": [
    {
     "name": "stdout",
     "output_type": "stream",
     "text": [
      "For a student with score 45 on exam 1 and score 85 on exam 2,         we predict an admission prob of 77.63 %\n",
      "Expected value: 77.5 +/- 0.2%\n",
      "\n",
      "\n"
     ]
    }
   ],
   "source": [
    "print(\"For a student with score 45 on exam 1 and score 85 on exam 2, \\\n",
    "        we predict an admission prob of {:3.2f} %\".format(prob * 100))\n",
    "\n",
    "print(\"Expected value: 77.5 +/- 0.2%\\n\\n\")"
   ]
  },
  {
   "cell_type": "markdown",
   "metadata": {},
   "source": [
    "#### Compute accuracy on the training set"
   ]
  },
  {
   "cell_type": "code",
   "execution_count": 20,
   "metadata": {
    "collapsed": true
   },
   "outputs": [],
   "source": [
    "def predict(theta,X):    \n",
    "    #Ensure inputs are arrays\n",
    "    X = np.array(X) \n",
    "    theta = np.array(theta)\n",
    "    return (sigmoid(X.dot(theta.T))>=0.5).astype('int').reshape(-1,1) #True/False to 1/0"
   ]
  },
  {
   "cell_type": "code",
   "execution_count": 21,
   "metadata": {
    "collapsed": true
   },
   "outputs": [],
   "source": [
    "p=predict(theta_opt,X)"
   ]
  },
  {
   "cell_type": "code",
   "execution_count": 22,
   "metadata": {
    "collapsed": false
   },
   "outputs": [
    {
     "name": "stdout",
     "output_type": "stream",
     "text": [
      "Train Accuracy : 89.0 %\n",
      "Expected accuracy (approx) : 89.0% \n"
     ]
    }
   ],
   "source": [
    "print(\"Train Accuracy : {:2.1f} %\".format(100 * np.sum((p==y).astype('int') /m)))\n",
    "print(\"Expected accuracy (approx) : 89.0% \")"
   ]
  },
  {
   "cell_type": "markdown",
   "metadata": {},
   "source": [
    "### Comparison with sklearn logistic regression"
   ]
  },
  {
   "cell_type": "code",
   "execution_count": 23,
   "metadata": {
    "collapsed": true
   },
   "outputs": [],
   "source": [
    "data = np.genfromtxt('ex2data1.txt',delimiter=',')"
   ]
  },
  {
   "cell_type": "code",
   "execution_count": 24,
   "metadata": {
    "collapsed": true
   },
   "outputs": [],
   "source": [
    "X = np.c_[data[:,:2]]; y = np.c_[data[:,2]].ravel()"
   ]
  },
  {
   "cell_type": "code",
   "execution_count": 25,
   "metadata": {
    "collapsed": true
   },
   "outputs": [],
   "source": [
    "lr = LogisticRegression(max_iter=400, intercept_scaling=0,solver='newton-cg')"
   ]
  },
  {
   "cell_type": "code",
   "execution_count": 26,
   "metadata": {
    "collapsed": false
   },
   "outputs": [
    {
     "data": {
      "text/plain": [
       "LogisticRegression(C=1.0, class_weight=None, dual=False, fit_intercept=True,\n",
       "          intercept_scaling=0, max_iter=400, multi_class='ovr', n_jobs=1,\n",
       "          penalty='l2', random_state=None, solver='newton-cg', tol=0.0001,\n",
       "          verbose=0, warm_start=False)"
      ]
     },
     "execution_count": 26,
     "metadata": {},
     "output_type": "execute_result"
    }
   ],
   "source": [
    "lr.fit(X,y)"
   ]
  },
  {
   "cell_type": "code",
   "execution_count": 27,
   "metadata": {
    "collapsed": true
   },
   "outputs": [],
   "source": [
    "theta_sk = np.c_[lr.intercept_, lr.coef_]"
   ]
  },
  {
   "cell_type": "code",
   "execution_count": 28,
   "metadata": {
    "collapsed": false
   },
   "outputs": [
    {
     "name": "stdout",
     "output_type": "stream",
     "text": [
      "[[-25.05200379   0.2053533    0.20058239]]\n"
     ]
    }
   ],
   "source": [
    "print(theta_sk)"
   ]
  },
  {
   "cell_type": "code",
   "execution_count": 29,
   "metadata": {
    "collapsed": true
   },
   "outputs": [],
   "source": [
    "p_sk = lr.predict(X)"
   ]
  },
  {
   "cell_type": "code",
   "execution_count": 30,
   "metadata": {
    "collapsed": false
   },
   "outputs": [
    {
     "name": "stdout",
     "output_type": "stream",
     "text": [
      "Train Accuracy : 89.0 %\n"
     ]
    }
   ],
   "source": [
    "print(\"Train Accuracy : {:2.1f} %\".format(100 * np.sum((lr.predict(X)==y).astype('int') /m)))"
   ]
  },
  {
   "cell_type": "markdown",
   "metadata": {},
   "source": [
    "## Regularized logistic regression"
   ]
  },
  {
   "cell_type": "markdown",
   "metadata": {},
   "source": [
    "### Import data"
   ]
  },
  {
   "cell_type": "code",
   "execution_count": 31,
   "metadata": {
    "collapsed": true
   },
   "outputs": [],
   "source": [
    "data = np.genfromtxt('ex2data2.txt',delimiter=',')"
   ]
  },
  {
   "cell_type": "code",
   "execution_count": 32,
   "metadata": {
    "collapsed": true
   },
   "outputs": [],
   "source": [
    "X = data[:,:2]; y = data[:,2].reshape(-1,1)"
   ]
  },
  {
   "cell_type": "markdown",
   "metadata": {},
   "source": [
    "### Plot data"
   ]
  },
  {
   "cell_type": "code",
   "execution_count": 33,
   "metadata": {
    "collapsed": false
   },
   "outputs": [
    {
     "data": {
      "text/plain": [
       "<matplotlib.axes._subplots.AxesSubplot at 0x9660470>"
      ]
     },
     "execution_count": 33,
     "metadata": {},
     "output_type": "execute_result"
    },
    {
     "data": {
      "image/png": "[encoded data removed]",
      "text/plain": [
       "<matplotlib.figure.Figure at 0x9647e80>"
      ]
     },
     "metadata": {},
     "output_type": "display_data"
    }
   ],
   "source": [
    "plotData(X,y, 'Microchip Test 1', 'Microchip Test 2' ,'y=0','y=1')"
   ]
  },
  {
   "cell_type": "markdown",
   "metadata": {},
   "source": [
    "#### Add polynomial features"
   ]
  },
  {
   "cell_type": "code",
   "execution_count": 34,
   "metadata": {
    "collapsed": true
   },
   "outputs": [],
   "source": [
    "# Use sklearn PolynomialFeatures class\n",
    "poly = PolynomialFeatures(6) #creates an instance of degree 6\n",
    "X = poly.fit_transform(X) #transforms X, intercept is added by default"
   ]
  },
  {
   "cell_type": "code",
   "execution_count": 35,
   "metadata": {
    "collapsed": true
   },
   "outputs": [],
   "source": [
    "# Initialize theta\n",
    "(m,n) = np.shape(X)\n",
    "initial_theta = np.zeros(n).flatten()"
   ]
  },
  {
   "cell_type": "code",
   "execution_count": 36,
   "metadata": {
    "collapsed": true
   },
   "outputs": [],
   "source": [
    "# Set regularization parameter\n",
    "lambda_reg = 1"
   ]
  },
  {
   "cell_type": "markdown",
   "metadata": {},
   "source": [
    "#### Cost & gradient functions with regularization"
   ]
  },
  {
   "cell_type": "markdown",
   "metadata": {},
   "source": [
    "The regularized cost function for logistic regression is defined as : \n",
    "$$J(\\theta) = \\frac{1}{m}\\sum_{i=1}^m [-y^{(i)}\\log (h_{\\theta}(x^{(i)}) - (1-y^{(i)})\\log (1-h_{\\theta}(x^{(i)}) ] + \\frac{\\lambda}{2m}\\sum_{j=1}^n \\theta_j^2 $$\n",
    "or in vectorized form :\n",
    "$$ J(\\theta) = \\frac{1}{m} [-y^T\\log(h) - (1-y^T)\\log(1-h) ] + \\frac{\\lambda}{2m}\\theta^T\\theta $$"
   ]
  },
  {
   "cell_type": "markdown",
   "metadata": {},
   "source": [
    "The gradient of the regularized cost function is :\n",
    "$$ \\frac{\\partial J(\\theta)}{\\partial \\theta_j} = \\frac{1}{m}\\sum_{i=1}^m (h_{\\theta}(x_j^{(i)})-y^{(i)})x_j^{(i)},j=0$$ \n",
    "$$ \\frac{\\partial J(\\theta)}{\\partial \\theta_j} = \\frac{1}{m}\\sum_{i=1}^m (h_{\\theta}(x_j^{(i)})-y^{(i)})x_j^{(i)} + \\frac{\\lambda}{m}\\theta_j ,j>0$$\n",
    "or in vectorized form :\n",
    "$$ \\left(\\frac{\\partial J(\\theta)}{\\partial \\theta}\\right)_0 = \\left(\\frac{1}{m} X^T(h-y)\\right)_0$$\n",
    "$$ \\left(\\frac{\\partial J(\\theta)}{\\partial \\theta}\\right)_{j>0} = \\left(\\frac{1}{m} X^T(h-y)+\\frac{\\lambda}{m}\\theta \\right)_{j>0}$$"
   ]
  },
  {
   "cell_type": "code",
   "execution_count": 37,
   "metadata": {
    "collapsed": true
   },
   "outputs": [],
   "source": [
    "def costFunctionReg(theta,X,y,lambda_reg):\n",
    "    m = len(y)\n",
    "    \n",
    "    theta = theta.reshape(-1,1)\n",
    "    \n",
    "    h = sigmoid(X.dot(theta))\n",
    "    J = (1/m) * (-y.T.dot(np.log(h))-(1-y).T.dot(np.log(1-h))) + (lambda_reg /(2 * m)) * np.sum(theta[1:,:]**2) \n",
    "    \n",
    "    return np.asscalar(J)"
   ]
  },
  {
   "cell_type": "code",
   "execution_count": 38,
   "metadata": {
    "collapsed": true
   },
   "outputs": [],
   "source": [
    "def gradFunctionReg(theta,X,y,lambda_reg):\n",
    "    m = len(y)\n",
    "    theta = theta.reshape(-1,1)\n",
    "    \n",
    "    h = sigmoid(X.dot(theta))\n",
    "    grad = (1/m) * X.T.dot(h-y)\n",
    "    grad[1:,:] = grad[1:,:] + (lambda_reg / m) * theta[1:,:]\n",
    "\n",
    "    return grad.flatten()"
   ]
  },
  {
   "cell_type": "code",
   "execution_count": 39,
   "metadata": {
    "collapsed": false
   },
   "outputs": [
    {
     "name": "stdout",
     "output_type": "stream",
     "text": [
      "Cost at initial theta (zeros) with lambda = 1 : 0.693\n",
      "Expected cost : 0.693 \n",
      "\n",
      "Gradient at initial theta (zeros) with lambda = 1 : \n",
      " [[ 0.0085]\n",
      " [ 0.0188]\n",
      " [ 0.0001]\n",
      " [ 0.0503]\n",
      " [ 0.0115]] \n",
      "\n",
      "Expected gradient (first five values) :\n",
      " 0.0085\n",
      " 0.0188\n",
      " 0.0001\n",
      " 0.0503\n",
      " 0.0115\n",
      "\n",
      "\n"
     ]
    }
   ],
   "source": [
    "#Testing\n",
    "\n",
    "print(\"Cost at initial theta (zeros) with lambda = 1 : {:2.3f}\".format(costFunctionReg(initial_theta,X,y,1)))\n",
    "print(\"Expected cost : 0.693 \\n\")\n",
    "np.set_printoptions(4,suppress=True)\n",
    "print(\"Gradient at initial theta (zeros) with lambda = 1 : \\n {} \\n\".format(gradFunctionReg(initial_theta,X,y,1)[:5].reshape(5,1)))\n",
    "np.set_printoptions()\n",
    "print(\"Expected gradient (first five values) :\\n 0.0085\\n 0.0188\\n 0.0001\\n 0.0503\\n 0.0115\\n\\n\")\n"
   ]
  },
  {
   "cell_type": "code",
   "execution_count": 40,
   "metadata": {
    "collapsed": false
   },
   "outputs": [
    {
     "name": "stdout",
     "output_type": "stream",
     "text": [
      "Cost at test theta with lambda = 10 : 3.165\n",
      "Expected cost : 3.16 \n",
      "\n",
      "Gradient at test theta with lambda = 10 : \n",
      " [[ 0.346 ]\n",
      " [ 0.1614]\n",
      " [ 0.1948]\n",
      " [ 0.2269]\n",
      " [ 0.0922]] \n",
      "\n",
      "Expected gradient (first five values) :\n",
      " 0.3460\n",
      " 0.1614\n",
      " 0.1948\n",
      " 0.2269\n",
      " 0.0922\n",
      "\n",
      "\n"
     ]
    }
   ],
   "source": [
    "# Further testing\n",
    "      \n",
    "test_theta = np.ones(n)\n",
    "      \n",
    "print(\"Cost at test theta with lambda = 10 : {:2.3f}\".format(costFunctionReg(test_theta,X,y,10)))\n",
    "print(\"Expected cost : 3.16 \\n\")\n",
    "np.set_printoptions(4,suppress=True)\n",
    "print(\"Gradient at test theta with lambda = 10 : \\n {} \\n\".format(gradFunctionReg(test_theta,X,y,10)[:5].reshape(5,1)))\n",
    "np.set_printoptions()\n",
    "print(\"Expected gradient (first five values) :\\n 0.3460\\n 0.1614\\n 0.1948\\n 0.2269\\n 0.0922\\n\\n\")  "
   ]
  },
  {
   "cell_type": "markdown",
   "metadata": {},
   "source": [
    "#### Optimization (lambda = 1)"
   ]
  },
  {
   "cell_type": "code",
   "execution_count": 41,
   "metadata": {
    "collapsed": true
   },
   "outputs": [],
   "source": [
    "find_optim_theta_reg = minimize(fun=costFunctionReg, x0=initial_theta,\n",
    "method = None, jac=gradFunctionReg, args = (X,y,1), options={'maxiter':400})\n",
    "(theta_opt,cost_opt) = (find_optim_theta.x,find_optim_theta.fun)"
   ]
  },
  {
   "cell_type": "code",
   "execution_count": 42,
   "metadata": {
    "collapsed": true
   },
   "outputs": [],
   "source": [
    "theta_reg_opt = find_optim_theta_reg.x"
   ]
  },
  {
   "cell_type": "markdown",
   "metadata": {},
   "source": [
    "### Plot decision boundary"
   ]
  },
  {
   "cell_type": "code",
   "execution_count": 43,
   "metadata": {
    "collapsed": true
   },
   "outputs": [],
   "source": [
    "# Review function to account for polynomial features\n",
    "def plotDecisionBoundaryMulti(theta, X, y, x_label='',y_label='',neg_legend='',pos_legend=''):\n",
    "    ax = plotData(X[:,1:],y, x_label, y_label, neg_legend, pos_legend)\n",
    "    x_min = np.min(X[:,1]); x_max = np.max(X[:,1])\n",
    "    y_min = np.min(X[:,2]); y_max = np.max(X[:,2])\n",
    "    \n",
    "    # Create 100*100 grid in [(x_min,x_max) x (y_min,y_max)]\n",
    "    xx, yy = np.meshgrid(np.linspace(x_min,x_max,100),np.linspace(y_min,y_max,100)) \n",
    "    \n",
    "    # Evaluate h(theta*X) at each point in grid\n",
    "    \n",
    "    z = sigmoid(poly.fit_transform(np.c_[xx.ravel(),yy.ravel()]).dot(theta.T)).reshape(len(xx),len(yy))    \n",
    "    \n",
    "    # Plot decision boundaries (prob = 0.3,0.5,0.7)\n",
    "    cp = plt.contour(xx,yy,z,[0.5], linewidths=2, colors='r')  \n",
    "    ax.clabel(cp)"
   ]
  },
  {
   "cell_type": "code",
   "execution_count": 44,
   "metadata": {
    "collapsed": false
   },
   "outputs": [
    {
     "data": {
      "image/png": "[encoded data removed]",
      "text/plain": [
       "<matplotlib.figure.Figure at 0x98083c8>"
      ]
     },
     "metadata": {},
     "output_type": "display_data"
    }
   ],
   "source": [
    "plotDecisionBoundaryMulti(theta_reg_opt, X, y,'Microchip Test 1', 'Microchip Test 2' ,'y=0','y=1' )"
   ]
  },
  {
   "cell_type": "markdown",
   "metadata": {},
   "source": [
    "#### Lambda = 0"
   ]
  },
  {
   "cell_type": "code",
   "execution_count": 45,
   "metadata": {
    "collapsed": false
   },
   "outputs": [
    {
     "name": "stderr",
     "output_type": "stream",
     "text": [
      "D:\\Anaconda\\lib\\site-packages\\ipykernel\\__main__.py:2: RuntimeWarning: overflow encountered in exp\n",
      "  from ipykernel import kernelapp as app\n"
     ]
    },
    {
     "data": {
      "image/png": "[encoded data removed]",
      "text/plain": [
       "<matplotlib.figure.Figure at 0x9734c50>"
      ]
     },
     "metadata": {},
     "output_type": "display_data"
    }
   ],
   "source": [
    "find_optim_theta_reg = minimize(fun=costFunctionReg, x0=initial_theta,\n",
    "method = None, jac=gradFunctionReg, args = (X,y,0), options={'maxiter':400})\n",
    "(theta_opt,cost_opt) = (find_optim_theta.x,find_optim_theta.fun)\n",
    "\n",
    "theta_reg_opt = find_optim_theta_reg.x\n",
    "\n",
    "plotDecisionBoundaryMulti(theta_reg_opt, X, y,'Microchip Test 1', 'Microchip Test 2' ,'y=0','y=1' )"
   ]
  },
  {
   "cell_type": "markdown",
   "metadata": {},
   "source": [
    "#### Lambda = 100"
   ]
  },
  {
   "cell_type": "code",
   "execution_count": 46,
   "metadata": {
    "collapsed": false
   },
   "outputs": [
    {
     "data": {
      "image/png": "[encoded data removed]",
      "text/plain": [
       "<matplotlib.figure.Figure at 0x9601a20>"
      ]
     },
     "metadata": {},
     "output_type": "display_data"
    }
   ],
   "source": [
    "find_optim_theta_reg = minimize(fun=costFunctionReg, x0=initial_theta,\n",
    "method = None, jac=gradFunctionReg, args = (X,y,100), options={'maxiter':400})\n",
    "(theta_opt,cost_opt) = (find_optim_theta.x,find_optim_theta.fun)\n",
    "\n",
    "theta_reg_opt = find_optim_theta_reg.x\n",
    "\n",
    "plotDecisionBoundaryMulti(theta_reg_opt, X, y,'Microchip Test 1', 'Microchip Test 2' ,'y=0','y=1' )"
   ]
  },
  {
   "cell_type": "markdown",
   "metadata": {},
   "source": [
    "### Check accuracy on training samples"
   ]
  },
  {
   "cell_type": "code",
   "execution_count": 47,
   "metadata": {
    "collapsed": true
   },
   "outputs": [],
   "source": [
    "# Reverting to lambda = 1\n",
    "find_optim_theta_reg = minimize(fun=costFunctionReg, x0=initial_theta,\n",
    "method = None, jac=gradFunctionReg, args = (X,y,1), options={'maxiter':400})\n",
    "(theta_opt,cost_opt) = (find_optim_theta.x,find_optim_theta.fun)\n",
    "\n",
    "theta_reg_opt = find_optim_theta_reg.x"
   ]
  },
  {
   "cell_type": "code",
   "execution_count": 48,
   "metadata": {
    "collapsed": true
   },
   "outputs": [],
   "source": [
    "p = predict(theta_reg_opt,X)"
   ]
  },
  {
   "cell_type": "code",
   "execution_count": 49,
   "metadata": {
    "collapsed": false
   },
   "outputs": [
    {
     "name": "stdout",
     "output_type": "stream",
     "text": [
      "Train Accuracy : 83.1 %\n",
      "Expected accuracy (approx) : 83.1% \n"
     ]
    }
   ],
   "source": [
    "print(\"Train Accuracy : {:2.1f} %\".format(100 * np.sum((p==y).astype('int') /m)))\n",
    "print(\"Expected accuracy (approx) : 83.1% \")"
   ]
  },
  {
   "cell_type": "markdown",
   "metadata": {},
   "source": [
    "### END"
   ]
  }
 ],
 "metadata": {
  "kernelspec": {
   "display_name": "Python 3",
   "language": "python",
   "name": "python3"
  },
  "language_info": {
   "codemirror_mode": {
    "name": "ipython",
    "version": 3
   },
   "file_extension": ".py",
   "mimetype": "text/x-python",
   "name": "python",
   "nbconvert_exporter": "python",
   "pygments_lexer": "ipython3",
   "version": "3.6.0"
  }
 },
 "nbformat": 4,
 "nbformat_minor": 2
}
