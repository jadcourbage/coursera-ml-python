{
 "cells": [
  {
   "cell_type": "markdown",
   "metadata": {},
   "source": [
    "## Machine Learning Online Class - Exercise 4 Neural Network Learning\n",
    "Requires : scipy, scikit-learn, keras, tensorflow"
   ]
  },
  {
   "cell_type": "markdown",
   "metadata": {},
   "source": [
    "### Introduction"
   ]
  },
  {
   "cell_type": "markdown",
   "metadata": {},
   "source": [
    "In this exercise, you will implement the backpropagation algorithm for neural\n",
    "networks and apply it to the task of hand-written digit recognition."
   ]
  },
  {
   "cell_type": "markdown",
   "metadata": {},
   "source": [
    "### Python imports"
   ]
  },
  {
   "cell_type": "code",
   "execution_count": 1,
   "metadata": {
    "collapsed": false
   },
   "outputs": [
    {
     "name": "stderr",
     "output_type": "stream",
     "text": [
      "Using TensorFlow backend.\n"
     ]
    }
   ],
   "source": [
    "import warnings\n",
    "warnings.filterwarnings('ignore')\n",
    "\n",
    "import time\n",
    "\n",
    "import numpy as np\n",
    "\n",
    "import matplotlib.pyplot as plt\n",
    "\n",
    "from scipy.optimize import minimize\n",
    "from scipy.optimize import check_grad\n",
    "from scipy.io import loadmat\n",
    "\n",
    "from keras import initializers\n",
    "from keras import regularizers\n",
    "from keras.models import Sequential\n",
    "from keras.layers import Dense\n",
    "from keras.wrappers.scikit_learn import KerasClassifier\n",
    "from keras.utils import np_utils\n",
    "\n",
    "from IPython.display import HTML\n",
    "\n",
    "%matplotlib inline"
   ]
  },
  {
   "cell_type": "markdown",
   "metadata": {},
   "source": [
    "### Setup the parameters (NN architecture)"
   ]
  },
  {
   "cell_type": "markdown",
   "metadata": {},
   "source": [
    "Our neural network has 3 layers (an input layer, a hidden layer and an output layer).<br>\n",
    "Recall that our inputs are pixel values of digit images. <br>\n",
    "Since the images are of size 20x20, this gives us 400 input layer units (excluding the extra bias unit which always outputs +1). As before, the training data will be loaded into the variables X and y.<br>\n",
    "You have been provided with a set of network parameters $ (\\theta^{(1)},\\theta^{(2)})$ already trained by us. <br>\n",
    "These are stored in ex3weights.mat and will be loaded by ex3 nn.m into Theta1 and Theta2 <br>\n",
    "The parameters have dimensions that are sized for a neural network with 25 units in the second layer and 10 output units (corresponding to the 10 digit classes)."
   ]
  },
  {
   "cell_type": "code",
   "execution_count": 2,
   "metadata": {
    "collapsed": true
   },
   "outputs": [],
   "source": [
    "input_layer_size  = 400  # 20x20 Input Images of Digits\n",
    "hidden_layer_size = 25   # 25 hidden units\n",
    "num_labels = 10          # 10 labels, from 1 to 10"
   ]
  },
  {
   "cell_type": "markdown",
   "metadata": {},
   "source": [
    "### Part 1: Loading and Visualizing Data"
   ]
  },
  {
   "cell_type": "markdown",
   "metadata": {},
   "source": [
    "#### Load training data"
   ]
  },
  {
   "cell_type": "markdown",
   "metadata": {},
   "source": [
    "This is the same dataset as we used in preivous exercise.<br>\n",
    "There are 5000 training examples in ex3data1.mat, where each training example is a 20 pixel by 20 pixel grayscale image of the digit. <br>\n",
    "Each pixel is represented by a floating point number indicating the grayscale intensity at that location. The 20 by 20 grid of pixels is \"unrolled\" into a 400-dimensional vector. <br>\n",
    "Each of these training examples becomes a single row in our data matrix X. <br>\n",
    "This gives us a 5000 by 400 matrix X where every row is a training example for a handwritten digit image.<br><br>"
   ]
  },
  {
   "cell_type": "markdown",
   "metadata": {},
   "source": [
    "$$ X=\n",
    "\\quad\n",
    "\\begin{bmatrix} \n",
    "- & (x^{(1)})^T & - \\\\\n",
    "- & (x^{(2)})^T & - \\\\\n",
    "  &\\vdots & \\\\\n",
    "- & (x^{(m)})^T & - \n",
    "\\end{bmatrix}\n",
    "$$"
   ]
  },
  {
   "cell_type": "markdown",
   "metadata": {},
   "source": [
    "The second part of the training set is a 5000-dimensional vector y that contains labels for the training set. <br>\n",
    "To make things more compatible with Octave/MATLAB indexing, where there is no zero index, we have mapped the digit zero to the value ten.  <br>\n",
    "Therefore, a \"0\" digit is labeled as \"10\", while the digits \"1\" to \"9\" are labeled as \"1\" to \"9\" in their natural order."
   ]
  },
  {
   "cell_type": "code",
   "execution_count": 3,
   "metadata": {
    "collapsed": true
   },
   "outputs": [],
   "source": [
    "data = loadmat('ex4data1.mat')"
   ]
  },
  {
   "cell_type": "code",
   "execution_count": 4,
   "metadata": {
    "collapsed": true
   },
   "outputs": [],
   "source": [
    "X = data['X']\n",
    "y = data['y']"
   ]
  },
  {
   "cell_type": "code",
   "execution_count": 5,
   "metadata": {
    "collapsed": true
   },
   "outputs": [],
   "source": [
    "m = len(X)"
   ]
  },
  {
   "cell_type": "markdown",
   "metadata": {},
   "source": [
    "#### Randomly select 100 data points to display"
   ]
  },
  {
   "cell_type": "code",
   "execution_count": 6,
   "metadata": {
    "collapsed": true
   },
   "outputs": [],
   "source": [
    "rand_indices = np.random.permutation(m)\n",
    "sel = X[rand_indices[:100],:]"
   ]
  },
  {
   "cell_type": "code",
   "execution_count": 7,
   "metadata": {
    "collapsed": true
   },
   "outputs": [],
   "source": [
    "def displayData(images):\n",
    "    \n",
    "    n = len(images)\n",
    "    #ncols = 10\n",
    "    dm = divmod(n,10)\n",
    "    \n",
    "    nrows = np.floor(np.sqrt(n))\n",
    "    ncols = np.ceil(n / nrows)\n",
    "    \n",
    "    #nrows = dm[0] if dm[0]==0 else dm[0]+1\n",
    "    \n",
    "    fig = plt.figure(figsize=(8, 8))\n",
    "\n",
    "    for i in range(n):\n",
    "        sub = fig.add_subplot(nrows, ncols, i + 1)\n",
    "        sub.axis('off')\n",
    "        sub.imshow(images[i].reshape(20,20).T,cmap='gray')\n",
    "    \n",
    "    return fig"
   ]
  },
  {
   "cell_type": "code",
   "execution_count": 8,
   "metadata": {
    "collapsed": false
   },
   "outputs": [
    {
     "data": {
      "image/png": "[encoded data removed]",
      "text/plain": [
       "<matplotlib.figure.Figure at 0x89a89e8>"
      ]
     },
     "metadata": {},
     "output_type": "display_data"
    }
   ],
   "source": [
    "fig = displayData(sel)"
   ]
  },
  {
   "cell_type": "markdown",
   "metadata": {},
   "source": [
    "### Part 2: Loading (pre-initialized) weights"
   ]
  },
  {
   "cell_type": "code",
   "execution_count": 9,
   "metadata": {
    "collapsed": true
   },
   "outputs": [],
   "source": [
    "weights = loadmat('ex4weights.mat')\n",
    "Theta1 = weights['Theta1']\n",
    "Theta2 = weights['Theta2']"
   ]
  },
  {
   "cell_type": "markdown",
   "metadata": {},
   "source": [
    "##### Unroll parameters (i.e. put Theta1 and Theta2 into one single vector)"
   ]
  },
  {
   "cell_type": "code",
   "execution_count": 10,
   "metadata": {
    "collapsed": true
   },
   "outputs": [],
   "source": [
    "nn_params = np.r_[Theta1.ravel(),Theta2.ravel()]"
   ]
  },
  {
   "cell_type": "markdown",
   "metadata": {},
   "source": [
    "### Part 3 / 4 : Compute regularized cost function"
   ]
  },
  {
   "cell_type": "markdown",
   "metadata": {},
   "source": [
    "The cost function for neural networks with regularization is given by :\n",
    "$$J(\\theta) = \\frac{1}{m}\\sum_{i=1}^m \\sum_{k=1}^K [-y_k^{(i)}\\log (h_{\\theta}(x^{(i)}_k) - (1-y_k^{(i)})\\log (1-h_{\\theta}(x^{(i)})_k ] + \\frac{\\lambda}{2m}[\\sum_{j=1}^{25} \\sum_{k=1}^{400} (\\theta_{j,k}^{(1)})^2 + \\sum_{j=1}^{10} \\sum_{k=1}^{25} (\\theta_{j,k}^{(2)})^2 ]$$"
   ]
  },
  {
   "cell_type": "code",
   "execution_count": 11,
   "metadata": {
    "collapsed": true
   },
   "outputs": [],
   "source": [
    "# Define usual sigmoid function (neurons are sigmoid units)\n",
    "def sigmoid(z):\n",
    "    return 1 / (1 + np.exp(-z))"
   ]
  },
  {
   "cell_type": "code",
   "execution_count": 12,
   "metadata": {
    "collapsed": true
   },
   "outputs": [],
   "source": [
    "def nnCostFunction(nn_params, input_layer_size, hidden_layer_size,\n",
    "                   num_labels, X, y, lambda_reg):\n",
    "    \n",
    "    # First reshape unrolled nn_params to retrieve Theta1 and Theta2\n",
    "    Theta1 = nn_params[:(hidden_layer_size *(input_layer_size + 1))].reshape(hidden_layer_size, input_layer_size + 1)\n",
    "    Theta2 = nn_params[(hidden_layer_size *(input_layer_size + 1)):].reshape(num_labels, hidden_layer_size + 1)\n",
    "    \n",
    "    m = X.shape[0]\n",
    "    \n",
    "    # Add bias\n",
    "    X = np.c_[np.ones(m),X] \n",
    "    \n",
    "    # Forward propagate data\n",
    "    # Return (m x num_labels) matrix (final layer activation output for each sample)\n",
    "    h = sigmoid(np.c_[np.ones(m),sigmoid(X.dot(Theta1.T))].dot(Theta2.T))\n",
    "    \n",
    "    # Recode y as m*num_labels matrix of 0 and 1\n",
    "    # We use here numpy broadcasting\n",
    "    code = np.arange(1,num_labels + 1)\n",
    "    y_rec = (y == code).astype('int')\n",
    "    \n",
    "    # Compute overall cost without regularization term\n",
    "    J0 = (1 / m) * np.sum(np.sum((-y_rec * np.log(h) - (1 - y_rec) * np.log(1 - h)), axis=1), axis = 0)\n",
    "    \n",
    "    # Compute regularization term\n",
    "    reg_term = (lambda_reg / (2* m)) * (np.sum(np.sum(Theta1[:,1:]**2, axis = 1), axis = 0) +\n",
    "                                        np.sum(np.sum(Theta2[:,1:]**2, axis = 1), axis = 0))\n",
    "    \n",
    "    J = J0 + reg_term\n",
    "    \n",
    "    return J   "
   ]
  },
  {
   "cell_type": "code",
   "execution_count": 13,
   "metadata": {
    "collapsed": true
   },
   "outputs": [],
   "source": [
    "lambda_reg = 0\n",
    "J = nnCostFunction(nn_params, input_layer_size, hidden_layer_size, num_labels, X,y, lambda_reg)"
   ]
  },
  {
   "cell_type": "code",
   "execution_count": 14,
   "metadata": {
    "collapsed": false
   },
   "outputs": [
    {
     "name": "stdout",
     "output_type": "stream",
     "text": [
      "Cost at parameters (loaded from ex4weights): 0.287629\n",
      "Expected cost : 0.287629 \n",
      "\n"
     ]
    }
   ],
   "source": [
    "print(\"Cost at parameters (loaded from ex4weights): {:2.6f}\".format(J))\n",
    "print(\"Expected cost : 0.287629 \\n\")"
   ]
  },
  {
   "cell_type": "code",
   "execution_count": 15,
   "metadata": {
    "collapsed": true
   },
   "outputs": [],
   "source": [
    "lambda_reg = 1\n",
    "J = nnCostFunction(nn_params, input_layer_size, hidden_layer_size, num_labels, X,y, lambda_reg)"
   ]
  },
  {
   "cell_type": "code",
   "execution_count": 16,
   "metadata": {
    "collapsed": false
   },
   "outputs": [
    {
     "name": "stdout",
     "output_type": "stream",
     "text": [
      "Cost at parameters (loaded from ex4weights): 0.383770\n",
      "Expected cost : 0.383770 \n",
      "\n"
     ]
    }
   ],
   "source": [
    "print(\"Cost at parameters (loaded from ex4weights): {:2.6f}\".format(J))\n",
    "print(\"Expected cost : 0.383770 \\n\")"
   ]
  },
  {
   "cell_type": "markdown",
   "metadata": {},
   "source": [
    "### Part 5: Sigmoid Gradient"
   ]
  },
  {
   "cell_type": "markdown",
   "metadata": {},
   "source": [
    "The gradient for the sigmoid function can be computed as :\n",
    "$$ g'(z)= \\frac{d}{dz}g(z)=g(z)(1-g(z))  $$\n",
    "where :\n",
    "$$g(z) = \\frac{1}{1+e^{-z}}$$"
   ]
  },
  {
   "cell_type": "code",
   "execution_count": 17,
   "metadata": {
    "collapsed": true
   },
   "outputs": [],
   "source": [
    "def sigmoidGradient(z):\n",
    "    return sigmoid(z) * (1 - sigmoid(z))"
   ]
  },
  {
   "cell_type": "code",
   "execution_count": 18,
   "metadata": {
    "collapsed": true
   },
   "outputs": [],
   "source": [
    "g = sigmoidGradient(np.array([-1,-0.5,0,0.5,1]))"
   ]
  },
  {
   "cell_type": "code",
   "execution_count": 19,
   "metadata": {
    "collapsed": false
   },
   "outputs": [
    {
     "name": "stdout",
     "output_type": "stream",
     "text": [
      "Sigmoid gradient evaluated at [-1 -0.5 0 0.5 1]:\n",
      "\n",
      "[ 0.19661193  0.23500371  0.25        0.23500371  0.19661193]\n"
     ]
    }
   ],
   "source": [
    "print(\"Sigmoid gradient evaluated at [-1 -0.5 0 0.5 1]:\\n\")\n",
    "print(g)"
   ]
  },
  {
   "cell_type": "markdown",
   "metadata": {},
   "source": [
    "### Part 6: Initializing Parameters"
   ]
  },
  {
   "cell_type": "markdown",
   "metadata": {},
   "source": [
    "When training neural networks, it is important to randomly initialize the parameters for symmetry breaking.<br>\n",
    "One effective strategy for random initialization is to randomly select values for $\\theta^{(l)}$ uniformly in the range $[-\\epsilon_{init},\\epsilon_{init}]$<br>\n",
    "A good choice for $\\epsilon_{init}$ is $\\epsilon_{init}=\\frac{\\sqrt{6}}{\\sqrt{L_{in}+L_{out}}}$ where $L_{in}=s_t$ and $L_{out}=s_{t+1}$ are the number of units in the layers adjacent to $\\theta^{(l)}$<br>\n",
    "This range of values ensures that the parameters are kept small and makes the learning more efficient.<br>\n",
    "Applying the formula in our case :  $\\epsilon_{init}=0.12$"
   ]
  },
  {
   "cell_type": "code",
   "execution_count": 20,
   "metadata": {
    "collapsed": true
   },
   "outputs": [],
   "source": [
    "# Initialize W randomly so that we break the symmetry while training the neural network.\n",
    "# Note: The first column of W corresponds to the parameters for the bias unit\n",
    "def randInitializeWeights(L_in, L_out):\n",
    "    epsilon_init = 0.12\n",
    "    return np.random.rand(L_out, L_in + 1) * 2 * epsilon_init - epsilon_init "
   ]
  },
  {
   "cell_type": "code",
   "execution_count": 21,
   "metadata": {
    "collapsed": true
   },
   "outputs": [],
   "source": [
    "# Randomly initialize weights\n",
    "initial_Theta1 = randInitializeWeights(input_layer_size, hidden_layer_size)\n",
    "initial_Theta2 = randInitializeWeights(hidden_layer_size, num_labels)"
   ]
  },
  {
   "cell_type": "code",
   "execution_count": 22,
   "metadata": {
    "collapsed": true
   },
   "outputs": [],
   "source": [
    "# Unroll parameters\n",
    "initial_nn_params = np.r_[Theta1.ravel(),Theta2.ravel()]"
   ]
  },
  {
   "cell_type": "markdown",
   "metadata": {},
   "source": [
    "### Part 7: Implement Backpropagation"
   ]
  },
  {
   "cell_type": "markdown",
   "metadata": {},
   "source": [
    "In this part of the exercise, you will implement the backpropagation algorithm to compute the gradient for the neural network cost function.\n",
    "Once you have computed the gradient, you will be able to train the neural network by minimizing the cost function J() using an\n",
    "advanced optimizer."
   ]
  },
  {
   "cell_type": "markdown",
   "metadata": {},
   "source": [
    "Recall that the intuition behind the backpropagation algorithm is as follows. <br>\n",
    "Given a training example $(x^{(t)}, y^{(t)})$, we will first run a \"forward pass\" to compute all the activations throughout the network, including the output value of the hypothesis $h_{\\theta}(x)$. <br>\n",
    "Then, for each node $j$ in layer $l$, we would like to compute an \"error term\" $\\delta_j^{(l)}$ that measures how much that node was \\responsible\" for any errors in our output."
   ]
  },
  {
   "cell_type": "markdown",
   "metadata": {},
   "source": [
    "For an output node, we can directly measure the difference between the network's activation and the true target value, and use that to define $\\delta_j^{(3)}$ (since layer 3 is the output layer). <br>\n",
    "For the hidden units, you will compute $\\delta_j^{(l)}$ based on a weighted average of the error terms of the nodes in layer\n",
    "$(l + 1)$."
   ]
  },
  {
   "cell_type": "markdown",
   "metadata": {},
   "source": [
    "In detail, here is the backpropagation algorithm.<br> \n",
    "You should implement steps 1 to 4 in a loop that processes one example\n",
    "at a time. <br> \n",
    "Concretely, you should implement a for-loop for $t = 1:m$ and\n",
    "place steps 1-4 below inside the for-loop, with the $t$-th iteration performing\n",
    "the calculation on the $t$-th training example $(x^{(t)}, y^{(t)})$. <br>\n",
    "Step 5 will divide the\n",
    "accumulated gradients by m to obtain the gradients for the neural network cost function."
   ]
  },
  {
   "cell_type": "markdown",
   "metadata": {},
   "source": [
    "1. Set the input layer's values $(a^{(1)})$ to the $t$-th training sample $x^{(t)}$<br>\n",
    "Perform a feedforward pass computing the activations $(z^{(2)},a^{(2)},z^{(3)},a^{(3)})$ for layers 2 and 3. <br>\n",
    "Note that you need to add a +1 term to ensure that the vectors of activations for layers $a^{(1)}$  and $a^{(2)}$ also include the bias unit.<br><br>\n",
    "\n",
    "2. For each unit $k$ in layer 3 (the ouput layer), set \n",
    "$$\\delta_k^{(3)}=(a_k^{(3)}-y_k)$$ <br>\n",
    "where $y_k \\in \\{0,1\\}$ indicates whether the current training example belongs to class k ($y_k = 1$), or if it belongs to a different class ($y_k = 0$).<br><br>\n",
    "\n",
    "3. For the hidden layer $l$ = 2, set :\n",
    "$$\\delta^{(2)}=(\\Theta^{(2)})^T \\delta^{(3)}.*g'(z^{(2)})$$<br><br>\n",
    "\n",
    "4. Accumulate the gradient from this example using the following formula : <br>\n",
    "$$\\Delta^{(L)} = \\Delta^{(L)} + \\delta^{(l+1)}(a^{(l)})^T$$<br><br>\n",
    "\n",
    "5. Obtain the gradient for the neural network cost function by dividing the accumulated gradients by m<br>\n",
    "$$ \\frac{\\partial J(\\theta)}{\\partial \\theta_{ij}^{(l)}} = D_{ij}^{(L)} = \\frac{1}{m}\\Delta_{ij}^{(L)} \\hspace{10 mm} \\text{for} \\hspace{3 mm}j=0$$\n",
    "$$ \\frac{\\partial J(\\theta)}{\\partial \\theta_{ij}^{(l)}} = D_{ij}^{(L)} = \\frac{1}{m}\\Delta_{ij}^{(L)} + \\frac{\\lambda}{m}\\theta_{ij}^{(l)}\\hspace{10 mm} \\text{for} \\hspace{3 mm}j\\geqslant1$$\n"
   ]
  },
  {
   "cell_type": "markdown",
   "metadata": {},
   "source": [
    "#### Cost gradient function"
   ]
  },
  {
   "cell_type": "code",
   "execution_count": 23,
   "metadata": {
    "collapsed": true
   },
   "outputs": [],
   "source": [
    "def nnGradFunction(nn_params, input_layer_size, hidden_layer_size,\n",
    "                   num_labels, X, y, lambda_reg):\n",
    "    \n",
    "    # First reshape unrolled nn_params to retrieve Theta1 and Theta2\n",
    "    Theta1 = nn_params[:(hidden_layer_size *(input_layer_size + 1))].reshape(hidden_layer_size, input_layer_size + 1)\n",
    "    Theta2 = nn_params[(hidden_layer_size *(input_layer_size + 1)):].reshape(num_labels, hidden_layer_size + 1)\n",
    "    \n",
    "    m = X.shape[0]\n",
    "    \n",
    "    \n",
    "    # Forward propagation - store intermediate activation values\n",
    "    a1 = np.c_[np.ones(m),X]\n",
    "    z2 = a1.dot(Theta1.T)\n",
    "    a2 = np.c_[np.ones(m),sigmoid(z2)]\n",
    "    z3 = a2.dot(Theta2.T)\n",
    "    a3 = sigmoid(z3)\n",
    "    \n",
    "    # Recode y as m*num_labels matrix of 0 and 1\n",
    "    # We use here numpy broadcasting\n",
    "    code = np.arange(1,num_labels + 1)\n",
    "    y_rec = (y == code).astype('int')\n",
    "    \n",
    "    # Local gradients\n",
    "    delta3 = a3 - y_rec\n",
    "    delta2 = delta3.dot(Theta2) * sigmoidGradient(np.c_[np.ones(m), z2])\n",
    "    \n",
    "    # Global gradients\n",
    "    Delta2 = delta3.T.dot(a2)\n",
    "    Delta1 = delta2[:,1:].T.dot(a1)\n",
    "    \n",
    "    # Gradients with regularization\n",
    "    Theta1_grad = (1/m) * Delta1 + (lambda_reg / m) * np.c_[np.zeros((Theta1.shape[0],1)), Theta1[:, 1:]]\n",
    "    Theta2_grad = (1/m) * Delta2 + (lambda_reg / m) * np.c_[np.zeros((Theta2.shape[0],1)), Theta2[:, 1:]]\n",
    "   \n",
    "    # Unroll gradients\n",
    "    grad = np.r_[Theta1_grad.ravel(),Theta2_grad.ravel()]\n",
    "    \n",
    "    return grad"
   ]
  },
  {
   "cell_type": "markdown",
   "metadata": {},
   "source": [
    "#### Numerical gradient function (central finite difference)"
   ]
  },
  {
   "cell_type": "code",
   "execution_count": 24,
   "metadata": {
    "collapsed": true
   },
   "outputs": [],
   "source": [
    "def computeNumericalGradient(func, x):\n",
    "    eps = 1e-4\n",
    "      \n",
    "    perturb = np.zeros(x.size)\n",
    "    findiff = np.zeros(x.size)\n",
    "    \n",
    "    for p in range(x.size):\n",
    "        perturb[p] = eps\n",
    "        findiff[p] = (func(x + perturb) - func(x - perturb)) / (2 * eps)       \n",
    "        perturb = np.zeros(x.size)       \n",
    "        \n",
    "    return findiff"
   ]
  },
  {
   "cell_type": "code",
   "execution_count": 25,
   "metadata": {
    "collapsed": false
   },
   "outputs": [
    {
     "name": "stdout",
     "output_type": "stream",
     "text": [
      "Exact derivative : [ 4 10 12]\n",
      "Finite diff appprox : [  4.  10.  12.]\n"
     ]
    }
   ],
   "source": [
    "#Testing numerical gradient\n",
    "def f(x):\n",
    "    return np.sum(x**2)\n",
    "\n",
    "print(\"Exact derivative : {}\".format(2*np.array([2,5,6])))\n",
    "print(\"Finite diff appprox : {}\".format(computeNumericalGradient(f,np.array([2,5,6]))))\n"
   ]
  },
  {
   "cell_type": "markdown",
   "metadata": {},
   "source": [
    "#### Gradient checking"
   ]
  },
  {
   "cell_type": "code",
   "execution_count": 26,
   "metadata": {
    "collapsed": true
   },
   "outputs": [],
   "source": [
    "def checkNNGradients(lambda_reg = 0):\n",
    "    input_layer_size = 3\n",
    "    hidden_layer_size = 5\n",
    "    num_labels = 3\n",
    "    m = 5\n",
    "    \n",
    "    # Initialize weights (same procedure as in m code using sin)\n",
    "    def debugInitializeWeights(fan_out, fan_in):\n",
    "        return (np.sin(np.arange(1,fan_out*(fan_in + 1)+1))/10).reshape(fan_out, fan_in + 1, order = 'F')\n",
    "    \n",
    "    Theta1 = debugInitializeWeights(hidden_layer_size, input_layer_size)\n",
    "    Theta2 = debugInitializeWeights(num_labels, hidden_layer_size)\n",
    "    \n",
    "    X  = debugInitializeWeights(m, input_layer_size - 1)\n",
    "    y = (1 + np.mod(np.arange(1,m+1),num_labels)).reshape(m,1)\n",
    "    \n",
    "    # Unroll thetas\n",
    "    nn_params = np.r_[Theta1.ravel(),Theta2.ravel()]\n",
    "    \n",
    "    grad = nnGradFunction(nn_params, input_layer_size, hidden_layer_size,\n",
    "                   num_labels, X, y, lambda_reg)\n",
    "    \n",
    "    numgrad = computeNumericalGradient(lambda theta: nnCostFunction(theta,input_layer_size,\n",
    "                                       hidden_layer_size,num_labels, X, y, lambda_reg),\n",
    "                                       nn_params)\n",
    "    result = np.c_[numgrad, grad]\n",
    "    \n",
    "    print(\"The following columns should be very similar \\n\")\n",
    "    print(\"Left-Your Numerical Gradient, Right-Analytical Gradient\\n\")\n",
    "    print(result)\n",
    "    \n",
    "    # Evaluate the norm of the difference\n",
    "    diff = np.linalg.norm(numgrad - grad) / np.linalg.norm(numgrad + grad)\n",
    "    \n",
    "    print(\"If your backpropagation implementation is correct, then\")\n",
    "    print(\"the relative difference will be small (less than 1e-9)\\n\")\n",
    "    print(\"Relative difference : {}\".format(diff))   "
   ]
  },
  {
   "cell_type": "code",
   "execution_count": 27,
   "metadata": {
    "collapsed": false
   },
   "outputs": [
    {
     "name": "stdout",
     "output_type": "stream",
     "text": [
      "The following columns should be very similar \n",
      "\n",
      "Left-Your Numerical Gradient, Right-Analytical Gradient\n",
      "\n",
      "[[ -9.27825235e-03  -9.27825236e-03]\n",
      " [ -3.04978931e-06  -3.04978914e-06]\n",
      " [ -1.75060082e-04  -1.75060082e-04]\n",
      " [ -9.62660618e-05  -9.62660620e-05]\n",
      " [  8.89911959e-03   8.89911960e-03]\n",
      " [  1.42869450e-05   1.42869443e-05]\n",
      " [  2.33146358e-04   2.33146357e-04]\n",
      " [  1.17982666e-04   1.17982666e-04]\n",
      " [ -8.36010761e-03  -8.36010762e-03]\n",
      " [ -2.59383093e-05  -2.59383100e-05]\n",
      " [ -2.87468729e-04  -2.87468729e-04]\n",
      " [ -1.37149709e-04  -1.37149706e-04]\n",
      " [  7.62813551e-03   7.62813551e-03]\n",
      " [  3.69883213e-05   3.69883234e-05]\n",
      " [  3.35320349e-04   3.35320347e-04]\n",
      " [  1.53247079e-04   1.53247082e-04]\n",
      " [ -6.74798369e-03  -6.74798370e-03]\n",
      " [ -4.68759764e-05  -4.68759769e-05]\n",
      " [ -3.76215585e-04  -3.76215587e-04]\n",
      " [ -1.66560294e-04  -1.66560294e-04]\n",
      " [  3.14544970e-01   3.14544970e-01]\n",
      " [  1.64090819e-01   1.64090819e-01]\n",
      " [  1.64567932e-01   1.64567932e-01]\n",
      " [  1.58339334e-01   1.58339334e-01]\n",
      " [  1.51127527e-01   1.51127527e-01]\n",
      " [  1.49568335e-01   1.49568335e-01]\n",
      " [  1.11056588e-01   1.11056588e-01]\n",
      " [  5.75736494e-02   5.75736493e-02]\n",
      " [  5.77867378e-02   5.77867378e-02]\n",
      " [  5.59235296e-02   5.59235296e-02]\n",
      " [  5.36967009e-02   5.36967009e-02]\n",
      " [  5.31542052e-02   5.31542052e-02]\n",
      " [  9.74006970e-02   9.74006970e-02]\n",
      " [  5.04575855e-02   5.04575855e-02]\n",
      " [  5.07530173e-02   5.07530173e-02]\n",
      " [  4.91620841e-02   4.91620841e-02]\n",
      " [  4.71456249e-02   4.71456249e-02]\n",
      " [  4.65597186e-02   4.65597186e-02]]\n",
      "If your backpropagation implementation is correct, then\n",
      "the relative difference will be small (less than 1e-9)\n",
      "\n",
      "Relative difference : 2.1992380211918565e-11\n"
     ]
    }
   ],
   "source": [
    "#lambda = 0\n",
    "checkNNGradients()"
   ]
  },
  {
   "cell_type": "code",
   "execution_count": 28,
   "metadata": {
    "collapsed": false
   },
   "outputs": [
    {
     "name": "stdout",
     "output_type": "stream",
     "text": [
      "The following columns should be very similar \n",
      "\n",
      "Left-Your Numerical Gradient, Right-Analytical Gradient\n",
      "\n",
      "[[ -9.27825235e-03  -9.27825236e-03]\n",
      " [ -1.67679797e-02  -1.67679797e-02]\n",
      " [ -6.01744725e-02  -6.01744725e-02]\n",
      " [ -1.73704651e-02  -1.73704651e-02]\n",
      " [  8.89911959e-03   8.89911960e-03]\n",
      " [  3.94334829e-02   3.94334829e-02]\n",
      " [ -3.19612287e-02  -3.19612287e-02]\n",
      " [ -5.75658668e-02  -5.75658668e-02]\n",
      " [ -8.36010761e-03  -8.36010762e-03]\n",
      " [  5.93355565e-02   5.93355565e-02]\n",
      " [  2.49225535e-02   2.49225535e-02]\n",
      " [ -4.51963845e-02  -4.51963845e-02]\n",
      " [  7.62813551e-03   7.62813551e-03]\n",
      " [  2.47640974e-02   2.47640974e-02]\n",
      " [  5.97717617e-02   5.97717617e-02]\n",
      " [  9.14587966e-03   9.14587966e-03]\n",
      " [ -6.74798369e-03  -6.74798370e-03]\n",
      " [ -3.26881426e-02  -3.26881426e-02]\n",
      " [  3.86410548e-02   3.86410548e-02]\n",
      " [  5.46101547e-02   5.46101547e-02]\n",
      " [  3.14544970e-01   3.14544970e-01]\n",
      " [  1.18682669e-01   1.18682669e-01]\n",
      " [  2.03987128e-01   2.03987128e-01]\n",
      " [  1.25698067e-01   1.25698067e-01]\n",
      " [  1.76337550e-01   1.76337550e-01]\n",
      " [  1.32294136e-01   1.32294136e-01]\n",
      " [  1.11056588e-01   1.11056588e-01]\n",
      " [  3.81928689e-05   3.81928696e-05]\n",
      " [  1.17148233e-01   1.17148233e-01]\n",
      " [ -4.07588279e-03  -4.07588279e-03]\n",
      " [  1.13133142e-01   1.13133142e-01]\n",
      " [ -4.52964427e-03  -4.52964427e-03]\n",
      " [  9.74006970e-02   9.74006970e-02]\n",
      " [  3.36926556e-02   3.36926556e-02]\n",
      " [  7.54801264e-02   7.54801264e-02]\n",
      " [  1.69677090e-02   1.69677090e-02]\n",
      " [  8.61628953e-02   8.61628953e-02]\n",
      " [  1.50048382e-03   1.50048382e-03]]\n",
      "If your backpropagation implementation is correct, then\n",
      "the relative difference will be small (less than 1e-9)\n",
      "\n",
      "Relative difference : 2.1470736322668364e-11\n"
     ]
    }
   ],
   "source": [
    "#lambda = 3\n",
    "lambda_reg = 3\n",
    "checkNNGradients(lambda_reg)"
   ]
  },
  {
   "cell_type": "markdown",
   "metadata": {},
   "source": [
    "#### Gradient checking using SciPy's check_grad\n",
    "Check the correctness of a gradient function by comparing it against a (forward) finite-difference approximation of the gradient\n",
    "https://docs.scipy.org/doc/scipy/reference/generated/scipy.optimize.check_grad.html"
   ]
  },
  {
   "cell_type": "code",
   "execution_count": 29,
   "metadata": {
    "collapsed": true
   },
   "outputs": [],
   "source": [
    "def checkNNGradientsSciPy(lambda_reg = 0):\n",
    "    input_layer_size = 3\n",
    "    hidden_layer_size = 5\n",
    "    num_labels = 3\n",
    "    m = 5\n",
    "    \n",
    "    # Initialize weights (same procedure as in m code using sin)\n",
    "    def debugInitializeWeights(fan_out, fan_in):\n",
    "        return (np.sin(np.arange(1,fan_out*(fan_in + 1)+1))/10).reshape(fan_out, fan_in + 1, order = 'F')\n",
    "    \n",
    "    Theta1 = debugInitializeWeights(hidden_layer_size, input_layer_size)\n",
    "    Theta2 = debugInitializeWeights(num_labels, hidden_layer_size)\n",
    "    \n",
    "    X  = debugInitializeWeights(m, input_layer_size - 1)\n",
    "    y = (1 + np.mod(np.arange(1,m+1),num_labels)).reshape(m,1)\n",
    "    \n",
    "    # Unroll thetas\n",
    "    nn_params = np.r_[Theta1.ravel(),Theta2.ravel()]\n",
    "    \n",
    "    diff = check_grad(lambda theta: nnCostFunction(theta,input_layer_size,\n",
    "                                       hidden_layer_size,num_labels, X, y, lambda_reg),\n",
    "           lambda theta: nnGradFunction(theta,input_layer_size,\n",
    "                                       hidden_layer_size,num_labels, X, y, lambda_reg),\n",
    "           nn_params\n",
    "           )\n",
    "    \n",
    "    print(\"Relative difference : {}\".format(diff))\n",
    "    \n",
    "    return diff"
   ]
  },
  {
   "cell_type": "code",
   "execution_count": 30,
   "metadata": {
    "collapsed": false
   },
   "outputs": [
    {
     "name": "stdout",
     "output_type": "stream",
     "text": [
      "Relative difference : 1.7988051699156862e-07\n"
     ]
    }
   ],
   "source": [
    "diff = checkNNGradientsSciPy(3)"
   ]
  },
  {
   "cell_type": "markdown",
   "metadata": {},
   "source": [
    "### Part 8: Training NN"
   ]
  },
  {
   "cell_type": "code",
   "execution_count": 31,
   "metadata": {
    "collapsed": true
   },
   "outputs": [],
   "source": [
    "#You should also try different values of lambda\n",
    "lambda_reg = 1"
   ]
  },
  {
   "cell_type": "code",
   "execution_count": 32,
   "metadata": {
    "collapsed": false
   },
   "outputs": [
    {
     "name": "stdout",
     "output_type": "stream",
     "text": [
      "Warning: Maximum number of iterations has been exceeded.\n",
      "         Current function value: 0.318865\n",
      "         Iterations: 50\n",
      "         Function evaluations: 121\n",
      "         Gradient evaluations: 121\n"
     ]
    }
   ],
   "source": [
    "find_optimal_theta = minimize(fun=nnCostFunction, x0=initial_nn_params,\n",
    "method = 'CG', jac=nnGradFunction, args = (input_layer_size, hidden_layer_size,num_labels, X,y,lambda_reg), options={'maxiter':50, 'disp':True})"
   ]
  },
  {
   "cell_type": "code",
   "execution_count": 33,
   "metadata": {
    "collapsed": true
   },
   "outputs": [],
   "source": [
    "optimal_theta = find_optimal_theta.x"
   ]
  },
  {
   "cell_type": "code",
   "execution_count": 34,
   "metadata": {
    "collapsed": true
   },
   "outputs": [],
   "source": [
    "# Reshape unrolled nn_params to retrieve Theta1 and Theta2\n",
    "optimal_theta1 = optimal_theta[:(hidden_layer_size *(input_layer_size + 1))].reshape(hidden_layer_size, input_layer_size + 1)\n",
    "optimal_theta2 = optimal_theta[(hidden_layer_size *(input_layer_size + 1)):].reshape(num_labels, hidden_layer_size + 1)"
   ]
  },
  {
   "cell_type": "markdown",
   "metadata": {},
   "source": [
    "### Part 9: Visualize Weights\n",
    "You can now \"visualize\" what the neural network is learning by displaying the hidden units to see what features they are capturing in the data."
   ]
  },
  {
   "cell_type": "markdown",
   "metadata": {},
   "source": [
    "One way to understand what your neural network is learning is to visualize what the representations captured by the hidden units. \n",
    "Informally, given a particular hidden unit, one way to visualize what it computes is to find an input x that will cause it to activate (that is, to have an activation value ($a_{i}^l$ ) close to 1). \n",
    "For the neural network you trained, notice that the $i^{th}$ row of $\\Theta^{(1)}$ is a 401-dimensional vector that represents the parameter for the $i^{th}$ hidden unit. \n",
    "If we discard the bias term, we get a 400 dimensional vector that represents the weights from each input pixel to the hidden unit.\n",
    "\n",
    "Thus, one way to visualize the \\representation\" captured by the hidden unit is to reshape this 400 dimensional vector into a 20 x 20 image and display it."
   ]
  },
  {
   "cell_type": "code",
   "execution_count": 35,
   "metadata": {
    "collapsed": false
   },
   "outputs": [
    {
     "data": {
      "image/png": "[encoded data removed]",
      "text/plain": [
       "<matplotlib.figure.Figure at 0x11df48d0>"
      ]
     },
     "metadata": {},
     "output_type": "display_data"
    }
   ],
   "source": [
    "fig = displayData(optimal_theta1[:,1:])"
   ]
  },
  {
   "cell_type": "markdown",
   "metadata": {},
   "source": [
    "### Part 10: Implement Predict"
   ]
  },
  {
   "cell_type": "code",
   "execution_count": 36,
   "metadata": {
    "collapsed": true
   },
   "outputs": [],
   "source": [
    "def predict(Theta1, Theta2, X):\n",
    "    m = X.shape[0]\n",
    "    num_labels = Theta2.shape[0]\n",
    "    \n",
    "    X = np.c_[np.ones(m),X]\n",
    "    \n",
    "    # Forward propagate data\n",
    "    # Return (m x num_labels) matrix containing for each sample, the probability that it belongs to a given class\n",
    "    prob_matrix = sigmoid(np.c_[np.ones(m),sigmoid(X.dot(Theta1.T))].dot(Theta2.T))\n",
    "    \n",
    "    # Return m-vector, containing for each sample the class having the max probability\n",
    "    return np.argmax(prob_matrix,1) + 1 # array is indexed from 0 to nbclasses -1"
   ]
  },
  {
   "cell_type": "code",
   "execution_count": 37,
   "metadata": {
    "collapsed": true
   },
   "outputs": [],
   "source": [
    "pred = predict(optimal_theta1, optimal_theta2, X)"
   ]
  },
  {
   "cell_type": "code",
   "execution_count": 38,
   "metadata": {
    "collapsed": false
   },
   "outputs": [
    {
     "name": "stdout",
     "output_type": "stream",
     "text": [
      "Training set accuracy = 99.12 %\n"
     ]
    }
   ],
   "source": [
    "print(\"Training set accuracy = {:2.2f} %\".format(np.mean((pred.reshape(-1,1) == y).astype('int'))*100))"
   ]
  },
  {
   "cell_type": "markdown",
   "metadata": {},
   "source": [
    "### Implement Neural network learning using Keras "
   ]
  },
  {
   "cell_type": "markdown",
   "metadata": {},
   "source": [
    "#### Set random number generator seed (ensures that results can be reproduced)"
   ]
  },
  {
   "cell_type": "code",
   "execution_count": 39,
   "metadata": {
    "collapsed": true
   },
   "outputs": [],
   "source": [
    "seed = 5\n",
    "np.random.seed(seed)"
   ]
  },
  {
   "cell_type": "markdown",
   "metadata": {},
   "source": [
    "   #### Setup NN parameters"
   ]
  },
  {
   "cell_type": "code",
   "execution_count": 40,
   "metadata": {
    "collapsed": true
   },
   "outputs": [],
   "source": [
    "input_layer_size  = 400  # 20x20 Input Images of Digits\n",
    "hidden_layer_size = 50   # 25 hidden units\n",
    "num_labels = 10          # 10 labels, from 1 to 10"
   ]
  },
  {
   "cell_type": "markdown",
   "metadata": {},
   "source": [
    "#### Load training data"
   ]
  },
  {
   "cell_type": "code",
   "execution_count": 41,
   "metadata": {
    "collapsed": true
   },
   "outputs": [],
   "source": [
    "data = loadmat('ex4data1.mat')"
   ]
  },
  {
   "cell_type": "code",
   "execution_count": 42,
   "metadata": {
    "collapsed": true
   },
   "outputs": [],
   "source": [
    "X = data['X']\n",
    "y = data['y']\n",
    "y[y == 10] = 0"
   ]
  },
  {
   "cell_type": "code",
   "execution_count": 43,
   "metadata": {
    "collapsed": true
   },
   "outputs": [],
   "source": [
    "m = X.shape[0]"
   ]
  },
  {
   "cell_type": "markdown",
   "metadata": {},
   "source": [
    "#### Encode output variable (1:10 to array of 0s and 1s)"
   ]
  },
  {
   "cell_type": "code",
   "execution_count": 44,
   "metadata": {
    "collapsed": false
   },
   "outputs": [],
   "source": [
    "y_rec = np_utils.to_categorical(y, num_labels)"
   ]
  },
  {
   "cell_type": "markdown",
   "metadata": {},
   "source": [
    "#### Define model (NN architecture and activation functions)"
   ]
  },
  {
   "cell_type": "code",
   "execution_count": 45,
   "metadata": {
    "collapsed": false
   },
   "outputs": [],
   "source": [
    "# Define a sequential model (sequence of layers)\n",
    "model = Sequential()\n",
    "# Add first layer with input and output size (Dense = fully-connected)\n",
    "model.add(Dense(hidden_layer_size, input_dim=input_layer_size ,\n",
    "                activation='sigmoid',\n",
    "                kernel_regularizer=regularizers.l2(0),\n",
    "                kernel_initializer=initializers.RandomUniform(minval=-0.13, maxval=0.13),\n",
    "                bias_initializer=initializers.RandomUniform(minval=-0.13, maxval=0.13)\n",
    "               ))\n",
    "# Add second layer output size (no need to specify input size since fully-connected to previous one)\n",
    "# We use softmax activation which is a generalization of sigmoid for multiple classes\n",
    "# model.add(Dense(num_labels, activation='sigmoid',kernel_initializer=initializers.RandomUniform(minval=-0.13, maxval=0.13)))\n",
    "\n",
    "model.add(Dense(num_labels,\n",
    "                activation='softmax',\n",
    "                kernel_regularizer=regularizers.l2(0),\n",
    "                kernel_initializer=initializers.RandomUniform(minval=-0.13, maxval=0.13),\n",
    "                bias_initializer=initializers.RandomUniform(minval=-0.13, maxval=0.13)\n",
    "               ))\n"
   ]
  },
  {
   "cell_type": "markdown",
   "metadata": {},
   "source": [
    "#### Compile model (to use with tensorflow)\n",
    "We define here the cost/loss function as well as the optimization method (adam is the default)"
   ]
  },
  {
   "cell_type": "code",
   "execution_count": 46,
   "metadata": {
    "collapsed": true
   },
   "outputs": [],
   "source": [
    "model.compile(loss='categorical_crossentropy', optimizer='adam', metrics=['accuracy'])"
   ]
  },
  {
   "cell_type": "markdown",
   "metadata": {},
   "source": [
    "#### Learning"
   ]
  },
  {
   "cell_type": "code",
   "execution_count": 50,
   "metadata": {
    "collapsed": false
   },
   "outputs": [
    {
     "name": "stdout",
     "output_type": "stream",
     "text": [
      "Epoch 1/100\n",
      "5000/5000 [==============================] - 0s - loss: 1.3221 - acc: 0.7912\n",
      "Epoch 2/100\n",
      "5000/5000 [==============================] - 0s - loss: 1.3124 - acc: 0.7930\n",
      "Epoch 3/100\n",
      "5000/5000 [==============================] - 0s - loss: 1.3027 - acc: 0.7932\n",
      "Epoch 4/100\n",
      "5000/5000 [==============================] - 0s - loss: 1.2931 - acc: 0.7942\n",
      "Epoch 5/100\n",
      "5000/5000 [==============================] - 0s - loss: 1.2836 - acc: 0.7962\n",
      "Epoch 6/100\n",
      "5000/5000 [==============================] - 0s - loss: 1.2741 - acc: 0.7976\n",
      "Epoch 7/100\n",
      "5000/5000 [==============================] - 0s - loss: 1.2647 - acc: 0.7992\n",
      "Epoch 8/100\n",
      "5000/5000 [==============================] - 0s - loss: 1.2554 - acc: 0.8012\n",
      "Epoch 9/100\n",
      "5000/5000 [==============================] - 0s - loss: 1.2462 - acc: 0.8024\n",
      "Epoch 10/100\n",
      "5000/5000 [==============================] - 0s - loss: 1.2370 - acc: 0.8034\n",
      "Epoch 11/100\n",
      "5000/5000 [==============================] - 0s - loss: 1.2279 - acc: 0.8046\n",
      "Epoch 12/100\n",
      "5000/5000 [==============================] - 0s - loss: 1.2188 - acc: 0.8056\n",
      "Epoch 13/100\n",
      "5000/5000 [==============================] - 0s - loss: 1.2099 - acc: 0.8068\n",
      "Epoch 14/100\n",
      "5000/5000 [==============================] - 0s - loss: 1.2010 - acc: 0.8072\n",
      "Epoch 15/100\n",
      "5000/5000 [==============================] - 0s - loss: 1.1922 - acc: 0.8072\n",
      "Epoch 16/100\n",
      "5000/5000 [==============================] - 0s - loss: 1.1835 - acc: 0.8088\n",
      "Epoch 17/100\n",
      "5000/5000 [==============================] - 0s - loss: 1.1748 - acc: 0.8116\n",
      "Epoch 18/100\n",
      "5000/5000 [==============================] - 0s - loss: 1.1663 - acc: 0.8128\n",
      "Epoch 19/100\n",
      "5000/5000 [==============================] - 0s - loss: 1.1578 - acc: 0.8140\n",
      "Epoch 20/100\n",
      "5000/5000 [==============================] - 0s - loss: 1.1494 - acc: 0.8142\n",
      "Epoch 21/100\n",
      "5000/5000 [==============================] - 0s - loss: 1.1410 - acc: 0.8154\n",
      "Epoch 22/100\n",
      "5000/5000 [==============================] - 0s - loss: 1.1327 - acc: 0.8158\n",
      "Epoch 23/100\n",
      "5000/5000 [==============================] - 0s - loss: 1.1245 - acc: 0.8166\n",
      "Epoch 24/100\n",
      "5000/5000 [==============================] - 0s - loss: 1.1164 - acc: 0.8174\n",
      "Epoch 25/100\n",
      "5000/5000 [==============================] - 0s - loss: 1.1084 - acc: 0.8186\n",
      "Epoch 26/100\n",
      "5000/5000 [==============================] - 0s - loss: 1.1004 - acc: 0.8192\n",
      "Epoch 27/100\n",
      "5000/5000 [==============================] - 0s - loss: 1.0925 - acc: 0.8202\n",
      "Epoch 28/100\n",
      "5000/5000 [==============================] - 0s - loss: 1.0847 - acc: 0.8214\n",
      "Epoch 29/100\n",
      "5000/5000 [==============================] - 0s - loss: 1.0770 - acc: 0.8222\n",
      "Epoch 30/100\n",
      "5000/5000 [==============================] - 0s - loss: 1.0693 - acc: 0.8232\n",
      "Epoch 31/100\n",
      "5000/5000 [==============================] - 0s - loss: 1.0617 - acc: 0.8234\n",
      "Epoch 32/100\n",
      "5000/5000 [==============================] - 0s - loss: 1.0542 - acc: 0.8244\n",
      "Epoch 33/100\n",
      "5000/5000 [==============================] - 0s - loss: 1.0467 - acc: 0.8250\n",
      "Epoch 34/100\n",
      "5000/5000 [==============================] - 0s - loss: 1.0393 - acc: 0.8260\n",
      "Epoch 35/100\n",
      "5000/5000 [==============================] - 0s - loss: 1.0320 - acc: 0.8262\n",
      "Epoch 36/100\n",
      "5000/5000 [==============================] - 0s - loss: 1.0248 - acc: 0.8270\n",
      "Epoch 37/100\n",
      "5000/5000 [==============================] - 0s - loss: 1.0176 - acc: 0.8286\n",
      "Epoch 38/100\n",
      "5000/5000 [==============================] - 0s - loss: 1.0106 - acc: 0.8308\n",
      "Epoch 39/100\n",
      "5000/5000 [==============================] - 0s - loss: 1.0035 - acc: 0.8320\n",
      "Epoch 40/100\n",
      "5000/5000 [==============================] - 0s - loss: 0.9966 - acc: 0.8328\n",
      "Epoch 41/100\n",
      "5000/5000 [==============================] - 0s - loss: 0.9897 - acc: 0.8338\n",
      "Epoch 42/100\n",
      "5000/5000 [==============================] - 0s - loss: 0.9829 - acc: 0.8344\n",
      "Epoch 43/100\n",
      "5000/5000 [==============================] - 0s - loss: 0.9762 - acc: 0.8344\n",
      "Epoch 44/100\n",
      "5000/5000 [==============================] - 0s - loss: 0.9695 - acc: 0.8344\n",
      "Epoch 45/100\n",
      "5000/5000 [==============================] - 0s - loss: 0.9629 - acc: 0.8348\n",
      "Epoch 46/100\n",
      "5000/5000 [==============================] - 0s - loss: 0.9564 - acc: 0.8356\n",
      "Epoch 47/100\n",
      "5000/5000 [==============================] - 0s - loss: 0.9500 - acc: 0.8366\n",
      "Epoch 48/100\n",
      "5000/5000 [==============================] - 0s - loss: 0.9436 - acc: 0.8378\n",
      "Epoch 49/100\n",
      "5000/5000 [==============================] - 0s - loss: 0.9372 - acc: 0.8380\n",
      "Epoch 50/100\n",
      "5000/5000 [==============================] - 0s - loss: 0.9310 - acc: 0.8386\n",
      "Epoch 51/100\n",
      "5000/5000 [==============================] - 0s - loss: 0.9248 - acc: 0.8388\n",
      "Epoch 52/100\n",
      "5000/5000 [==============================] - 0s - loss: 0.9187 - acc: 0.8390\n",
      "Epoch 53/100\n",
      "5000/5000 [==============================] - 0s - loss: 0.9126 - acc: 0.8400\n",
      "Epoch 54/100\n",
      "5000/5000 [==============================] - 0s - loss: 0.9066 - acc: 0.8406\n",
      "Epoch 55/100\n",
      "5000/5000 [==============================] - 0s - loss: 0.9007 - acc: 0.8410\n",
      "Epoch 56/100\n",
      "5000/5000 [==============================] - 0s - loss: 0.8948 - acc: 0.8426\n",
      "Epoch 57/100\n",
      "5000/5000 [==============================] - 0s - loss: 0.8890 - acc: 0.8432\n",
      "Epoch 58/100\n",
      "5000/5000 [==============================] - 0s - loss: 0.8833 - acc: 0.8446\n",
      "Epoch 59/100\n",
      "5000/5000 [==============================] - 0s - loss: 0.8776 - acc: 0.8452\n",
      "Epoch 60/100\n",
      "5000/5000 [==============================] - 0s - loss: 0.8720 - acc: 0.8462\n",
      "Epoch 61/100\n",
      "5000/5000 [==============================] - 0s - loss: 0.8664 - acc: 0.8468\n",
      "Epoch 62/100\n",
      "5000/5000 [==============================] - 0s - loss: 0.8609 - acc: 0.8474\n",
      "Epoch 63/100\n",
      "5000/5000 [==============================] - 0s - loss: 0.8555 - acc: 0.8486\n",
      "Epoch 64/100\n",
      "5000/5000 [==============================] - 0s - loss: 0.8501 - acc: 0.8492\n",
      "Epoch 65/100\n",
      "5000/5000 [==============================] - 0s - loss: 0.8448 - acc: 0.8502\n",
      "Epoch 66/100\n",
      "5000/5000 [==============================] - 0s - loss: 0.8396 - acc: 0.8506\n",
      "Epoch 67/100\n",
      "5000/5000 [==============================] - 0s - loss: 0.8344 - acc: 0.8506\n",
      "Epoch 68/100\n",
      "5000/5000 [==============================] - 0s - loss: 0.8292 - acc: 0.8518\n",
      "Epoch 69/100\n",
      "5000/5000 [==============================] - 0s - loss: 0.8241 - acc: 0.8522\n",
      "Epoch 70/100\n",
      "5000/5000 [==============================] - 0s - loss: 0.8191 - acc: 0.8526\n",
      "Epoch 71/100\n",
      "5000/5000 [==============================] - 0s - loss: 0.8141 - acc: 0.8532\n",
      "Epoch 72/100\n",
      "5000/5000 [==============================] - 0s - loss: 0.8092 - acc: 0.8542\n",
      "Epoch 73/100\n",
      "5000/5000 [==============================] - 0s - loss: 0.8043 - acc: 0.8552\n",
      "Epoch 74/100\n",
      "5000/5000 [==============================] - 0s - loss: 0.7995 - acc: 0.8556\n",
      "Epoch 75/100\n",
      "5000/5000 [==============================] - 0s - loss: 0.7947 - acc: 0.8572\n",
      "Epoch 76/100\n",
      "5000/5000 [==============================] - 0s - loss: 0.7900 - acc: 0.8580\n",
      "Epoch 77/100\n",
      "5000/5000 [==============================] - 0s - loss: 0.7854 - acc: 0.8586\n",
      "Epoch 78/100\n",
      "5000/5000 [==============================] - 0s - loss: 0.7808 - acc: 0.8594\n",
      "Epoch 79/100\n",
      "5000/5000 [==============================] - 0s - loss: 0.7762 - acc: 0.8598\n",
      "Epoch 80/100\n",
      "5000/5000 [==============================] - 0s - loss: 0.7717 - acc: 0.8604\n",
      "Epoch 81/100\n",
      "5000/5000 [==============================] - 0s - loss: 0.7672 - acc: 0.8614\n",
      "Epoch 82/100\n",
      "5000/5000 [==============================] - 0s - loss: 0.7628 - acc: 0.8620\n",
      "Epoch 83/100\n",
      "5000/5000 [==============================] - 0s - loss: 0.7585 - acc: 0.8630\n",
      "Epoch 84/100\n",
      "5000/5000 [==============================] - 0s - loss: 0.7541 - acc: 0.8632\n",
      "Epoch 85/100\n",
      "5000/5000 [==============================] - 0s - loss: 0.7499 - acc: 0.8634\n",
      "Epoch 86/100\n",
      "5000/5000 [==============================] - 0s - loss: 0.7456 - acc: 0.8642\n",
      "Epoch 87/100\n",
      "5000/5000 [==============================] - 0s - loss: 0.7415 - acc: 0.8650\n",
      "Epoch 88/100\n",
      "5000/5000 [==============================] - 0s - loss: 0.7373 - acc: 0.8656\n",
      "Epoch 89/100\n",
      "5000/5000 [==============================] - 0s - loss: 0.7332 - acc: 0.8654\n",
      "Epoch 90/100\n",
      "5000/5000 [==============================] - 0s - loss: 0.7292 - acc: 0.8662\n",
      "Epoch 91/100\n",
      "5000/5000 [==============================] - 0s - loss: 0.7252 - acc: 0.8672\n",
      "Epoch 92/100\n",
      "5000/5000 [==============================] - 0s - loss: 0.7212 - acc: 0.8674\n",
      "Epoch 93/100\n",
      "5000/5000 [==============================] - 0s - loss: 0.7173 - acc: 0.8676\n",
      "Epoch 94/100\n",
      "5000/5000 [==============================] - 0s - loss: 0.7134 - acc: 0.8682\n",
      "Epoch 95/100\n",
      "5000/5000 [==============================] - 0s - loss: 0.7096 - acc: 0.8686\n",
      "Epoch 96/100\n",
      "5000/5000 [==============================] - 0s - loss: 0.7058 - acc: 0.8686\n",
      "Epoch 97/100\n",
      "5000/5000 [==============================] - 0s - loss: 0.7021 - acc: 0.8684\n",
      "Epoch 98/100\n",
      "5000/5000 [==============================] - 0s - loss: 0.6984 - acc: 0.8696\n",
      "Epoch 99/100\n",
      "5000/5000 [==============================] - 0s - loss: 0.6947 - acc: 0.8706\n",
      "Epoch 100/100\n",
      "5000/5000 [==============================] - 0s - loss: 0.6910 - acc: 0.8712\n"
     ]
    },
    {
     "data": {
      "text/plain": [
       "<keras.callbacks.History at 0x103ccfd0>"
      ]
     },
     "execution_count": 50,
     "metadata": {},
     "output_type": "execute_result"
    }
   ],
   "source": [
    "model.fit(X, y_rec, epochs=100, batch_size=m, verbose = 1 )"
   ]
  },
  {
   "cell_type": "code",
   "execution_count": 51,
   "metadata": {
    "collapsed": false
   },
   "outputs": [],
   "source": [
    "score = model.evaluate(X,y_rec,verbose = 0)"
   ]
  },
  {
   "cell_type": "code",
   "execution_count": 52,
   "metadata": {
    "collapsed": false
   },
   "outputs": [
    {
     "name": "stdout",
     "output_type": "stream",
     "text": [
      "Training set accuracy = 87.16 %\n"
     ]
    }
   ],
   "source": [
    "print(\"Training set accuracy = {:2.2f} %\".format(score[1]*100))"
   ]
  }
 ],
 "metadata": {
  "kernelspec": {
   "display_name": "Python 3",
   "language": "python",
   "name": "python3"
  },
  "language_info": {
   "codemirror_mode": {
    "name": "ipython",
    "version": 3
   },
   "file_extension": ".py",
   "mimetype": "text/x-python",
   "name": "python",
   "nbconvert_exporter": "python",
   "pygments_lexer": "ipython3",
   "version": "3.6.0"
  }
 },
 "nbformat": 4,
 "nbformat_minor": 2
}
