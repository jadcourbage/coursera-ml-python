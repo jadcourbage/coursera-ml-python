{
 "cells": [
  {
   "cell_type": "markdown",
   "metadata": {},
   "source": [
    "## Machine Learning Online Class \n",
    "##  Exercise 7 Part 1 | K-Means Clustering\n",
    "Requires : scipy, scikit-learn"
   ]
  },
  {
   "cell_type": "markdown",
   "metadata": {},
   "source": [
    "### Introduction"
   ]
  },
  {
   "cell_type": "markdown",
   "metadata": {},
   "source": [
    "In this exercise, we will implement the K-means clustering algorithm and apply it to compress an image."
   ]
  },
  {
   "cell_type": "markdown",
   "metadata": {},
   "source": [
    "### Python Imports"
   ]
  },
  {
   "cell_type": "code",
   "execution_count": 1,
   "metadata": {
    "collapsed": true
   },
   "outputs": [],
   "source": [
    "import time\n",
    "\n",
    "import warnings\n",
    "warnings.filterwarnings('ignore')\n",
    "\n",
    "import numpy as np\n",
    "import matplotlib.pyplot as plt\n",
    "from scipy.io import loadmat\n",
    "from scipy.ndimage import imread\n",
    "from sklearn.cluster import KMeans\n",
    "from sklearn.metrics import accuracy_score\n",
    "from sklearn.metrics import pairwise_distances_argmin_min\n",
    "\n",
    "%matplotlib inline"
   ]
  },
  {
   "cell_type": "markdown",
   "metadata": {},
   "source": [
    "### K-means algorithm\n",
    "\n",
    "The $K$-means algorithm is a method to automatically cluster similar data examples together.<br>\n",
    "\n",
    "Concretely, you are given a training set $\\{ x^{(1)}, \\dotsc, x^{(m)} \\}$ where $ x^{(i)} \\in \\mathbb{R}^n$, and want to group the data into a few cohesive \"clusters\".<br><br>\n",
    "The intuition behind K-means is an iterative procedure that starts by guessing the initial centroids, and then refines this guess by repeatedly assigning examples to their closest centroids and then recomputing the centroids based on the assignments."
   ]
  },
  {
   "cell_type": "markdown",
   "metadata": {},
   "source": [
    "To help implement K-Means, we have divided the learning algorithm into two functions : findClosestCentroids and computeCentroids."
   ]
  },
  {
   "cell_type": "markdown",
   "metadata": {},
   "source": [
    "### Part 1: Find Closest Centroids"
   ]
  },
  {
   "cell_type": "code",
   "execution_count": 2,
   "metadata": {
    "collapsed": false
   },
   "outputs": [],
   "source": [
    "# Load an example dataset\n",
    "data = loadmat('ex7data2.mat')\n",
    "X = data['X']"
   ]
  },
  {
   "cell_type": "code",
   "execution_count": 3,
   "metadata": {
    "collapsed": false
   },
   "outputs": [],
   "source": [
    "# Select an initial set of centroid\n",
    "K = 3 # 3 centroids\n",
    "initial_centroids = np.array([[3,3],[6,2],[8,5]])"
   ]
  },
  {
   "cell_type": "code",
   "execution_count": 4,
   "metadata": {
    "collapsed": true
   },
   "outputs": [],
   "source": [
    "def findClosestCentroids(X, centroids):\n",
    "    # vectorized way using broadcasting\n",
    "    return np.argmin(np.sum((X[None,:,:]-centroids[:,None,:])**2,axis=-1), axis=0)            "
   ]
  },
  {
   "cell_type": "code",
   "execution_count": 5,
   "metadata": {
    "collapsed": false
   },
   "outputs": [],
   "source": [
    "idx = findClosestCentroids(X, initial_centroids)"
   ]
  },
  {
   "cell_type": "code",
   "execution_count": 6,
   "metadata": {
    "collapsed": false
   },
   "outputs": [
    {
     "name": "stdout",
     "output_type": "stream",
     "text": [
      "Closest centroids for the first 3 examples :\n",
      "[0 2 1]\n"
     ]
    }
   ],
   "source": [
    "print('Closest centroids for the first 3 examples :')\n",
    "print(idx[0:3])"
   ]
  },
  {
   "cell_type": "markdown",
   "metadata": {},
   "source": [
    "### Part 2: Compute Means"
   ]
  },
  {
   "cell_type": "code",
   "execution_count": 7,
   "metadata": {
    "collapsed": false
   },
   "outputs": [],
   "source": [
    "def computeCentroids(X, idx, K):\n",
    "    \n",
    "    centroids = np.zeros((K,X.shape[1]))\n",
    "    \n",
    "    for i in range(K):\n",
    "        centroids[i,:] = np.mean(X[idx == i], axis = 0)\n",
    "    \n",
    "    return centroids    "
   ]
  },
  {
   "cell_type": "code",
   "execution_count": 8,
   "metadata": {
    "collapsed": false
   },
   "outputs": [],
   "source": [
    "centroids = computeCentroids(X, idx, K)"
   ]
  },
  {
   "cell_type": "code",
   "execution_count": 9,
   "metadata": {
    "collapsed": false
   },
   "outputs": [
    {
     "name": "stdout",
     "output_type": "stream",
     "text": [
      "Centroids computed after initial finding of closest centroids :\n",
      "[[ 2.42830111  3.15792418]\n",
      " [ 5.81350331  2.63365645]\n",
      " [ 7.11938687  3.6166844 ]]\n",
      "\n",
      "The centroids should be :\n",
      "   [ 2.428301 3.157924 ]\n",
      "   [ 5.813503 2.633656 ]\n",
      "   [ 7.119387 3.616684 ]\n"
     ]
    }
   ],
   "source": [
    "print('Centroids computed after initial finding of closest centroids :')\n",
    "print(centroids)\n",
    "print('\\nThe centroids should be :')\n",
    "print('   [ 2.428301 3.157924 ]')\n",
    "print('   [ 5.813503 2.633656 ]')\n",
    "print('   [ 7.119387 3.616684 ]')"
   ]
  },
  {
   "cell_type": "markdown",
   "metadata": {},
   "source": [
    "### Part 3: K-Means Clustering"
   ]
  },
  {
   "cell_type": "code",
   "execution_count": 10,
   "metadata": {
    "collapsed": true
   },
   "outputs": [],
   "source": [
    "def runKmeans(X, initial_centroids, max_iters):\n",
    "    \n",
    "    # Notebook backend required for animation\n",
    "    %matplotlib notebook\n",
    "    \n",
    "    K = initial_centroids.shape[0]    \n",
    "    centroids = initial_centroids\n",
    "    \n",
    "    fig = plt.figure(figsize=(8,6))\n",
    "    plt.ion() #Interactive mode on\n",
    "    fig.show()\n",
    "    fig.canvas.draw()\n",
    "    \n",
    "    for i in range(max_iters):\n",
    "        plt.clf()\n",
    "        idx = findClosestCentroids(X, centroids)\n",
    "        centroids = computeCentroids(X, idx, K)\n",
    "        sub = fig.add_subplot(111)\n",
    "        sub.set_title(\"Iteration : {:d}\".format(i+1))\n",
    "\n",
    "        sub.plot(X[:,0][idx==0],X[:,1][idx==0],'ro')\n",
    "        sub.plot(centroids[0,0], centroids[0,1],'rx', ms = 15)\n",
    "        sub.plot(X[:,0][idx==1],X[:,1][idx==1],'go')\n",
    "        sub.plot(centroids[1,0], centroids[1,1],'gx', ms = 15)\n",
    "        sub.plot(X[:,0][idx==2],X[:,1][idx==2],'bo')\n",
    "        sub.plot(centroids[2,0], centroids[2,1],'bx', ms = 15)\n",
    "        \n",
    "        fig.canvas.draw()\n",
    "        time.sleep(2)\n",
    "    \n",
    "    % matplotlib inline\n",
    "    return idx"
   ]
  },
  {
   "cell_type": "code",
   "execution_count": 11,
   "metadata": {
    "collapsed": false
   },
   "outputs": [
    {
     "data": {
      "application/javascript": [
       "/* Put everything inside the global mpl namespace */\n",
       "window.mpl = {};\n",
       "\n",
       "\n",
       "mpl.get_websocket_type = function() {\n",
       "    if (typeof(WebSocket) !== 'undefined') {\n",
       "        return WebSocket;\n",
       "    } else if (typeof(MozWebSocket) !== 'undefined') {\n",
       "        return MozWebSocket;\n",
       "    } else {\n",
       "        alert('Your browser does not have WebSocket support.' +\n",
       "              'Please try Chrome, Safari or Firefox ≥ 6. ' +\n",
       "              'Firefox 4 and 5 are also supported but you ' +\n",
       "              'have to enable WebSockets in about:config.');\n",
       "    };\n",
       "}\n",
       "\n",
       "mpl.figure = function(figure_id, websocket, ondownload, parent_element) {\n",
       "    this.id = figure_id;\n",
       "\n",
       "    this.ws = websocket;\n",
       "\n",
       "    this.supports_binary = (this.ws.binaryType != undefined);\n",
       "\n",
       "    if (!this.supports_binary) {\n",
       "        var warnings = document.getElementById(\"mpl-warnings\");\n",
       "        if (warnings) {\n",
       "            warnings.style.display = 'block';\n",
       "            warnings.textContent = (\n",
       "                \"This browser does not support binary websocket messages. \" +\n",
       "                    \"Performance may be slow.\");\n",
       "        }\n",
       "    }\n",
       "\n",
       "    this.imageObj = new Image();\n",
       "\n",
       "    this.context = undefined;\n",
       "    this.message = undefined;\n",
       "    this.canvas = undefined;\n",
       "    this.rubberband_canvas = undefined;\n",
       "    this.rubberband_context = undefined;\n",
       "    this.format_dropdown = undefined;\n",
       "\n",
       "    this.image_mode = 'full';\n",
       "\n",
       "    this.root = $('<div/>');\n",
       "    this._root_extra_style(this.root)\n",
       "    this.root.attr('style', 'display: inline-block');\n",
       "\n",
       "    $(parent_element).append(this.root);\n",
       "\n",
       "    this._init_header(this);\n",
       "    this._init_canvas(this);\n",
       "    this._init_toolbar(this);\n",
       "\n",
       "    var fig = this;\n",
       "\n",
       "    this.waiting = false;\n",
       "\n",
       "    this.ws.onopen =  function () {\n",
       "            fig.send_message(\"supports_binary\", {value: fig.supports_binary});\n",
       "            fig.send_message(\"send_image_mode\", {});\n",
       "            if (mpl.ratio != 1) {\n",
       "                fig.send_message(\"set_dpi_ratio\", {'dpi_ratio': mpl.ratio});\n",
       "            }\n",
       "            fig.send_message(\"refresh\", {});\n",
       "        }\n",
       "\n",
       "    this.imageObj.onload = function() {\n",
       "            if (fig.image_mode == 'full') {\n",
       "                // Full images could contain transparency (where diff images\n",
       "                // almost always do), so we need to clear the canvas so that\n",
       "                // there is no ghosting.\n",
       "                fig.context.clearRect(0, 0, fig.canvas.width, fig.canvas.height);\n",
       "            }\n",
       "            fig.context.drawImage(fig.imageObj, 0, 0);\n",
       "        };\n",
       "\n",
       "    this.imageObj.onunload = function() {\n",
       "        this.ws.close();\n",
       "    }\n",
       "\n",
       "    this.ws.onmessage = this._make_on_message_function(this);\n",
       "\n",
       "    this.ondownload = ondownload;\n",
       "}\n",
       "\n",
       "mpl.figure.prototype._init_header = function() {\n",
       "    var titlebar = $(\n",
       "        '<div class=\"ui-dialog-titlebar ui-widget-header ui-corner-all ' +\n",
       "        'ui-helper-clearfix\"/>');\n",
       "    var titletext = $(\n",
       "        '<div class=\"ui-dialog-title\" style=\"width: 100%; ' +\n",
       "        'text-align: center; padding: 3px;\"/>');\n",
       "    titlebar.append(titletext)\n",
       "    this.root.append(titlebar);\n",
       "    this.header = titletext[0];\n",
       "}\n",
       "\n",
       "\n",
       "\n",
       "mpl.figure.prototype._canvas_extra_style = function(canvas_div) {\n",
       "\n",
       "}\n",
       "\n",
       "\n",
       "mpl.figure.prototype._root_extra_style = function(canvas_div) {\n",
       "\n",
       "}\n",
       "\n",
       "mpl.figure.prototype._init_canvas = function() {\n",
       "    var fig = this;\n",
       "\n",
       "    var canvas_div = $('<div/>');\n",
       "\n",
       "    canvas_div.attr('style', 'position: relative; clear: both; outline: 0');\n",
       "\n",
       "    function canvas_keyboard_event(event) {\n",
       "        return fig.key_event(event, event['data']);\n",
       "    }\n",
       "\n",
       "    canvas_div.keydown('key_press', canvas_keyboard_event);\n",
       "    canvas_div.keyup('key_release', canvas_keyboard_event);\n",
       "    this.canvas_div = canvas_div\n",
       "    this._canvas_extra_style(canvas_div)\n",
       "    this.root.append(canvas_div);\n",
       "\n",
       "    var canvas = $('<canvas/>');\n",
       "    canvas.addClass('mpl-canvas');\n",
       "    canvas.attr('style', \"left: 0; top: 0; z-index: 0; outline: 0\")\n",
       "\n",
       "    this.canvas = canvas[0];\n",
       "    this.context = canvas[0].getContext(\"2d\");\n",
       "\n",
       "    var backingStore = this.context.backingStorePixelRatio ||\n",
       "\tthis.context.webkitBackingStorePixelRatio ||\n",
       "\tthis.context.mozBackingStorePixelRatio ||\n",
       "\tthis.context.msBackingStorePixelRatio ||\n",
       "\tthis.context.oBackingStorePixelRatio ||\n",
       "\tthis.context.backingStorePixelRatio || 1;\n",
       "\n",
       "    mpl.ratio = (window.devicePixelRatio || 1) / backingStore;\n",
       "\n",
       "    var rubberband = $('<canvas/>');\n",
       "    rubberband.attr('style', \"position: absolute; left: 0; top: 0; z-index: 1;\")\n",
       "\n",
       "    var pass_mouse_events = true;\n",
       "\n",
       "    canvas_div.resizable({\n",
       "        start: function(event, ui) {\n",
       "            pass_mouse_events = false;\n",
       "        },\n",
       "        resize: function(event, ui) {\n",
       "            fig.request_resize(ui.size.width, ui.size.height);\n",
       "        },\n",
       "        stop: function(event, ui) {\n",
       "            pass_mouse_events = true;\n",
       "            fig.request_resize(ui.size.width, ui.size.height);\n",
       "        },\n",
       "    });\n",
       "\n",
       "    function mouse_event_fn(event) {\n",
       "        if (pass_mouse_events)\n",
       "            return fig.mouse_event(event, event['data']);\n",
       "    }\n",
       "\n",
       "    rubberband.mousedown('button_press', mouse_event_fn);\n",
       "    rubberband.mouseup('button_release', mouse_event_fn);\n",
       "    // Throttle sequential mouse events to 1 every 20ms.\n",
       "    rubberband.mousemove('motion_notify', mouse_event_fn);\n",
       "\n",
       "    rubberband.mouseenter('figure_enter', mouse_event_fn);\n",
       "    rubberband.mouseleave('figure_leave', mouse_event_fn);\n",
       "\n",
       "    canvas_div.on(\"wheel\", function (event) {\n",
       "        event = event.originalEvent;\n",
       "        event['data'] = 'scroll'\n",
       "        if (event.deltaY < 0) {\n",
       "            event.step = 1;\n",
       "        } else {\n",
       "            event.step = -1;\n",
       "        }\n",
       "        mouse_event_fn(event);\n",
       "    });\n",
       "\n",
       "    canvas_div.append(canvas);\n",
       "    canvas_div.append(rubberband);\n",
       "\n",
       "    this.rubberband = rubberband;\n",
       "    this.rubberband_canvas = rubberband[0];\n",
       "    this.rubberband_context = rubberband[0].getContext(\"2d\");\n",
       "    this.rubberband_context.strokeStyle = \"#000000\";\n",
       "\n",
       "    this._resize_canvas = function(width, height) {\n",
       "        // Keep the size of the canvas, canvas container, and rubber band\n",
       "        // canvas in synch.\n",
       "        canvas_div.css('width', width)\n",
       "        canvas_div.css('height', height)\n",
       "\n",
       "        canvas.attr('width', width * mpl.ratio);\n",
       "        canvas.attr('height', height * mpl.ratio);\n",
       "        canvas.attr('style', 'width: ' + width + 'px; height: ' + height + 'px;');\n",
       "\n",
       "        rubberband.attr('width', width);\n",
       "        rubberband.attr('height', height);\n",
       "    }\n",
       "\n",
       "    // Set the figure to an initial 600x600px, this will subsequently be updated\n",
       "    // upon first draw.\n",
       "    this._resize_canvas(600, 600);\n",
       "\n",
       "    // Disable right mouse context menu.\n",
       "    $(this.rubberband_canvas).bind(\"contextmenu\",function(e){\n",
       "        return false;\n",
       "    });\n",
       "\n",
       "    function set_focus () {\n",
       "        canvas.focus();\n",
       "        canvas_div.focus();\n",
       "    }\n",
       "\n",
       "    window.setTimeout(set_focus, 100);\n",
       "}\n",
       "\n",
       "mpl.figure.prototype._init_toolbar = function() {\n",
       "    var fig = this;\n",
       "\n",
       "    var nav_element = $('<div/>')\n",
       "    nav_element.attr('style', 'width: 100%');\n",
       "    this.root.append(nav_element);\n",
       "\n",
       "    // Define a callback function for later on.\n",
       "    function toolbar_event(event) {\n",
       "        return fig.toolbar_button_onclick(event['data']);\n",
       "    }\n",
       "    function toolbar_mouse_event(event) {\n",
       "        return fig.toolbar_button_onmouseover(event['data']);\n",
       "    }\n",
       "\n",
       "    for(var toolbar_ind in mpl.toolbar_items) {\n",
       "        var name = mpl.toolbar_items[toolbar_ind][0];\n",
       "        var tooltip = mpl.toolbar_items[toolbar_ind][1];\n",
       "        var image = mpl.toolbar_items[toolbar_ind][2];\n",
       "        var method_name = mpl.toolbar_items[toolbar_ind][3];\n",
       "\n",
       "        if (!name) {\n",
       "            // put a spacer in here.\n",
       "            continue;\n",
       "        }\n",
       "        var button = $('<button/>');\n",
       "        button.addClass('ui-button ui-widget ui-state-default ui-corner-all ' +\n",
       "                        'ui-button-icon-only');\n",
       "        button.attr('role', 'button');\n",
       "        button.attr('aria-disabled', 'false');\n",
       "        button.click(method_name, toolbar_event);\n",
       "        button.mouseover(tooltip, toolbar_mouse_event);\n",
       "\n",
       "        var icon_img = $('<span/>');\n",
       "        icon_img.addClass('ui-button-icon-primary ui-icon');\n",
       "        icon_img.addClass(image);\n",
       "        icon_img.addClass('ui-corner-all');\n",
       "\n",
       "        var tooltip_span = $('<span/>');\n",
       "        tooltip_span.addClass('ui-button-text');\n",
       "        tooltip_span.html(tooltip);\n",
       "\n",
       "        button.append(icon_img);\n",
       "        button.append(tooltip_span);\n",
       "\n",
       "        nav_element.append(button);\n",
       "    }\n",
       "\n",
       "    var fmt_picker_span = $('<span/>');\n",
       "\n",
       "    var fmt_picker = $('<select/>');\n",
       "    fmt_picker.addClass('mpl-toolbar-option ui-widget ui-widget-content');\n",
       "    fmt_picker_span.append(fmt_picker);\n",
       "    nav_element.append(fmt_picker_span);\n",
       "    this.format_dropdown = fmt_picker[0];\n",
       "\n",
       "    for (var ind in mpl.extensions) {\n",
       "        var fmt = mpl.extensions[ind];\n",
       "        var option = $(\n",
       "            '<option/>', {selected: fmt === mpl.default_extension}).html(fmt);\n",
       "        fmt_picker.append(option)\n",
       "    }\n",
       "\n",
       "    // Add hover states to the ui-buttons\n",
       "    $( \".ui-button\" ).hover(\n",
       "        function() { $(this).addClass(\"ui-state-hover\");},\n",
       "        function() { $(this).removeClass(\"ui-state-hover\");}\n",
       "    );\n",
       "\n",
       "    var status_bar = $('<span class=\"mpl-message\"/>');\n",
       "    nav_element.append(status_bar);\n",
       "    this.message = status_bar[0];\n",
       "}\n",
       "\n",
       "mpl.figure.prototype.request_resize = function(x_pixels, y_pixels) {\n",
       "    // Request matplotlib to resize the figure. Matplotlib will then trigger a resize in the client,\n",
       "    // which will in turn request a refresh of the image.\n",
       "    this.send_message('resize', {'width': x_pixels, 'height': y_pixels});\n",
       "}\n",
       "\n",
       "mpl.figure.prototype.send_message = function(type, properties) {\n",
       "    properties['type'] = type;\n",
       "    properties['figure_id'] = this.id;\n",
       "    this.ws.send(JSON.stringify(properties));\n",
       "}\n",
       "\n",
       "mpl.figure.prototype.send_draw_message = function() {\n",
       "    if (!this.waiting) {\n",
       "        this.waiting = true;\n",
       "        this.ws.send(JSON.stringify({type: \"draw\", figure_id: this.id}));\n",
       "    }\n",
       "}\n",
       "\n",
       "\n",
       "mpl.figure.prototype.handle_save = function(fig, msg) {\n",
       "    var format_dropdown = fig.format_dropdown;\n",
       "    var format = format_dropdown.options[format_dropdown.selectedIndex].value;\n",
       "    fig.ondownload(fig, format);\n",
       "}\n",
       "\n",
       "\n",
       "mpl.figure.prototype.handle_resize = function(fig, msg) {\n",
       "    var size = msg['size'];\n",
       "    if (size[0] != fig.canvas.width || size[1] != fig.canvas.height) {\n",
       "        fig._resize_canvas(size[0], size[1]);\n",
       "        fig.send_message(\"refresh\", {});\n",
       "    };\n",
       "}\n",
       "\n",
       "mpl.figure.prototype.handle_rubberband = function(fig, msg) {\n",
       "    var x0 = msg['x0'] / mpl.ratio;\n",
       "    var y0 = (fig.canvas.height - msg['y0']) / mpl.ratio;\n",
       "    var x1 = msg['x1'] / mpl.ratio;\n",
       "    var y1 = (fig.canvas.height - msg['y1']) / mpl.ratio;\n",
       "    x0 = Math.floor(x0) + 0.5;\n",
       "    y0 = Math.floor(y0) + 0.5;\n",
       "    x1 = Math.floor(x1) + 0.5;\n",
       "    y1 = Math.floor(y1) + 0.5;\n",
       "    var min_x = Math.min(x0, x1);\n",
       "    var min_y = Math.min(y0, y1);\n",
       "    var width = Math.abs(x1 - x0);\n",
       "    var height = Math.abs(y1 - y0);\n",
       "\n",
       "    fig.rubberband_context.clearRect(\n",
       "        0, 0, fig.canvas.width, fig.canvas.height);\n",
       "\n",
       "    fig.rubberband_context.strokeRect(min_x, min_y, width, height);\n",
       "}\n",
       "\n",
       "mpl.figure.prototype.handle_figure_label = function(fig, msg) {\n",
       "    // Updates the figure title.\n",
       "    fig.header.textContent = msg['label'];\n",
       "}\n",
       "\n",
       "mpl.figure.prototype.handle_cursor = function(fig, msg) {\n",
       "    var cursor = msg['cursor'];\n",
       "    switch(cursor)\n",
       "    {\n",
       "    case 0:\n",
       "        cursor = 'pointer';\n",
       "        break;\n",
       "    case 1:\n",
       "        cursor = 'default';\n",
       "        break;\n",
       "    case 2:\n",
       "        cursor = 'crosshair';\n",
       "        break;\n",
       "    case 3:\n",
       "        cursor = 'move';\n",
       "        break;\n",
       "    }\n",
       "    fig.rubberband_canvas.style.cursor = cursor;\n",
       "}\n",
       "\n",
       "mpl.figure.prototype.handle_message = function(fig, msg) {\n",
       "    fig.message.textContent = msg['message'];\n",
       "}\n",
       "\n",
       "mpl.figure.prototype.handle_draw = function(fig, msg) {\n",
       "    // Request the server to send over a new figure.\n",
       "    fig.send_draw_message();\n",
       "}\n",
       "\n",
       "mpl.figure.prototype.handle_image_mode = function(fig, msg) {\n",
       "    fig.image_mode = msg['mode'];\n",
       "}\n",
       "\n",
       "mpl.figure.prototype.updated_canvas_event = function() {\n",
       "    // Called whenever the canvas gets updated.\n",
       "    this.send_message(\"ack\", {});\n",
       "}\n",
       "\n",
       "// A function to construct a web socket function for onmessage handling.\n",
       "// Called in the figure constructor.\n",
       "mpl.figure.prototype._make_on_message_function = function(fig) {\n",
       "    return function socket_on_message(evt) {\n",
       "        if (evt.data instanceof Blob) {\n",
       "            /* FIXME: We get \"Resource interpreted as Image but\n",
       "             * transferred with MIME type text/plain:\" errors on\n",
       "             * Chrome.  But how to set the MIME type?  It doesn't seem\n",
       "             * to be part of the websocket stream */\n",
       "            evt.data.type = \"image/png\";\n",
       "\n",
       "            /* Free the memory for the previous frames */\n",
       "            if (fig.imageObj.src) {\n",
       "                (window.URL || window.webkitURL).revokeObjectURL(\n",
       "                    fig.imageObj.src);\n",
       "            }\n",
       "\n",
       "            fig.imageObj.src = (window.URL || window.webkitURL).createObjectURL(\n",
       "                evt.data);\n",
       "            fig.updated_canvas_event();\n",
       "            fig.waiting = false;\n",
       "            return;\n",
       "        }\n",
       "        else if (typeof evt.data === 'string' && evt.data.slice(0, 21) == \"data:image/png;base64\") {\n",
       "            fig.imageObj.src = evt.data;\n",
       "            fig.updated_canvas_event();\n",
       "            fig.waiting = false;\n",
       "            return;\n",
       "        }\n",
       "\n",
       "        var msg = JSON.parse(evt.data);\n",
       "        var msg_type = msg['type'];\n",
       "\n",
       "        // Call the  \"handle_{type}\" callback, which takes\n",
       "        // the figure and JSON message as its only arguments.\n",
       "        try {\n",
       "            var callback = fig[\"handle_\" + msg_type];\n",
       "        } catch (e) {\n",
       "            console.log(\"No handler for the '\" + msg_type + \"' message type: \", msg);\n",
       "            return;\n",
       "        }\n",
       "\n",
       "        if (callback) {\n",
       "            try {\n",
       "                // console.log(\"Handling '\" + msg_type + \"' message: \", msg);\n",
       "                callback(fig, msg);\n",
       "            } catch (e) {\n",
       "                console.log(\"Exception inside the 'handler_\" + msg_type + \"' callback:\", e, e.stack, msg);\n",
       "            }\n",
       "        }\n",
       "    };\n",
       "}\n",
       "\n",
       "// from http://stackoverflow.com/questions/1114465/getting-mouse-location-in-canvas\n",
       "mpl.findpos = function(e) {\n",
       "    //this section is from http://www.quirksmode.org/js/events_properties.html\n",
       "    var targ;\n",
       "    if (!e)\n",
       "        e = window.event;\n",
       "    if (e.target)\n",
       "        targ = e.target;\n",
       "    else if (e.srcElement)\n",
       "        targ = e.srcElement;\n",
       "    if (targ.nodeType == 3) // defeat Safari bug\n",
       "        targ = targ.parentNode;\n",
       "\n",
       "    // jQuery normalizes the pageX and pageY\n",
       "    // pageX,Y are the mouse positions relative to the document\n",
       "    // offset() returns the position of the element relative to the document\n",
       "    var x = e.pageX - $(targ).offset().left;\n",
       "    var y = e.pageY - $(targ).offset().top;\n",
       "\n",
       "    return {\"x\": x, \"y\": y};\n",
       "};\n",
       "\n",
       "/*\n",
       " * return a copy of an object with only non-object keys\n",
       " * we need this to avoid circular references\n",
       " * http://stackoverflow.com/a/24161582/3208463\n",
       " */\n",
       "function simpleKeys (original) {\n",
       "  return Object.keys(original).reduce(function (obj, key) {\n",
       "    if (typeof original[key] !== 'object')\n",
       "        obj[key] = original[key]\n",
       "    return obj;\n",
       "  }, {});\n",
       "}\n",
       "\n",
       "mpl.figure.prototype.mouse_event = function(event, name) {\n",
       "    var canvas_pos = mpl.findpos(event)\n",
       "\n",
       "    if (name === 'button_press')\n",
       "    {\n",
       "        this.canvas.focus();\n",
       "        this.canvas_div.focus();\n",
       "    }\n",
       "\n",
       "    var x = canvas_pos.x * mpl.ratio;\n",
       "    var y = canvas_pos.y * mpl.ratio;\n",
       "\n",
       "    this.send_message(name, {x: x, y: y, button: event.button,\n",
       "                             step: event.step,\n",
       "                             guiEvent: simpleKeys(event)});\n",
       "\n",
       "    /* This prevents the web browser from automatically changing to\n",
       "     * the text insertion cursor when the button is pressed.  We want\n",
       "     * to control all of the cursor setting manually through the\n",
       "     * 'cursor' event from matplotlib */\n",
       "    event.preventDefault();\n",
       "    return false;\n",
       "}\n",
       "\n",
       "mpl.figure.prototype._key_event_extra = function(event, name) {\n",
       "    // Handle any extra behaviour associated with a key event\n",
       "}\n",
       "\n",
       "mpl.figure.prototype.key_event = function(event, name) {\n",
       "\n",
       "    // Prevent repeat events\n",
       "    if (name == 'key_press')\n",
       "    {\n",
       "        if (event.which === this._key)\n",
       "            return;\n",
       "        else\n",
       "            this._key = event.which;\n",
       "    }\n",
       "    if (name == 'key_release')\n",
       "        this._key = null;\n",
       "\n",
       "    var value = '';\n",
       "    if (event.ctrlKey && event.which != 17)\n",
       "        value += \"ctrl+\";\n",
       "    if (event.altKey && event.which != 18)\n",
       "        value += \"alt+\";\n",
       "    if (event.shiftKey && event.which != 16)\n",
       "        value += \"shift+\";\n",
       "\n",
       "    value += 'k';\n",
       "    value += event.which.toString();\n",
       "\n",
       "    this._key_event_extra(event, name);\n",
       "\n",
       "    this.send_message(name, {key: value,\n",
       "                             guiEvent: simpleKeys(event)});\n",
       "    return false;\n",
       "}\n",
       "\n",
       "mpl.figure.prototype.toolbar_button_onclick = function(name) {\n",
       "    if (name == 'download') {\n",
       "        this.handle_save(this, null);\n",
       "    } else {\n",
       "        this.send_message(\"toolbar_button\", {name: name});\n",
       "    }\n",
       "};\n",
       "\n",
       "mpl.figure.prototype.toolbar_button_onmouseover = function(tooltip) {\n",
       "    this.message.textContent = tooltip;\n",
       "};\n",
       "mpl.toolbar_items = [[\"Home\", \"Reset original view\", \"fa fa-home icon-home\", \"home\"], [\"Back\", \"Back to  previous view\", \"fa fa-arrow-left icon-arrow-left\", \"back\"], [\"Forward\", \"Forward to next view\", \"fa fa-arrow-right icon-arrow-right\", \"forward\"], [\"\", \"\", \"\", \"\"], [\"Pan\", \"Pan axes with left mouse, zoom with right\", \"fa fa-arrows icon-move\", \"pan\"], [\"Zoom\", \"Zoom to rectangle\", \"fa fa-square-o icon-check-empty\", \"zoom\"], [\"\", \"\", \"\", \"\"], [\"Download\", \"Download plot\", \"fa fa-floppy-o icon-save\", \"download\"]];\n",
       "\n",
       "mpl.extensions = [\"eps\", \"jpeg\", \"pdf\", \"png\", \"ps\", \"raw\", \"svg\", \"tif\"];\n",
       "\n",
       "mpl.default_extension = \"png\";var comm_websocket_adapter = function(comm) {\n",
       "    // Create a \"websocket\"-like object which calls the given IPython comm\n",
       "    // object with the appropriate methods. Currently this is a non binary\n",
       "    // socket, so there is still some room for performance tuning.\n",
       "    var ws = {};\n",
       "\n",
       "    ws.close = function() {\n",
       "        comm.close()\n",
       "    };\n",
       "    ws.send = function(m) {\n",
       "        //console.log('sending', m);\n",
       "        comm.send(m);\n",
       "    };\n",
       "    // Register the callback with on_msg.\n",
       "    comm.on_msg(function(msg) {\n",
       "        //console.log('receiving', msg['content']['data'], msg);\n",
       "        // Pass the mpl event to the overriden (by mpl) onmessage function.\n",
       "        ws.onmessage(msg['content']['data'])\n",
       "    });\n",
       "    return ws;\n",
       "}\n",
       "\n",
       "mpl.mpl_figure_comm = function(comm, msg) {\n",
       "    // This is the function which gets called when the mpl process\n",
       "    // starts-up an IPython Comm through the \"matplotlib\" channel.\n",
       "\n",
       "    var id = msg.content.data.id;\n",
       "    // Get hold of the div created by the display call when the Comm\n",
       "    // socket was opened in Python.\n",
       "    var element = $(\"#\" + id);\n",
       "    var ws_proxy = comm_websocket_adapter(comm)\n",
       "\n",
       "    function ondownload(figure, format) {\n",
       "        window.open(figure.imageObj.src);\n",
       "    }\n",
       "\n",
       "    var fig = new mpl.figure(id, ws_proxy,\n",
       "                           ondownload,\n",
       "                           element.get(0));\n",
       "\n",
       "    // Call onopen now - mpl needs it, as it is assuming we've passed it a real\n",
       "    // web socket which is closed, not our websocket->open comm proxy.\n",
       "    ws_proxy.onopen();\n",
       "\n",
       "    fig.parent_element = element.get(0);\n",
       "    fig.cell_info = mpl.find_output_cell(\"<div id='\" + id + \"'></div>\");\n",
       "    if (!fig.cell_info) {\n",
       "        console.error(\"Failed to find cell for figure\", id, fig);\n",
       "        return;\n",
       "    }\n",
       "\n",
       "    var output_index = fig.cell_info[2]\n",
       "    var cell = fig.cell_info[0];\n",
       "\n",
       "};\n",
       "\n",
       "mpl.figure.prototype.handle_close = function(fig, msg) {\n",
       "    var width = fig.canvas.width/mpl.ratio\n",
       "    fig.root.unbind('remove')\n",
       "\n",
       "    // Update the output cell to use the data from the current canvas.\n",
       "    fig.push_to_output();\n",
       "    var dataURL = fig.canvas.toDataURL();\n",
       "    // Re-enable the keyboard manager in IPython - without this line, in FF,\n",
       "    // the notebook keyboard shortcuts fail.\n",
       "    IPython.keyboard_manager.enable()\n",
       "    $(fig.parent_element).html('<img src=\"' + dataURL + '\" width=\"' + width + '\">');\n",
       "    fig.close_ws(fig, msg);\n",
       "}\n",
       "\n",
       "mpl.figure.prototype.close_ws = function(fig, msg){\n",
       "    fig.send_message('closing', msg);\n",
       "    // fig.ws.close()\n",
       "}\n",
       "\n",
       "mpl.figure.prototype.push_to_output = function(remove_interactive) {\n",
       "    // Turn the data on the canvas into data in the output cell.\n",
       "    var width = this.canvas.width/mpl.ratio\n",
       "    var dataURL = this.canvas.toDataURL();\n",
       "    this.cell_info[1]['text/html'] = '<img src=\"' + dataURL + '\" width=\"' + width + '\">';\n",
       "}\n",
       "\n",
       "mpl.figure.prototype.updated_canvas_event = function() {\n",
       "    // Tell IPython that the notebook contents must change.\n",
       "    IPython.notebook.set_dirty(true);\n",
       "    this.send_message(\"ack\", {});\n",
       "    var fig = this;\n",
       "    // Wait a second, then push the new image to the DOM so\n",
       "    // that it is saved nicely (might be nice to debounce this).\n",
       "    setTimeout(function () { fig.push_to_output() }, 1000);\n",
       "}\n",
       "\n",
       "mpl.figure.prototype._init_toolbar = function() {\n",
       "    var fig = this;\n",
       "\n",
       "    var nav_element = $('<div/>')\n",
       "    nav_element.attr('style', 'width: 100%');\n",
       "    this.root.append(nav_element);\n",
       "\n",
       "    // Define a callback function for later on.\n",
       "    function toolbar_event(event) {\n",
       "        return fig.toolbar_button_onclick(event['data']);\n",
       "    }\n",
       "    function toolbar_mouse_event(event) {\n",
       "        return fig.toolbar_button_onmouseover(event['data']);\n",
       "    }\n",
       "\n",
       "    for(var toolbar_ind in mpl.toolbar_items){\n",
       "        var name = mpl.toolbar_items[toolbar_ind][0];\n",
       "        var tooltip = mpl.toolbar_items[toolbar_ind][1];\n",
       "        var image = mpl.toolbar_items[toolbar_ind][2];\n",
       "        var method_name = mpl.toolbar_items[toolbar_ind][3];\n",
       "\n",
       "        if (!name) { continue; };\n",
       "\n",
       "        var button = $('<button class=\"btn btn-default\" href=\"#\" title=\"' + name + '\"><i class=\"fa ' + image + ' fa-lg\"></i></button>');\n",
       "        button.click(method_name, toolbar_event);\n",
       "        button.mouseover(tooltip, toolbar_mouse_event);\n",
       "        nav_element.append(button);\n",
       "    }\n",
       "\n",
       "    // Add the status bar.\n",
       "    var status_bar = $('<span class=\"mpl-message\" style=\"text-align:right; float: right;\"/>');\n",
       "    nav_element.append(status_bar);\n",
       "    this.message = status_bar[0];\n",
       "\n",
       "    // Add the close button to the window.\n",
       "    var buttongrp = $('<div class=\"btn-group inline pull-right\"></div>');\n",
       "    var button = $('<button class=\"btn btn-mini btn-primary\" href=\"#\" title=\"Stop Interaction\"><i class=\"fa fa-power-off icon-remove icon-large\"></i></button>');\n",
       "    button.click(function (evt) { fig.handle_close(fig, {}); } );\n",
       "    button.mouseover('Stop Interaction', toolbar_mouse_event);\n",
       "    buttongrp.append(button);\n",
       "    var titlebar = this.root.find($('.ui-dialog-titlebar'));\n",
       "    titlebar.prepend(buttongrp);\n",
       "}\n",
       "\n",
       "mpl.figure.prototype._root_extra_style = function(el){\n",
       "    var fig = this\n",
       "    el.on(\"remove\", function(){\n",
       "\tfig.close_ws(fig, {});\n",
       "    });\n",
       "}\n",
       "\n",
       "mpl.figure.prototype._canvas_extra_style = function(el){\n",
       "    // this is important to make the div 'focusable\n",
       "    el.attr('tabindex', 0)\n",
       "    // reach out to IPython and tell the keyboard manager to turn it's self\n",
       "    // off when our div gets focus\n",
       "\n",
       "    // location in version 3\n",
       "    if (IPython.notebook.keyboard_manager) {\n",
       "        IPython.notebook.keyboard_manager.register_events(el);\n",
       "    }\n",
       "    else {\n",
       "        // location in version 2\n",
       "        IPython.keyboard_manager.register_events(el);\n",
       "    }\n",
       "\n",
       "}\n",
       "\n",
       "mpl.figure.prototype._key_event_extra = function(event, name) {\n",
       "    var manager = IPython.notebook.keyboard_manager;\n",
       "    if (!manager)\n",
       "        manager = IPython.keyboard_manager;\n",
       "\n",
       "    // Check for shift+enter\n",
       "    if (event.shiftKey && event.which == 13) {\n",
       "        this.canvas_div.blur();\n",
       "        // select the cell after this one\n",
       "        var index = IPython.notebook.find_cell_index(this.cell_info[0]);\n",
       "        IPython.notebook.select(index + 1);\n",
       "    }\n",
       "}\n",
       "\n",
       "mpl.figure.prototype.handle_save = function(fig, msg) {\n",
       "    fig.ondownload(fig, null);\n",
       "}\n",
       "\n",
       "\n",
       "mpl.find_output_cell = function(html_output) {\n",
       "    // Return the cell and output element which can be found *uniquely* in the notebook.\n",
       "    // Note - this is a bit hacky, but it is done because the \"notebook_saving.Notebook\"\n",
       "    // IPython event is triggered only after the cells have been serialised, which for\n",
       "    // our purposes (turning an active figure into a static one), is too late.\n",
       "    var cells = IPython.notebook.get_cells();\n",
       "    var ncells = cells.length;\n",
       "    for (var i=0; i<ncells; i++) {\n",
       "        var cell = cells[i];\n",
       "        if (cell.cell_type === 'code'){\n",
       "            for (var j=0; j<cell.output_area.outputs.length; j++) {\n",
       "                var data = cell.output_area.outputs[j];\n",
       "                if (data.data) {\n",
       "                    // IPython >= 3 moved mimebundle to data attribute of output\n",
       "                    data = data.data;\n",
       "                }\n",
       "                if (data['text/html'] == html_output) {\n",
       "                    return [cell, data, j];\n",
       "                }\n",
       "            }\n",
       "        }\n",
       "    }\n",
       "}\n",
       "\n",
       "// Register the function which deals with the matplotlib target/channel.\n",
       "// The kernel may be null if the page has been refreshed.\n",
       "if (IPython.notebook.kernel != null) {\n",
       "    IPython.notebook.kernel.comm_manager.register_target('matplotlib', mpl.mpl_figure_comm);\n",
       "}\n"
      ],
      "text/plain": [
       "<IPython.core.display.Javascript object>"
      ]
     },
     "metadata": {},
     "output_type": "display_data"
    },
    {
     "data": {
      "text/html": [
       "<img src=\"data:image/png;base64,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\" width=\"576\">"
      ],
      "text/plain": [
       "<IPython.core.display.HTML object>"
      ]
     },
     "metadata": {},
     "output_type": "display_data"
    }
   ],
   "source": [
    "idx = runKmeans(X, initial_centroids, 10)"
   ]
  },
  {
   "cell_type": "markdown",
   "metadata": {},
   "source": [
    "### K-means clustering with scikit"
   ]
  },
  {
   "cell_type": "code",
   "execution_count": 12,
   "metadata": {
    "collapsed": true
   },
   "outputs": [],
   "source": [
    "# Load an example dataset\n",
    "data = loadmat('ex7data2.mat')\n",
    "X = data['X']"
   ]
  },
  {
   "cell_type": "code",
   "execution_count": 13,
   "metadata": {
    "collapsed": true
   },
   "outputs": [],
   "source": [
    "# Select an initial set of centroid\n",
    "K = 3 # 3 centroids\n",
    "initial_centroids = np.array([[3,3],[6,2],[8,5]])"
   ]
  },
  {
   "cell_type": "code",
   "execution_count": 14,
   "metadata": {
    "collapsed": false
   },
   "outputs": [],
   "source": [
    "# run K-means clustering with sklearn\n",
    "kmeans = KMeans(n_clusters=K, init = initial_centroids, max_iter = 10).fit(X)\n",
    "\n",
    "# get cluster id associated to each point\n",
    "idx = kmeans.predict(X)\n",
    "\n",
    "# get cluster centers\n",
    "centroids = kmeans.cluster_centers_"
   ]
  },
  {
   "cell_type": "code",
   "execution_count": 15,
   "metadata": {
    "collapsed": false
   },
   "outputs": [
    {
     "data": {
      "text/plain": [
       "[<matplotlib.lines.Line2D at 0xaf47eb8>]"
      ]
     },
     "execution_count": 15,
     "metadata": {},
     "output_type": "execute_result"
    },
    {
     "data": {
      "image/png": "[encoded data removed]",
      "text/plain": [
       "<matplotlib.figure.Figure at 0xaad2048>"
      ]
     },
     "metadata": {},
     "output_type": "display_data"
    }
   ],
   "source": [
    "# Plot clusters\n",
    "\n",
    "fig = plt.figure(figsize=(8,6))\n",
    "sub = fig.add_subplot(111)\n",
    "\n",
    "sub.plot(X[:,0][idx==0],X[:,1][idx==0],'ro')\n",
    "sub.plot(centroids[0,0], centroids[0,1],'rx', ms = 15)\n",
    "sub.plot(X[:,0][idx==1],X[:,1][idx==1],'go')\n",
    "sub.plot(centroids[1,0], centroids[1,1],'gx', ms = 15)\n",
    "sub.plot(X[:,0][idx==2],X[:,1][idx==2],'bo')\n",
    "sub.plot(centroids[2,0], centroids[2,1],'bx', ms = 15)\n"
   ]
  },
  {
   "cell_type": "markdown",
   "metadata": {
    "collapsed": true
   },
   "source": [
    "### Part 4: K-Means Clustering on Pixels\n",
    "In this exercise, we will use K-Means to compress an image. <br>\n",
    "To do this, wewill first run K-Means on the colors of the pixels in the image and then we will map each pixel onto its closest centroid."
   ]
  },
  {
   "cell_type": "markdown",
   "metadata": {},
   "source": [
    "#### Load an image of a bird"
   ]
  },
  {
   "cell_type": "code",
   "execution_count": 16,
   "metadata": {
    "collapsed": false
   },
   "outputs": [],
   "source": [
    "A = imread('bird_small.png')"
   ]
  },
  {
   "cell_type": "code",
   "execution_count": 17,
   "metadata": {
    "collapsed": false
   },
   "outputs": [
    {
     "data": {
      "text/plain": [
       "<matplotlib.image.AxesImage at 0xb075cc0>"
      ]
     },
     "execution_count": 17,
     "metadata": {},
     "output_type": "execute_result"
    },
    {
     "data": {
      "image/png": "[encoded data removed]",
      "text/plain": [
       "<matplotlib.figure.Figure at 0xb008e10>"
      ]
     },
     "metadata": {},
     "output_type": "display_data"
    }
   ],
   "source": [
    "plt.imshow(A)"
   ]
  },
  {
   "cell_type": "code",
   "execution_count": 18,
   "metadata": {
    "collapsed": false
   },
   "outputs": [],
   "source": [
    "A = A / 255 # Divide by 255 so that all values are in the range 0 - 1"
   ]
  },
  {
   "cell_type": "code",
   "execution_count": 19,
   "metadata": {
    "collapsed": false
   },
   "outputs": [],
   "source": [
    "img_size = A.shape"
   ]
  },
  {
   "cell_type": "code",
   "execution_count": 20,
   "metadata": {
    "collapsed": false
   },
   "outputs": [
    {
     "data": {
      "text/plain": [
       "(128, 128, 3)"
      ]
     },
     "execution_count": 20,
     "metadata": {},
     "output_type": "execute_result"
    }
   ],
   "source": [
    "img_size "
   ]
  },
  {
   "cell_type": "markdown",
   "metadata": {},
   "source": [
    "####  Reshape the image into an Nx3 matrix where N = number of pixels.\n",
    "Each row will contain the Red, Green and Blue pixel values <br> This gives us our dataset matrix X that we will use K-Means on."
   ]
  },
  {
   "cell_type": "code",
   "execution_count": 21,
   "metadata": {
    "collapsed": true
   },
   "outputs": [],
   "source": [
    "X = A.reshape(img_size[0]*img_size[1], 3)"
   ]
  },
  {
   "cell_type": "code",
   "execution_count": 22,
   "metadata": {
    "collapsed": false
   },
   "outputs": [
    {
     "data": {
      "text/plain": [
       "(16384, 3)"
      ]
     },
     "execution_count": 22,
     "metadata": {},
     "output_type": "execute_result"
    }
   ],
   "source": [
    "# The shape is now (nb of pixels * 3 )\n",
    "X.shape"
   ]
  },
  {
   "cell_type": "markdown",
   "metadata": {},
   "source": [
    "#### Run K-means"
   ]
  },
  {
   "cell_type": "code",
   "execution_count": 23,
   "metadata": {
    "collapsed": true
   },
   "outputs": [],
   "source": [
    "K = 16\n",
    "max_iters = 10"
   ]
  },
  {
   "cell_type": "code",
   "execution_count": 24,
   "metadata": {
    "collapsed": true
   },
   "outputs": [],
   "source": [
    "# run k means using k-means++ initialization (instead of random) whcih speeds up convergence\n",
    "kmeans = KMeans(n_clusters=K, init ='k-means++' , max_iter = max_iters).fit(X)"
   ]
  },
  {
   "cell_type": "markdown",
   "metadata": {},
   "source": [
    "### Part 5: Image Compression\n",
    "In this part of the exercise, we will use the clusters of K-Means to\n",
    "compress an image. <br> \n",
    "To do this, we first find the closest clusters for each example."
   ]
  },
  {
   "cell_type": "code",
   "execution_count": 25,
   "metadata": {
    "collapsed": true
   },
   "outputs": [],
   "source": [
    "# We use built-in pairwise_distances_argmin_min metrics\n",
    "idx, _ = pairwise_distances_argmin_min(X, kmeans.cluster_centers_)"
   ]
  },
  {
   "cell_type": "markdown",
   "metadata": {},
   "source": [
    "Essentially, now we have represented the image X as in terms of the indices in idx. <br>\n",
    "We can now recover the image from the indices (idx) by mapping each pixel (specified by its index in idx) to the centroid value"
   ]
  },
  {
   "cell_type": "code",
   "execution_count": 26,
   "metadata": {
    "collapsed": true
   },
   "outputs": [],
   "source": [
    "X_recovered = kmeans.cluster_centers_[idx]"
   ]
  },
  {
   "cell_type": "code",
   "execution_count": 27,
   "metadata": {
    "collapsed": false
   },
   "outputs": [],
   "source": [
    "# Reshape to the original \n",
    "X_recovered  = X_recovered.reshape(img_size[0], img_size[1],3)"
   ]
  },
  {
   "cell_type": "code",
   "execution_count": 28,
   "metadata": {
    "collapsed": false
   },
   "outputs": [
    {
     "data": {
      "text/plain": [
       "<matplotlib.image.AxesImage at 0xb32dc18>"
      ]
     },
     "execution_count": 28,
     "metadata": {},
     "output_type": "execute_result"
    },
    {
     "data": {
      "image/png": "[encoded data removed]",
      "text/plain": [
       "<matplotlib.figure.Figure at 0xb025048>"
      ]
     },
     "metadata": {},
     "output_type": "display_data"
    }
   ],
   "source": [
    "plt.imshow(X_recovered)"
   ]
  },
  {
   "cell_type": "code",
   "execution_count": 29,
   "metadata": {
    "collapsed": false
   },
   "outputs": [
    {
     "data": {
      "text/plain": [
       "<matplotlib.image.AxesImage at 0x94d87f0>"
      ]
     },
     "execution_count": 29,
     "metadata": {},
     "output_type": "execute_result"
    },
    {
     "data": {
      "image/png": "[encoded data removed]",
      "text/plain": [
       "<matplotlib.figure.Figure at 0xb0ddcc0>"
      ]
     },
     "metadata": {},
     "output_type": "display_data"
    }
   ],
   "source": [
    "fig = plt.figure(figsize=(8,8))\n",
    "original = fig.add_subplot(121, label = 'Original')\n",
    "compressed = fig.add_subplot(122, label = 'Compressed')\n",
    "original.axis('off')\n",
    "compressed.axis('off')\n",
    "original.set_title('Original')\n",
    "compressed.set_title('Compressed with {:d} colors'.format(K))\n",
    "original.imshow(imread('bird_small.png'))\n",
    "compressed.imshow(X_recovered)\n"
   ]
  }
 ],
 "metadata": {
  "kernelspec": {
   "display_name": "Python 3",
   "language": "python",
   "name": "python3"
  },
  "language_info": {
   "codemirror_mode": {
    "name": "ipython",
    "version": 3
   },
   "file_extension": ".py",
   "mimetype": "text/x-python",
   "name": "python",
   "nbconvert_exporter": "python",
   "pygments_lexer": "ipython3",
   "version": "3.6.0"
  }
 },
 "nbformat": 4,
 "nbformat_minor": 2
}
