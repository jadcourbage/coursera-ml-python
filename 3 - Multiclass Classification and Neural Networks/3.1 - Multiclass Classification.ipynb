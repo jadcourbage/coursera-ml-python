{
 "cells": [
  {
   "cell_type": "markdown",
   "metadata": {},
   "source": [
    "## Machine Learning Online Class - Exercise 3 | Part 1: One-vs-all\n",
    "Requires : scipy, scikit-learn"
   ]
  },
  {
   "cell_type": "markdown",
   "metadata": {},
   "source": [
    "### Introduction"
   ]
  },
  {
   "cell_type": "markdown",
   "metadata": {},
   "source": [
    "For this exercise, you will use logistic regression and neural networks to recognize handwritten digits (from 0 to 9).<br>\n",
    "Automated handwritten digit recognition is widely used today - from recognizing zip codes (postal codes) on mail envelopes to recognizing amounts written on bank checks.<br><br>\n",
    "This exercise will show you how the methods you've learned can be used for this classification task.<br>\n",
    "In the first part of the exercise, you will extend your previous implementation of logistic regression and apply it to one-vs-all classification."
   ]
  },
  {
   "cell_type": "markdown",
   "metadata": {},
   "source": [
    "### Python imports"
   ]
  },
  {
   "cell_type": "code",
   "execution_count": 1,
   "metadata": {
    "collapsed": true
   },
   "outputs": [],
   "source": [
    "import warnings\n",
    "warnings.filterwarnings('ignore')\n",
    "\n",
    "import numpy as np\n",
    "\n",
    "import matplotlib.pyplot as plt\n",
    "\n",
    "from scipy.optimize import minimize\n",
    "from scipy.io import loadmat\n",
    "\n",
    "from IPython.display import HTML\n",
    "\n",
    "from sklearn.linear_model import LogisticRegression\n",
    "from sklearn.multiclass import OneVsRestClassifier\n",
    "from sklearn.metrics import accuracy_score\n",
    "\n",
    "%matplotlib inline"
   ]
  },
  {
   "cell_type": "markdown",
   "metadata": {},
   "source": [
    "### Setup the parameters"
   ]
  },
  {
   "cell_type": "code",
   "execution_count": 2,
   "metadata": {
    "collapsed": true
   },
   "outputs": [],
   "source": [
    "input_layer_size  = 400  #20x20 Input Images of Digits\n",
    "num_labels = 10          # 10 labels, from 1 to 10"
   ]
  },
  {
   "cell_type": "markdown",
   "metadata": {},
   "source": [
    "### Part 1: Loading and Visualizing Data"
   ]
  },
  {
   "cell_type": "markdown",
   "metadata": {},
   "source": [
    "#### Loading the data"
   ]
  },
  {
   "cell_type": "markdown",
   "metadata": {},
   "source": [
    "You are given a data set in ex3data1.mat that contains 5000 training examples of handwritten digits.<br>\n",
    "There are 5000 training examples in ex3data1.mat, where each training example is a 20 pixel by 20 pixel grayscale image of the digit. <br>\n",
    "Each pixel is represented by a floating point number indicating the grayscale intensity at that location. The 20 by 20 grid of pixels is \"unrolled\" into a 400-dimensional vector. <br>\n",
    "Each of these training examples becomes a single row in our data matrix X. <br>\n",
    "This gives us a 5000 by 400 matrix X where every row is a training example for a handwritten digit image.<br><br>"
   ]
  },
  {
   "cell_type": "markdown",
   "metadata": {},
   "source": [
    "$$ X=\n",
    "\\quad\n",
    "\\begin{bmatrix} \n",
    "- & (x^{(1)})^T & - \\\\\n",
    "- & (x^{(2)})^T & - \\\\\n",
    "  &\\vdots & \\\\\n",
    "- & (x^{(m)})^T & - \n",
    "\\end{bmatrix}\n",
    "$$"
   ]
  },
  {
   "cell_type": "markdown",
   "metadata": {},
   "source": [
    "The second part of the training set is a 5000-dimensional vector y that contains labels for the training set. <br>\n",
    "To make things more compatible with Octave/MATLAB indexing, where there is no zero index, we have mapped the digit zero to the value ten.  <br>\n",
    "Therefore, a \"0\" digit is labeled as \"10\", while the digits \"1\" to \"9\" are labeled as \"1\" to \"9\" in their natural order."
   ]
  },
  {
   "cell_type": "code",
   "execution_count": 3,
   "metadata": {
    "collapsed": true
   },
   "outputs": [],
   "source": [
    "data = loadmat('ex3data1.mat')"
   ]
  },
  {
   "cell_type": "code",
   "execution_count": 4,
   "metadata": {
    "collapsed": true
   },
   "outputs": [],
   "source": [
    "X = data['X']\n",
    "y = data['y']"
   ]
  },
  {
   "cell_type": "code",
   "execution_count": 5,
   "metadata": {
    "collapsed": false
   },
   "outputs": [
    {
     "data": {
      "text/plain": [
       "(5000, 400)"
      ]
     },
     "execution_count": 5,
     "metadata": {},
     "output_type": "execute_result"
    }
   ],
   "source": [
    "X.shape"
   ]
  },
  {
   "cell_type": "code",
   "execution_count": 6,
   "metadata": {
    "collapsed": true
   },
   "outputs": [],
   "source": [
    "m = len(X)"
   ]
  },
  {
   "cell_type": "markdown",
   "metadata": {},
   "source": [
    "#### Randomly select 100 data points to display"
   ]
  },
  {
   "cell_type": "code",
   "execution_count": 7,
   "metadata": {
    "collapsed": true
   },
   "outputs": [],
   "source": [
    "rand_indices = np.random.permutation(m)\n",
    "sel = X[rand_indices[:100],:]"
   ]
  },
  {
   "cell_type": "code",
   "execution_count": 8,
   "metadata": {
    "collapsed": true
   },
   "outputs": [],
   "source": [
    "def displayData(images):\n",
    "    \n",
    "    n = len(images)\n",
    "    ncols = 10\n",
    "    dm = divmod(n,10)\n",
    "    \n",
    "    nrows = dm[0] if dm[0]==0 else dm[0]+1\n",
    "    \n",
    "    fig = plt.figure(figsize=(8, 8))\n",
    "\n",
    "    for i in range(n):\n",
    "        sub = fig.add_subplot(nrows, ncols, i + 1)\n",
    "        sub.axis('off')\n",
    "        sub.imshow(sel[i].reshape(20,20).T,cmap='gray')\n",
    "    \n",
    "    return fig"
   ]
  },
  {
   "cell_type": "code",
   "execution_count": 9,
   "metadata": {
    "collapsed": false
   },
   "outputs": [
    {
     "data": {
      "image/png": "[encoded data removed]",
      "text/plain": [
       "<matplotlib.figure.Figure at 0x91f8b70>"
      ]
     },
     "metadata": {},
     "output_type": "display_data"
    }
   ],
   "source": [
    "fig = displayData(sel)"
   ]
  },
  {
   "cell_type": "markdown",
   "metadata": {},
   "source": [
    "### Logistic regression cost and gradient functions"
   ]
  },
  {
   "cell_type": "code",
   "execution_count": 10,
   "metadata": {
    "collapsed": true
   },
   "outputs": [],
   "source": [
    "def sigmoid(z):\n",
    "    return 1 / (1 + np.exp(-z))   "
   ]
  },
  {
   "cell_type": "code",
   "execution_count": 11,
   "metadata": {
    "collapsed": true
   },
   "outputs": [],
   "source": [
    "def lrCostFunction(theta,X,y,lambda_reg=0):\n",
    "    m = len(y)    \n",
    "    theta = theta.reshape(-1,1)\n",
    "    \n",
    "    h = sigmoid(X.dot(theta))\n",
    "    J = (1/m) * (-y.T.dot(np.log(h))-(1-y).T.dot(np.log(1-h))) + (lambda_reg /(2 * m)) * np.sum(theta[1:,:]**2) \n",
    "    \n",
    "    return np.asscalar(J)"
   ]
  },
  {
   "cell_type": "code",
   "execution_count": 12,
   "metadata": {
    "collapsed": true
   },
   "outputs": [],
   "source": [
    "def lrGradFunction(theta,X,y,lambda_reg=0):\n",
    "    m = len(y)\n",
    "    theta = theta.reshape(-1,1)\n",
    "    \n",
    "    h = sigmoid(X.dot(theta))\n",
    "    grad = (1/m) * X.T.dot(h-y)\n",
    "    grad[1:,:] = grad[1:,:] + (lambda_reg / m) * theta[1:,:]\n",
    "\n",
    "    return grad.flatten()"
   ]
  },
  {
   "cell_type": "markdown",
   "metadata": {},
   "source": [
    "### Part 2a: Vectorize Logistic Regression"
   ]
  },
  {
   "cell_type": "code",
   "execution_count": 13,
   "metadata": {
    "collapsed": false
   },
   "outputs": [],
   "source": [
    "theta_t = np.array([-2,-1,1,2])\n",
    "X_t = np.c_[np.ones((5)),(np.arange(1,16)/10).reshape(5,3, order='F')]\n",
    "y_t = np.array([1,0,1,0,1]).astype('int').reshape(5,-1)\n",
    "lambda_t = 3"
   ]
  },
  {
   "cell_type": "code",
   "execution_count": 14,
   "metadata": {
    "collapsed": false
   },
   "outputs": [],
   "source": [
    "J_t = lrCostFunction(theta_t,X_t,y_t,lambda_t)\n",
    "grad_t = lrGradFunction(theta_t,X_t,y_t,lambda_t)"
   ]
  },
  {
   "cell_type": "code",
   "execution_count": 15,
   "metadata": {
    "collapsed": false
   },
   "outputs": [
    {
     "name": "stdout",
     "output_type": "stream",
     "text": [
      "Cost : 2.534819 \n",
      "\n",
      "Expected cost : 2.534819\n",
      "\n",
      "Gradients : \n",
      " [[ 0.14656137]\n",
      " [-0.54855841]\n",
      " [ 0.72472227]\n",
      " [ 1.39800296]]\n",
      "\n",
      "Expected gradients :\n",
      "  0.146561\n",
      " -0.548558\n",
      " 0.724722\n",
      " 1.398003\n",
      "\n"
     ]
    }
   ],
   "source": [
    "print(\"Cost : {:2.6f} \\n\".format(J_t))\n",
    "print('Expected cost : 2.534819\\n')\n",
    "print('Gradients : ')\n",
    "print(' {}'.format(grad_t.reshape(4,-1)))\n",
    "print('\\nExpected gradients :\\n  0.146561\\n -0.548558\\n 0.724722\\n 1.398003\\n')"
   ]
  },
  {
   "cell_type": "markdown",
   "metadata": {},
   "source": [
    "### Part 2b: One-vs-All Training"
   ]
  },
  {
   "cell_type": "code",
   "execution_count": 16,
   "metadata": {
    "collapsed": false
   },
   "outputs": [],
   "source": [
    "def oneVsAll(X, y, num_labels, lambda_reg):\n",
    "    m = X.shape[0]\n",
    "    n = X.shape[1]\n",
    "    \n",
    "    all_theta = np.zeros((num_labels, n+1))\n",
    "    \n",
    "    X = np.c_[np.ones(m),X]\n",
    "    \n",
    "    for c in range(1, num_labels + 1):\n",
    "        print(\"Training class {}\".format(c))        \n",
    "        initial_theta = np.zeros(n + 1).flatten()\n",
    "        find_optim_theta = minimize(fun=lrCostFunction, x0=initial_theta,\n",
    "                                    method = None, jac=lrGradFunction, \n",
    "                                    args = (X,y==c),\n",
    "                                    options={'maxiter':50})\n",
    "        theta_opt = find_optim_theta.x\n",
    "        all_theta[c-1,:]=theta_opt\n",
    "        \n",
    "    return all_theta        "
   ]
  },
  {
   "cell_type": "code",
   "execution_count": 17,
   "metadata": {
    "collapsed": false
   },
   "outputs": [
    {
     "name": "stdout",
     "output_type": "stream",
     "text": [
      "Training class 1\n",
      "Training class 2\n",
      "Training class 3\n",
      "Training class 4\n",
      "Training class 5\n",
      "Training class 6\n",
      "Training class 7\n",
      "Training class 8\n",
      "Training class 9\n",
      "Training class 10\n"
     ]
    }
   ],
   "source": [
    "lambda_reg = 0.1\n",
    "all_theta = oneVsAll(X, y, num_labels, lambda_reg)"
   ]
  },
  {
   "cell_type": "markdown",
   "metadata": {},
   "source": [
    "### Part 3: Predict for One-Vs-All"
   ]
  },
  {
   "cell_type": "code",
   "execution_count": 18,
   "metadata": {
    "collapsed": true
   },
   "outputs": [],
   "source": [
    "def predictOneVsAll(all_theta, X):\n",
    "    m = X.shape[0]\n",
    "    num_labels = all_theta.shape[0]\n",
    "    \n",
    "    X = np.c_[np.ones(m),X]\n",
    "    \n",
    "    # Return (m x num_labels) matrix containing for each sample, the probability that it belongs to a given class\n",
    "    prob_matrix = sigmoid(X.dot(all_theta.T))\n",
    "    \n",
    "    # Return m-vector, containing for each sample the class having the max probability\n",
    "    pred =  prob_matrix.argmax(axis=1)+1 # array is indexed from 0 to nbclasses -1\n",
    "    \n",
    "    return pred    "
   ]
  },
  {
   "cell_type": "code",
   "execution_count": 19,
   "metadata": {
    "collapsed": false
   },
   "outputs": [],
   "source": [
    "pred = predictOneVsAll(all_theta,X)"
   ]
  },
  {
   "cell_type": "code",
   "execution_count": 20,
   "metadata": {
    "collapsed": false
   },
   "outputs": [
    {
     "name": "stdout",
     "output_type": "stream",
     "text": [
      "Training set accuracy = 93.32 %\n"
     ]
    }
   ],
   "source": [
    "print(\"Training set accuracy = {:2.2f} %\".format(np.mean((pred.reshape(-1,1) == y).astype('int'))*100))"
   ]
  },
  {
   "cell_type": "markdown",
   "metadata": {},
   "source": [
    "### With sklearn"
   ]
  },
  {
   "cell_type": "code",
   "execution_count": 21,
   "metadata": {
    "collapsed": true
   },
   "outputs": [],
   "source": [
    "data = loadmat('ex3data1.mat')\n",
    "X = data['X']\n",
    "y = data['y']"
   ]
  },
  {
   "cell_type": "code",
   "execution_count": 22,
   "metadata": {
    "collapsed": false
   },
   "outputs": [],
   "source": [
    "lr = LogisticRegression(max_iter=50,\n",
    "                        intercept_scaling=0,\n",
    "                        solver='newton-cg',\n",
    "                        multi_class='ovr') # ovr = one-vs-rest aka one-vs-all"
   ]
  },
  {
   "cell_type": "code",
   "execution_count": 23,
   "metadata": {
    "collapsed": false
   },
   "outputs": [
    {
     "data": {
      "text/plain": [
       "LogisticRegression(C=1.0, class_weight=None, dual=False, fit_intercept=True,\n",
       "          intercept_scaling=0, max_iter=50, multi_class='ovr', n_jobs=1,\n",
       "          penalty='l2', random_state=None, solver='newton-cg', tol=0.0001,\n",
       "          verbose=0, warm_start=False)"
      ]
     },
     "execution_count": 23,
     "metadata": {},
     "output_type": "execute_result"
    }
   ],
   "source": [
    "lr.fit(X,y)"
   ]
  },
  {
   "cell_type": "code",
   "execution_count": 24,
   "metadata": {
    "collapsed": false
   },
   "outputs": [
    {
     "name": "stdout",
     "output_type": "stream",
     "text": [
      "Training set accuracy (sklearn) = 94.46 %\n"
     ]
    }
   ],
   "source": [
    "# Use accuracy_score method from sklean.metrics to compute accuracy\n",
    "print(\"Training set accuracy (sklearn) = {:2.2f} %\".format(accuracy_score(y,lr.predict(X))*100))"
   ]
  }
 ],
 "metadata": {
  "kernelspec": {
   "display_name": "Python 3",
   "language": "python",
   "name": "python3"
  },
  "language_info": {
   "codemirror_mode": {
    "name": "ipython",
    "version": 3
   },
   "file_extension": ".py",
   "mimetype": "text/x-python",
   "name": "python",
   "nbconvert_exporter": "python",
   "pygments_lexer": "ipython3",
   "version": "3.6.0"
  }
 },
 "nbformat": 4,
 "nbformat_minor": 2
}
